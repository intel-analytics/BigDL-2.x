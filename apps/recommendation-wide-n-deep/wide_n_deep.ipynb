{
 "cells": [
  {
   "cell_type": "markdown",
   "metadata": {
    "collapsed": true
   },
   "source": [
    "## Wide & Deep Recommender Demo"
   ]
  },
  {
   "cell_type": "markdown",
   "metadata": {},
   "source": [
    "Wide and Deep Learning Model, proposed by Google in 2016, is a DNN-Linear mixed model. Wide and deep learning has been used for Google App Store for their app recommendation.\n",
    "\n",
    "In this tutorial, we use Recommender API of Analytics Zoo to build a wide linear model and a deep neural network, which is called Wide&Deep model, and use optimizer of BigDL to train the neural network. Wide&Deep model combines the strength of memorization and generalization. It's useful for generic large-scale regression and classification problems with sparse input features (e.g., categorical features with a large number of possible feature values)."
   ]
  },
  {
   "cell_type": "markdown",
   "metadata": {},
   "source": [
    "## Intialization"
   ]
  },
  {
   "cell_type": "markdown",
   "metadata": {},
   "source": [
    "import necessary libraries"
   ]
  },
  {
   "cell_type": "code",
   "execution_count": 1,
   "metadata": {},
   "outputs": [
    {
     "name": "stdout",
     "output_type": "stream",
     "text": [
      "Populating the interactive namespace from numpy and matplotlib\n"
     ]
    }
   ],
   "source": [
    "from zoo.models.recommendation import *\n",
    "from zoo.models.recommendation.utils import *\n",
    "from zoo.common.nncontext import init_nncontext\n",
    "import os\n",
    "import sys\n",
    "import datetime as dt\n",
    "\n",
    "import matplotlib\n",
    "matplotlib.use('agg')\n",
    "import matplotlib.pyplot as plt\n",
    "%pylab inline"
   ]
  },
  {
   "cell_type": "markdown",
   "metadata": {},
   "source": [
    "Initilaize NN context, it will get a SparkContext with optimized configuration for BigDL performance."
   ]
  },
  {
   "cell_type": "code",
   "execution_count": 2,
   "metadata": {},
   "outputs": [],
   "source": [
    "sc = init_nncontext(\"WideAndDeep Example\")"
   ]
  },
  {
   "cell_type": "markdown",
   "metadata": {},
   "source": [
    "## Data Preparation"
   ]
  },
  {
   "cell_type": "markdown",
   "metadata": {},
   "source": [
    "Download and read movielens 1M rating data, understand the dimension."
   ]
  },
  {
   "cell_type": "code",
   "execution_count": 3,
   "metadata": {},
   "outputs": [
    {
     "name": "stdout",
     "output_type": "stream",
     "text": [
      "(1000209, 3)\n",
      "(1, 6040, 1, 3952, array([1, 2, 3, 4, 5]))\n"
     ]
    }
   ],
   "source": [
    "from bigdl.dataset import movielens\n",
    "movielens_data = movielens.get_id_ratings(\"/tmp/movielens/\")\n",
    "min_user_id = np.min(movielens_data[:,0])\n",
    "max_user_id = np.max(movielens_data[:,0])\n",
    "min_movie_id = np.min(movielens_data[:,1])\n",
    "max_movie_id = np.max(movielens_data[:,1])\n",
    "rating_labels= np.unique(movielens_data[:,2])\n",
    "\n",
    "print(movielens_data.shape)\n",
    "print(min_user_id, max_user_id, min_movie_id, max_movie_id, rating_labels)\n"
   ]
  },
  {
   "cell_type": "markdown",
   "metadata": {},
   "source": [
    "Transform ratings into dataframe, read user and item data into dataframes. Transform labels to zero-based since the original labels start from 1."
   ]
  },
  {
   "cell_type": "code",
   "execution_count": 4,
   "metadata": {
    "scrolled": true
   },
   "outputs": [],
   "source": [
    "sqlContext = SQLContext(sc)\n",
    "from pyspark.sql.types import *\n",
    "from pyspark.sql import Row\n",
    "\n",
    "Rating = Row(\"userId\", \"itemId\", \"label\")\n",
    "User = Row(\"userId\", \"gender\", \"age\" ,\"occupation\")\n",
    "Item = Row(\"itemId\", \"title\" ,\"genres\")\n",
    "\n",
    "ratings = sc.parallelize(movielens_data)\\\n",
    "    .map(lambda l: (int(l[0]), int(l[1]), int(l[2])-1))\\\n",
    "    .map(lambda r: Rating(*r))\n",
    "ratingDF = sqlContext.createDataFrame(ratings)\n",
    "\n",
    "users= sc.textFile(\"/tmp/movielens/ml-1m/users.dat\")\\\n",
    "    .map(lambda l: l.split(\"::\")[0:4])\\\n",
    "    .map(lambda l: (int(l[0]), l[1], int(l[2]), int(l[3])))\\\n",
    "    .map(lambda r: User(*r))\n",
    "userDF = sqlContext.createDataFrame(users)\n",
    "\n",
    "items = sc.textFile(\"/tmp/movielens/ml-1m/movies.dat\")\\\n",
    "    .map(lambda l: l.split(\"::\")[0:3])\\\n",
    "    .map(lambda l: (int(l[0]), l[1], l[2].split('|')[0]))\\\n",
    "    .map(lambda r: Item(*r))\n",
    "itemDF = sqlContext.createDataFrame(items)\n"
   ]
  },
  {
   "cell_type": "markdown",
   "metadata": {},
   "source": [
    "Join data together, and transform data. For example, gender is going be used as categorical feature, occupation and gender will be used as crossed features."
   ]
  },
  {
   "cell_type": "code",
   "execution_count": 5,
   "metadata": {},
   "outputs": [
    {
     "name": "stdout",
     "output_type": "stream",
     "text": [
      "+------+------+-----+------+---+----------+--------------+------+----------+\n",
      "|itemId|userId|label|gender|age|occupation|         title|genres|age-gender|\n",
      "+------+------+-----+------+---+----------+--------------+------+----------+\n",
      "|    26|  3391|    3|     2| 18|         4|Othello (1995)|     5|        24|\n",
      "|    26|  1447|    4|     2| 18|         4|Othello (1995)|     5|        24|\n",
      "|    26|  5107|    3|     1| 45|         0|Othello (1995)|     5|         5|\n",
      "|    26|  2878|    3|     1| 50|        20|Othello (1995)|     5|        47|\n",
      "|    26|  1527|    1|     2| 18|        10|Othello (1995)|     5|        24|\n",
      "+------+------+-----+------+---+----------+--------------+------+----------+\n",
      "only showing top 5 rows\n",
      "\n"
     ]
    }
   ],
   "source": [
    "from pyspark.sql.functions import col, udf\n",
    "\n",
    "gender_udf = udf(lambda gender: categorical_from_vocab_list(gender, [\"F\", \"M\"], start=1))\n",
    "bucket_cross_udf = udf(lambda feature1, feature2: hash_bucket(str(feature1) + \"_\" + str(feature2), bucket_size=100))\n",
    "genres_list = [\"Crime\", \"Romance\", \"Thriller\", \"Adventure\", \"Drama\", \"Children's\",\n",
    "      \"War\", \"Documentary\", \"Fantasy\", \"Mystery\", \"Musical\", \"Animation\", \"Film-Noir\", \"Horror\",\n",
    "      \"Western\", \"Comedy\", \"Action\", \"Sci-Fi\"]\n",
    "genres_udf = udf(lambda genres: categorical_from_vocab_list(genres, genres_list, start=1))\n",
    "     \n",
    "allDF = ratingDF.join(userDF, [\"userId\"]).join(itemDF, [\"itemId\"]) \\\n",
    "        .withColumn(\"gender\", gender_udf(col(\"gender\")).cast(\"int\")) \\\n",
    "        .withColumn(\"age-gender\", bucket_cross_udf(col(\"age\"), col(\"gender\")).cast(\"int\")) \\\n",
    "        .withColumn(\"genres\", genres_udf(col(\"genres\")).cast(\"int\"))\n",
    "allDF.show(5)\n"
   ]
  },
  {
   "cell_type": "markdown",
   "metadata": {},
   "source": [
    "Speficy data feature information shared by the WideAndDeep model and its feature generation. Here, we use occupation gender for wide base part, age and gender crossed as wide cross part, genres and gender as indicators, userid and itemid for embedding.  "
   ]
  },
  {
   "cell_type": "code",
   "execution_count": 6,
   "metadata": {},
   "outputs": [],
   "source": [
    "bucket_size = 100\n",
    "column_info = ColumnFeatureInfo(\n",
    "            wide_base_cols=[\"occupation\", \"gender\"],\n",
    "            wide_base_dims=[21, 3],\n",
    "            wide_cross_cols=[\"age-gender\"],\n",
    "            wide_cross_dims=[bucket_size],\n",
    "            indicator_cols=[\"genres\", \"gender\"],\n",
    "            indicator_dims=[19, 3],\n",
    "            embed_cols=[\"userId\", \"itemId\"],\n",
    "            embed_in_dims=[max_user_id, max_movie_id],\n",
    "            embed_out_dims=[64, 64],\n",
    "            continuous_cols=[\"age\"])\n"
   ]
  },
  {
   "cell_type": "markdown",
   "metadata": {},
   "source": [
    "Transform data to  RDD of Sample. We use optimizer of BigDL directly to train the model, it requires data to be provided in format of RDD(Sample). A Sample is a BigDL data structure which can be constructed using 2 numpy arrays, feature and label respectively. The API interface is Sample.from_ndarray(feature, label).  Wide&Deep model need two input tensors, one is SparseTensor for the Wide model, another is a DenseTensor for the Deep model."
   ]
  },
  {
   "cell_type": "code",
   "execution_count": 7,
   "metadata": {},
   "outputs": [],
   "source": [
    "rdds = allDF.rdd\\\n",
    ".map(lambda row: to_user_item_feature(row, column_info))\\\n",
    ".repartition(4)\n",
    "trainPairFeatureRdds, valPairFeatureRdds = rdds.randomSplit([0.8, 0.2], seed= 1)\n",
    "valPairFeatureRdds.persist()\n",
    "train_data= trainPairFeatureRdds.map(lambda pair_feature: pair_feature.sample)\n",
    "test_data= valPairFeatureRdds.map(lambda pair_feature: pair_feature.sample)"
   ]
  },
  {
   "cell_type": "markdown",
   "metadata": {},
   "source": [
    "##  Create the Wide&Deep model."
   ]
  },
  {
   "cell_type": "markdown",
   "metadata": {},
   "source": [
    "In Analytics Zoo, it is simple to build Wide&Deep model by calling WideAndDeep API. You need specify model type, and class number, as well as column information of features according to your data. You can also change other default parameters in the network, like hidden layers. The model could be fed into an Optimizer of BigDL or NNClassifier of analytics-zoo. Please refer to the document for more details. In this example, we demostrate how to use optimizer of BigDL."
   ]
  },
  {
   "cell_type": "code",
   "execution_count": 8,
   "metadata": {
    "scrolled": false
   },
   "outputs": [
    {
     "name": "stdout",
     "output_type": "stream",
     "text": [
      "creating: createZooKerasInput\n",
      "creating: createZooKerasInput\n",
      "creating: createZooKerasInput\n",
      "creating: createZooKerasInput\n",
      "creating: createZooKerasSparseDense\n",
      "creating: createZooKerasFlatten\n",
      "creating: createZooKerasSelect\n",
      "creating: createZooKerasEmbedding\n",
      "creating: createZooKerasFlatten\n",
      "creating: createZooKerasFlatten\n",
      "creating: createZooKerasSelect\n",
      "creating: createZooKerasEmbedding\n",
      "creating: createZooKerasFlatten\n",
      "creating: createZooKerasMerge\n",
      "creating: createZooKerasDense\n",
      "creating: createZooKerasDense\n",
      "creating: createZooKerasDense\n",
      "creating: createZooKerasDense\n",
      "creating: createZooKerasMerge\n",
      "creating: createZooKerasActivation\n",
      "creating: createZooKerasModel\n",
      "creating: createZooWideAndDeep\n"
     ]
    }
   ],
   "source": [
    "wide_n_deep = WideAndDeep(5, column_info, \"wide_n_deep\")"
   ]
  },
  {
   "cell_type": "markdown",
   "metadata": {},
   "source": [
    "## Create optimizer and train the model"
   ]
  },
  {
   "cell_type": "code",
   "execution_count": 9,
   "metadata": {},
   "outputs": [
    {
     "name": "stdout",
     "output_type": "stream",
     "text": [
      "creating: createAdam\n",
      "creating: createZooKerasSparseCategoricalCrossEntropy\n",
      "creating: createZooKerasSparseCategoricalAccuracy\n"
     ]
    }
   ],
   "source": [
    "wide_n_deep.compile(optimizer = \"adam\",\n",
    "                    loss= \"sparse_categorical_crossentropy\",\n",
    "                    metrics=['accuracy'])\n"
   ]
  },
  {
   "cell_type": "code",
   "execution_count": 10,
   "metadata": {},
   "outputs": [],
   "source": [
    "tmp_log_dir = create_tmp_path()\n",
    "wide_n_deep.set_tensorboard(tmp_log_dir, \"training_wideanddeep\")"
   ]
  },
  {
   "cell_type": "markdown",
   "metadata": {},
   "source": [
    "Train the network. Wait some time till it finished.. Voila! You've got a trained model"
   ]
  },
  {
   "cell_type": "code",
   "execution_count": 11,
   "metadata": {},
   "outputs": [
    {
     "name": "stdout",
     "output_type": "stream",
     "text": [
      "Optimization Done.\n",
      "CPU times: user 54.3 ms, sys: 19.7 ms, total: 74 ms\n",
      "Wall time: 2min 30s\n"
     ]
    }
   ],
   "source": [
    "%%time\n",
    "# Boot training process\n",
    "wide_n_deep.fit(train_data,\n",
    "                batch_size = 8000,\n",
    "                nb_epoch = 10,\n",
    "                validation_data = test_data)\n",
    "print(\"Optimization Done.\")"
   ]
  },
  {
   "cell_type": "markdown",
   "metadata": {},
   "source": [
    "## Prediction and recommendation"
   ]
  },
  {
   "cell_type": "markdown",
   "metadata": {},
   "source": [
    "Zoo models make inferences based on the given data using model.predict(val_rdd) API. A result of RDD is returned. predict_class returns the predicted label."
   ]
  },
  {
   "cell_type": "code",
   "execution_count": 12,
   "metadata": {},
   "outputs": [
    {
     "data": {
      "text/plain": [
       "[4, 2, 4, 5, 2]"
      ]
     },
     "execution_count": 12,
     "metadata": {},
     "output_type": "execute_result"
    }
   ],
   "source": [
    "results = wide_n_deep.predict(test_data)\n",
    "results.take(5)\n",
    "\n",
    "results_class = wide_n_deep.predict_class(test_data)\n",
    "results_class.take(5)"
   ]
  },
  {
   "cell_type": "markdown",
   "metadata": {},
   "source": [
    "In the Analytics Zoo, Recommender has provied 3 unique APIs to predict user-item pairs and make recommendations for users or items given candidates.\n",
    "Predict for user item pairs"
   ]
  },
  {
   "cell_type": "code",
   "execution_count": 13,
   "metadata": {},
   "outputs": [
    {
     "name": "stdout",
     "output_type": "stream",
     "text": [
      "UserItemPrediction [user_id: 5305, item_id: 26, prediction: 4, probability: 0.447520256042]\n",
      "UserItemPrediction [user_id: 1150, item_id: 26, prediction: 2, probability: 0.42147180438]\n",
      "UserItemPrediction [user_id: 4294, item_id: 26, prediction: 4, probability: 0.338612318039]\n",
      "UserItemPrediction [user_id: 5948, item_id: 26, prediction: 5, probability: 0.385789096355]\n",
      "UserItemPrediction [user_id: 3825, item_id: 26, prediction: 2, probability: 0.292931675911]\n"
     ]
    }
   ],
   "source": [
    "userItemPairPrediction = wide_n_deep.predict_user_item_pair(valPairFeatureRdds)\n",
    "for result in userItemPairPrediction.take(5): print(result)"
   ]
  },
  {
   "cell_type": "markdown",
   "metadata": {},
   "source": [
    "Recommend 3 items for each user given candidates in the feature RDDs"
   ]
  },
  {
   "cell_type": "code",
   "execution_count": 14,
   "metadata": {},
   "outputs": [
    {
     "name": "stdout",
     "output_type": "stream",
     "text": [
      "UserItemPrediction [user_id: 4904, item_id: 1221, prediction: 5, probability: 0.901316523552]\n",
      "UserItemPrediction [user_id: 4904, item_id: 593, prediction: 5, probability: 0.890776693821]\n",
      "UserItemPrediction [user_id: 4904, item_id: 913, prediction: 5, probability: 0.888917982578]\n",
      "UserItemPrediction [user_id: 1084, item_id: 50, prediction: 5, probability: 0.632001161575]\n",
      "UserItemPrediction [user_id: 1084, item_id: 912, prediction: 5, probability: 0.584099054337]\n"
     ]
    }
   ],
   "source": [
    "userRecs = wide_n_deep.recommend_for_user(valPairFeatureRdds, 3)\n",
    "for result in userRecs.take(5): print(result)"
   ]
  },
  {
   "cell_type": "markdown",
   "metadata": {},
   "source": [
    "Recommend 3 users for each item given candidates in the feature RDDs"
   ]
  },
  {
   "cell_type": "code",
   "execution_count": 15,
   "metadata": {},
   "outputs": [
    {
     "name": "stdout",
     "output_type": "stream",
     "text": [
      "UserItemPrediction [user_id: 1835, item_id: 1084, prediction: 5, probability: 0.745298802853]\n",
      "UserItemPrediction [user_id: 3864, item_id: 1084, prediction: 5, probability: 0.744241654873]\n",
      "UserItemPrediction [user_id: 5582, item_id: 1084, prediction: 5, probability: 0.739497065544]\n",
      "UserItemPrediction [user_id: 4511, item_id: 3764, prediction: 4, probability: 0.44239372015]\n",
      "UserItemPrediction [user_id: 116, item_id: 3764, prediction: 4, probability: 0.365347951651]\n"
     ]
    }
   ],
   "source": [
    "itemRecs = wide_n_deep.recommend_for_item(valPairFeatureRdds, 3)\n",
    "for result in itemRecs.take(5): print(result)"
   ]
  },
  {
   "cell_type": "markdown",
   "metadata": {},
   "source": [
    "##  Draw the convergence curve"
   ]
  },
  {
   "cell_type": "code",
   "execution_count": 16,
   "metadata": {},
   "outputs": [
    {
     "data": {
      "text/plain": [
       "Text(0.5,1,'loss')"
      ]
     },
     "execution_count": 16,
     "metadata": {},
     "output_type": "execute_result"
    },
    {
     "data": {
      "image/png": "[encoded data removed]",
      "text/plain": [
       "<Figure size 864x432 with 1 Axes>"
      ]
     },
     "metadata": {},
     "output_type": "display_data"
    }
   ],
   "source": [
    "#retrieve train and validation summary object and read the loss data into ndarray's. \n",
    "train_loss = np.array(wide_n_deep.get_train_summary(\"Loss\"))\n",
    "val_loss = np.array(wide_n_deep.get_validation_summary(\"Loss\"))\n",
    "#plot the train and validation curves\n",
    "# each event data is a tuple in form of (iteration_count, value, timestamp)\n",
    "plt.figure(figsize = (12,6))\n",
    "plt.plot(train_loss[:,0],train_loss[:,1],label='train loss')\n",
    "plt.plot(val_loss[:,0],val_loss[:,1],label='val loss',color='green')\n",
    "plt.scatter(val_loss[:,0],val_loss[:,1],color='green')\n",
    "plt.legend();\n",
    "plt.xlim(0,train_loss.shape[0]+10)\n",
    "plt.grid(True)\n",
    "plt.title(\"loss\")"
   ]
  },
  {
   "cell_type": "markdown",
   "metadata": {},
   "source": [
    "plot accuracy"
   ]
  },
  {
   "cell_type": "code",
   "execution_count": 17,
   "metadata": {},
   "outputs": [
    {
     "data": {
      "text/plain": [
       "(0, 1010)"
      ]
     },
     "execution_count": 17,
     "metadata": {},
     "output_type": "execute_result"
    },
    {
     "data": {
      "image/png": "[encoded data removed]",
      "text/plain": [
       "<Figure size 864x432 with 1 Axes>"
      ]
     },
     "metadata": {},
     "output_type": "display_data"
    }
   ],
   "source": [
    "plt.figure(figsize = (12,6))\n",
    "top1 = np.array(wide_n_deep.get_validation_summary(\"Top1Accuracy\"))\n",
    "plt.plot(top1[:,0],top1[:,1],label='top1')\n",
    "plt.title(\"top1 accuracy\")\n",
    "plt.grid(True)\n",
    "plt.legend();\n",
    "plt.xlim(0,train_loss.shape[0]+10)"
   ]
  },
  {
   "cell_type": "code",
   "execution_count": 18,
   "metadata": {},
   "outputs": [
    {
     "data": {
      "text/plain": [
       "PythonRDD[82] at RDD at PythonRDD.scala:48"
      ]
     },
     "execution_count": 18,
     "metadata": {},
     "output_type": "execute_result"
    }
   ],
   "source": [
    "valPairFeatureRdds.unpersist()"
   ]
  },
  {
   "cell_type": "code",
   "execution_count": 19,
   "metadata": {},
   "outputs": [],
   "source": [
    "sc.stop()"
   ]
  },
  {
   "cell_type": "code",
   "execution_count": null,
   "metadata": {},
   "outputs": [],
   "source": []
  }
 ],
 "metadata": {
  "kernelspec": {
   "display_name": "Python 2",
   "language": "python",
   "name": "python2"
  },
  "language_info": {
   "codemirror_mode": {
    "name": "ipython",
    "version": 2
   },
   "file_extension": ".py",
   "mimetype": "text/x-python",
   "name": "python",
   "nbconvert_exporter": "python",
   "pygments_lexer": "ipython2",
   "version": "2.7.10"
  }
 },
 "nbformat": 4,
 "nbformat_minor": 2
}
