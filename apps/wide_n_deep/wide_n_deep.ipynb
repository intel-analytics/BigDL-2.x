{
 "cells": [
  {
   "cell_type": "markdown",
   "metadata": {
    "collapsed": true
   },
   "source": [
    "## BigDL Wide & Deep Recommender Demo"
   ]
  },
  {
   "cell_type": "markdown",
   "metadata": {},
   "source": [
    "Wide and Deep Learning Model, proposed by Google in 2016, is a DNN-Linear mixed model. Wide and deep learning has been used for Google App Store for their app recommendation.\n",
    "\n",
    "In this tutorial, we'll introduce how to use BigDL to train a wide linear model and a deep neural network, which is called Wide & Deep model. Wide & Deep model combines the strength of memorization and generalization. It's useful for generic large-scale regression and classification problems with sparse input features(e.g., categorical features with a large number of possible feature values)."
   ]
  },
  {
   "cell_type": "code",
   "execution_count": 1,
   "metadata": {},
   "outputs": [
    {
     "name": "stdout",
     "output_type": "stream",
     "text": [
      "Populating the interactive namespace from numpy and matplotlib\n"
     ]
    }
   ],
   "source": [
    "%pylab inline\n",
    "\n",
    "import os\n",
    "import sys\n",
    "import numpy as np\n",
    "import pandas as pd\n",
    "import scipy as sp\n",
    "import datetime as dt\n",
    "\n",
    "from bigdl.dataset.transformer import *\n",
    "from bigdl.dataset.base import *\n",
    "from bigdl.nn.layer import *\n",
    "from bigdl.nn.criterion import *\n",
    "from bigdl.optim.optimizer import *\n",
    "from bigdl.util.common import *\n",
    "from utils import *\n",
    "\n",
    "init_engine()"
   ]
  },
  {
   "cell_type": "markdown",
   "metadata": {},
   "source": [
    "## 1. Prepare Data\n",
    "Download training and testing data set from [Census Income Dataset](https://archive.ics.uci.edu/ml/datasets/Census+Income).\n",
    "Read and parse the dataset into Spark RDD."
   ]
  },
  {
   "cell_type": "code",
   "execution_count": 2,
   "metadata": {},
   "outputs": [],
   "source": [
    "train_file_url = 'https://archive.ics.uci.edu/ml/machine-learning-databases/adult/adult.data'\n",
    "test_file_url = 'https://archive.ics.uci.edu/ml/machine-learning-databases/adult/adult.test'\n",
    "\n",
    "absolutepath='file://' + os.getcwd() + '/'\n",
    "train_file_name = maybe_download('adult.data', 'census_dataset', train_file_url)\n",
    "test_file_name = maybe_download('adult.test', 'census_dataset', test_file_url)\n",
    "\n",
    "train_records = read(absolutepath + train_file_name, sc)\n",
    "test_records = read(absolutepath + test_file_name, sc)"
   ]
  },
  {
   "cell_type": "markdown",
   "metadata": {},
   "source": [
    "Training data set has 14 features age, workclass, fnlwgt, etc... and one label income_bracket. There is ten record of the dataset."
   ]
  },
  {
   "cell_type": "code",
   "execution_count": 3,
   "metadata": {
    "scrolled": true
   },
   "outputs": [
    {
     "data": {
      "text/html": [
       "<div>\n",
       "<table border=\"1\" class=\"dataframe\">\n",
       "  <thead>\n",
       "    <tr style=\"text-align: right;\">\n",
       "      <th></th>\n",
       "      <th>age</th>\n",
       "      <th>workclass</th>\n",
       "      <th>fnlwgt</th>\n",
       "      <th>education</th>\n",
       "      <th>education_num</th>\n",
       "      <th>marital_status</th>\n",
       "      <th>occupation</th>\n",
       "      <th>relationship</th>\n",
       "      <th>race</th>\n",
       "      <th>gender</th>\n",
       "      <th>capital_gain</th>\n",
       "      <th>capital_loss</th>\n",
       "      <th>hours_per_week</th>\n",
       "      <th>native_country</th>\n",
       "      <th>income_bracket</th>\n",
       "    </tr>\n",
       "  </thead>\n",
       "  <tbody>\n",
       "    <tr>\n",
       "      <th>0</th>\n",
       "      <td>39</td>\n",
       "      <td>State-gov</td>\n",
       "      <td>77516</td>\n",
       "      <td>Bachelors</td>\n",
       "      <td>13</td>\n",
       "      <td>Never-married</td>\n",
       "      <td>Adm-clerical</td>\n",
       "      <td>Not-in-family</td>\n",
       "      <td>White</td>\n",
       "      <td>Male</td>\n",
       "      <td>2174</td>\n",
       "      <td>0</td>\n",
       "      <td>40</td>\n",
       "      <td>United-States</td>\n",
       "      <td>&lt;=50K</td>\n",
       "    </tr>\n",
       "    <tr>\n",
       "      <th>1</th>\n",
       "      <td>50</td>\n",
       "      <td>Self-emp-not-inc</td>\n",
       "      <td>83311</td>\n",
       "      <td>Bachelors</td>\n",
       "      <td>13</td>\n",
       "      <td>Married-civ-spouse</td>\n",
       "      <td>Exec-managerial</td>\n",
       "      <td>Husband</td>\n",
       "      <td>White</td>\n",
       "      <td>Male</td>\n",
       "      <td>0</td>\n",
       "      <td>0</td>\n",
       "      <td>13</td>\n",
       "      <td>United-States</td>\n",
       "      <td>&lt;=50K</td>\n",
       "    </tr>\n",
       "    <tr>\n",
       "      <th>2</th>\n",
       "      <td>38</td>\n",
       "      <td>Private</td>\n",
       "      <td>215646</td>\n",
       "      <td>HS-grad</td>\n",
       "      <td>9</td>\n",
       "      <td>Divorced</td>\n",
       "      <td>Handlers-cleaners</td>\n",
       "      <td>Not-in-family</td>\n",
       "      <td>White</td>\n",
       "      <td>Male</td>\n",
       "      <td>0</td>\n",
       "      <td>0</td>\n",
       "      <td>40</td>\n",
       "      <td>United-States</td>\n",
       "      <td>&lt;=50K</td>\n",
       "    </tr>\n",
       "    <tr>\n",
       "      <th>3</th>\n",
       "      <td>53</td>\n",
       "      <td>Private</td>\n",
       "      <td>234721</td>\n",
       "      <td>11th</td>\n",
       "      <td>7</td>\n",
       "      <td>Married-civ-spouse</td>\n",
       "      <td>Handlers-cleaners</td>\n",
       "      <td>Husband</td>\n",
       "      <td>Black</td>\n",
       "      <td>Male</td>\n",
       "      <td>0</td>\n",
       "      <td>0</td>\n",
       "      <td>40</td>\n",
       "      <td>United-States</td>\n",
       "      <td>&lt;=50K</td>\n",
       "    </tr>\n",
       "    <tr>\n",
       "      <th>4</th>\n",
       "      <td>28</td>\n",
       "      <td>Private</td>\n",
       "      <td>338409</td>\n",
       "      <td>Bachelors</td>\n",
       "      <td>13</td>\n",
       "      <td>Married-civ-spouse</td>\n",
       "      <td>Prof-specialty</td>\n",
       "      <td>Wife</td>\n",
       "      <td>Black</td>\n",
       "      <td>Female</td>\n",
       "      <td>0</td>\n",
       "      <td>0</td>\n",
       "      <td>40</td>\n",
       "      <td>Cuba</td>\n",
       "      <td>&lt;=50K</td>\n",
       "    </tr>\n",
       "    <tr>\n",
       "      <th>5</th>\n",
       "      <td>37</td>\n",
       "      <td>Private</td>\n",
       "      <td>284582</td>\n",
       "      <td>Masters</td>\n",
       "      <td>14</td>\n",
       "      <td>Married-civ-spouse</td>\n",
       "      <td>Exec-managerial</td>\n",
       "      <td>Wife</td>\n",
       "      <td>White</td>\n",
       "      <td>Female</td>\n",
       "      <td>0</td>\n",
       "      <td>0</td>\n",
       "      <td>40</td>\n",
       "      <td>United-States</td>\n",
       "      <td>&lt;=50K</td>\n",
       "    </tr>\n",
       "    <tr>\n",
       "      <th>6</th>\n",
       "      <td>49</td>\n",
       "      <td>Private</td>\n",
       "      <td>160187</td>\n",
       "      <td>9th</td>\n",
       "      <td>5</td>\n",
       "      <td>Married-spouse-absent</td>\n",
       "      <td>Other-service</td>\n",
       "      <td>Not-in-family</td>\n",
       "      <td>Black</td>\n",
       "      <td>Female</td>\n",
       "      <td>0</td>\n",
       "      <td>0</td>\n",
       "      <td>16</td>\n",
       "      <td>Jamaica</td>\n",
       "      <td>&lt;=50K</td>\n",
       "    </tr>\n",
       "    <tr>\n",
       "      <th>7</th>\n",
       "      <td>52</td>\n",
       "      <td>Self-emp-not-inc</td>\n",
       "      <td>209642</td>\n",
       "      <td>HS-grad</td>\n",
       "      <td>9</td>\n",
       "      <td>Married-civ-spouse</td>\n",
       "      <td>Exec-managerial</td>\n",
       "      <td>Husband</td>\n",
       "      <td>White</td>\n",
       "      <td>Male</td>\n",
       "      <td>0</td>\n",
       "      <td>0</td>\n",
       "      <td>45</td>\n",
       "      <td>United-States</td>\n",
       "      <td>&gt;50K</td>\n",
       "    </tr>\n",
       "    <tr>\n",
       "      <th>8</th>\n",
       "      <td>31</td>\n",
       "      <td>Private</td>\n",
       "      <td>45781</td>\n",
       "      <td>Masters</td>\n",
       "      <td>14</td>\n",
       "      <td>Never-married</td>\n",
       "      <td>Prof-specialty</td>\n",
       "      <td>Not-in-family</td>\n",
       "      <td>White</td>\n",
       "      <td>Female</td>\n",
       "      <td>14084</td>\n",
       "      <td>0</td>\n",
       "      <td>50</td>\n",
       "      <td>United-States</td>\n",
       "      <td>&gt;50K</td>\n",
       "    </tr>\n",
       "    <tr>\n",
       "      <th>9</th>\n",
       "      <td>42</td>\n",
       "      <td>Private</td>\n",
       "      <td>159449</td>\n",
       "      <td>Bachelors</td>\n",
       "      <td>13</td>\n",
       "      <td>Married-civ-spouse</td>\n",
       "      <td>Exec-managerial</td>\n",
       "      <td>Husband</td>\n",
       "      <td>White</td>\n",
       "      <td>Male</td>\n",
       "      <td>5178</td>\n",
       "      <td>0</td>\n",
       "      <td>40</td>\n",
       "      <td>United-States</td>\n",
       "      <td>&gt;50K</td>\n",
       "    </tr>\n",
       "  </tbody>\n",
       "</table>\n",
       "</div>"
      ],
      "text/plain": [
       "  age         workclass  fnlwgt  education education_num  \\\n",
       "0  39         State-gov   77516  Bachelors            13   \n",
       "1  50  Self-emp-not-inc   83311  Bachelors            13   \n",
       "2  38           Private  215646    HS-grad             9   \n",
       "3  53           Private  234721       11th             7   \n",
       "4  28           Private  338409  Bachelors            13   \n",
       "5  37           Private  284582    Masters            14   \n",
       "6  49           Private  160187        9th             5   \n",
       "7  52  Self-emp-not-inc  209642    HS-grad             9   \n",
       "8  31           Private   45781    Masters            14   \n",
       "9  42           Private  159449  Bachelors            13   \n",
       "\n",
       "          marital_status         occupation   relationship   race  gender  \\\n",
       "0          Never-married       Adm-clerical  Not-in-family  White    Male   \n",
       "1     Married-civ-spouse    Exec-managerial        Husband  White    Male   \n",
       "2               Divorced  Handlers-cleaners  Not-in-family  White    Male   \n",
       "3     Married-civ-spouse  Handlers-cleaners        Husband  Black    Male   \n",
       "4     Married-civ-spouse     Prof-specialty           Wife  Black  Female   \n",
       "5     Married-civ-spouse    Exec-managerial           Wife  White  Female   \n",
       "6  Married-spouse-absent      Other-service  Not-in-family  Black  Female   \n",
       "7     Married-civ-spouse    Exec-managerial        Husband  White    Male   \n",
       "8          Never-married     Prof-specialty  Not-in-family  White  Female   \n",
       "9     Married-civ-spouse    Exec-managerial        Husband  White    Male   \n",
       "\n",
       "  capital_gain capital_loss hours_per_week native_country income_bracket  \n",
       "0         2174            0             40  United-States          <=50K  \n",
       "1            0            0             13  United-States          <=50K  \n",
       "2            0            0             40  United-States          <=50K  \n",
       "3            0            0             40  United-States          <=50K  \n",
       "4            0            0             40           Cuba          <=50K  \n",
       "5            0            0             40  United-States          <=50K  \n",
       "6            0            0             16        Jamaica          <=50K  \n",
       "7            0            0             45  United-States           >50K  \n",
       "8        14084            0             50  United-States           >50K  \n",
       "9         5178            0             40  United-States           >50K  "
      ]
     },
     "execution_count": 3,
     "metadata": {},
     "output_type": "execute_result"
    }
   ],
   "source": [
    "pd.DataFrame(train_records.take(10), columns=COLUMNS)"
   ]
  },
  {
   "cell_type": "markdown",
   "metadata": {},
   "source": [
    "## 2. Transform data to BigDL' Sample\n",
    "BigDL's Sample is a data structure who represents the features and label of data. So each record will be transform to a BigDL Sample, and BigDL will train the Wide&Deep with these Samples. \n",
    "\n",
    "The input BigDL Wide&Deep model required,  are two input tensors, one is SparseTensor for the Wide model, another is a DenseTensor for the Deep model."
   ]
  },
  {
   "cell_type": "code",
   "execution_count": 4,
   "metadata": {},
   "outputs": [],
   "source": [
    "def to_sample(row):\n",
    "    wide_column_shape = np.array([5006])\n",
    "    wide_column_indices = np.arange(11)\n",
    "    wide_column_values = np.ones(11)\n",
    "    gender = categorical_from_vocab_list(row[GENDER], GENDER_VOCAB)\n",
    "    education = categorical_from_vocab_list(row[EDUCATION], EDUCATION_VOCAB)\n",
    "    marital_status = categorical_from_vocab_list(row[MARITAL_STATUS], MARITAL_STATUS_VOCAB)\n",
    "    relationship = categorical_from_vocab_list(row[RELATIONSHIP], RELATIONSHIP_VOCAB)\n",
    "    workclass = categorical_from_vocab_list(row[WORKCLASS], WORKCLASS_VOCAB)\n",
    "    \n",
    "    wide_column_values[0] = gender\n",
    "    wide_column_values[1] = education\n",
    "    wide_column_values[2] = marital_status\n",
    "    wide_column_values[3] = relationship\n",
    "    wide_column_values[4] = workclass\n",
    "    \n",
    "    wide_column_indices[5] = hashbucket(row[OCCUPATION], 1000, 5)\n",
    "    wide_column_indices[6] = hashbucket(row[NATIVE_COUNTRY], 1000, 1005)\n",
    "    wide_column_indices[7] = 2005\n",
    "    wide_column_values[7] = get_boundaries(int(row[AGE]), AGE_BOUNDARIES)\n",
    "    wide_column_indices[8] = hashbucket(row[EDUCATION] + row[OCCUPATION], 1000, 2006) # 2006\n",
    "    wide_column_indices[9] = hashbucket(str(row[AGE]) + row[EDUCATION] + row[OCCUPATION], 1000, 3006) # 2006\n",
    "    wide_column_indices[10] = hashbucket(row[NATIVE_COUNTRY] + row[OCCUPATION], 1000, 4006) # 4006\n",
    "\n",
    "    deep_column = np.zeros(40)\n",
    "    deep_column[workclass] = 1\n",
    "    deep_column[education + 9] = 1\n",
    "    deep_column[gender + 25] = 1\n",
    "    deep_column[relationship + 27] = 1\n",
    "    deep_column[33] = hashbucket(row[NATIVE_COUNTRY], 1000, 1)\n",
    "    deep_column[34] = hashbucket(row[OCCUPATION], 1000, 1)\n",
    "    deep_column[35] = row[AGE]\n",
    "    deep_column[36] = row[EDUCATION_NUM]\n",
    "    deep_column[37] = row[CAPITAL_GAIN]\n",
    "    deep_column[38] = row[CAPITAL_LOSS]\n",
    "    deep_column[39] = row[HOURS_PER_WEEK]\n",
    "    \n",
    "    label = get_label(row[LABEL])\n",
    "    wide_column_values=wide_column_values.astype(\"float32\")\n",
    "    deep_column=deep_column.astype(\"float32\")\n",
    "\n",
    "    wide_input = JTensor.sparse(wide_column_values, wide_column_indices, wide_column_shape, bigdl_type=\"float\")\n",
    "    deep_input = JTensor.from_ndarray(deep_column.reshape(1, 40))\n",
    "    return Sample.from_jtensor([wide_input, deep_input], label)\n",
    "    \n",
    "\n",
    "train_data = train_records.map(lambda line: to_sample(line))\n",
    "test_data = test_records.map(lambda line: to_sample(line))"
   ]
  },
  {
   "cell_type": "markdown",
   "metadata": {},
   "source": [
    "Cache the Training and Testing data RDD."
   ]
  },
  {
   "cell_type": "code",
   "execution_count": 5,
   "metadata": {},
   "outputs": [
    {
     "name": "stdout",
     "output_type": "stream",
     "text": [
      "Total train records: 32561\n",
      "Total test records: 16281\n"
     ]
    }
   ],
   "source": [
    "train_data.cache()\n",
    "print \"Total train records: %s\" % train_data.count()\n",
    "test_data.cache()\n",
    "print \"Total test records: %s\" % test_data.count()"
   ]
  },
  {
   "cell_type": "markdown",
   "metadata": {},
   "source": [
    "## 3. Create the Wide&Deep model."
   ]
  },
  {
   "cell_type": "code",
   "execution_count": 6,
   "metadata": {},
   "outputs": [
    {
     "name": "stdout",
     "output_type": "stream",
     "text": [
      "creating: createSequential\n",
      "creating: createIdentity\n",
      "creating: createSequential\n",
      "creating: createConcat\n",
      "creating: createSequential\n",
      "creating: createNarrow\n",
      "creating: createReshape\n",
      "creating: createSequential\n",
      "creating: createSelect\n",
      "creating: createLookupTable\n",
      "creating: createSequential\n",
      "creating: createSelect\n",
      "creating: createLookupTable\n",
      "creating: createSequential\n",
      "creating: createNarrow\n",
      "creating: createReshape\n",
      "creating: createLinear\n",
      "creating: createReLU\n",
      "creating: createLinear\n",
      "creating: createReLU\n",
      "creating: createParallelTable\n",
      "creating: createDenseToSparse\n",
      "creating: createSparseJoinTable\n",
      "creating: createSparseLinear\n",
      "creating: createLogSoftMax\n",
      "Wide&Deep model:\n",
      " Sequential[6d6ad7be]{\n",
      "  [input -> (1) -> (2) -> (3) -> (4) -> output]\n",
      "  (1): nn.ParallelTable {\n",
      "\tinput\n",
      "\t  |`-> (1): Identity[e5f5deb7]\n",
      "\t   `-> (2): Sequential[15aa5a6]{\n",
      "\t         [input -> (1) -> (2) -> (3) -> (4) -> (5) -> (6) -> output]\n",
      "\t         (1): Concat[d71a82d0]{\n",
      "\t           input\n",
      "\t             |`-> (1): Sequential[958348e5]{\n",
      "\t             |      [input -> (1) -> (2) -> output]\n",
      "\t             |      (1): Narrow[e66ae280](2, 1, 33)\n",
      "\t             |      (2): Reshape[indicator](33)\n",
      "\t             |    }\n",
      "\t             |`-> (2): Sequential[ec5ddd39]{\n",
      "\t             |      [input -> (1) -> (2) -> output]\n",
      "\t             |      (1): nn.Select\n",
      "\t             |      (2): LookupTable[embedding_1](nIndex=1000,nOutput=8,paddingValue=0.0,normType=2.0 ,maxNorm=10.0)\n",
      "\t             |    }\n",
      "\t             |`-> (3): Sequential[65680e51]{\n",
      "\t             |      [input -> (1) -> (2) -> output]\n",
      "\t             |      (1): nn.Select\n",
      "\t             |      (2): LookupTable[embedding_2](nIndex=1000,nOutput=8,paddingValue=0.0,normType=2.0 ,maxNorm=10.0)\n",
      "\t             |    }\n",
      "\t             |`-> (4): Sequential[12305823]{\n",
      "\t                    [input -> (1) -> (2) -> output]\n",
      "\t                    (1): Narrow[76caebc9](2, 36, 5)\n",
      "\t                    (2): Reshape[762d3593](5)\n",
      "\t                  }\n",
      "\t              ... -> output\n",
      "\t           }\n",
      "\t         (2): Linear[fc_1](54 -> 100)\n",
      "\t         (3): ReLU[28a61c18](0.0, 0.0)\n",
      "\t         (4): Linear[fc_2](100 -> 50)\n",
      "\t         (5): ReLU[1899f1a9](0.0, 0.0)\n",
      "\t         (6): DenseToSparse()\n",
      "\t       }\n",
      "\t   ... -> output\n",
      "}\n",
      "  (2): nn.SparseJoinTable(2)\n",
      "  (3): nn.SparseLinear(5056 -> 2)\n",
      "  (4): LogSoftMax[b3400437]\n",
      "}\n"
     ]
    }
   ],
   "source": [
    "def build_model(class_num = 2):\n",
    "    model = Sequential()\n",
    "    wideModel = Identity()\n",
    "    deepModel = Sequential()\n",
    "    deepColumn = Concat(2)\n",
    "    # indicator columns\n",
    "    deepColumn.add(Sequential().add(Narrow(2, 1, 33)).add(Reshape([33]).set_name(\"indicator\")))\n",
    "    # native_country 1000\n",
    "    deepColumn.add(Sequential().add(Select(2, 34)).add(LookupTable(1000, 8, 0.0, 10.0).set_name(\"embedding_1\")))\n",
    "    # occupation 1000\n",
    "    deepColumn.add(Sequential().add(Select(2, 35)).add(LookupTable(1000, 8, 0.0, 10.0).set_name(\"embedding_2\")))\n",
    "    # numeric column\n",
    "    deepColumn.add(Sequential().add(Narrow(2, 36, 5)).add(Reshape(([5]))))\n",
    "    deepModel.add(deepColumn)\n",
    "    deepModel.add(Linear(54, 100).set_name(\"fc_1\")).add(ReLU())\n",
    "    deepModel.add(Linear(100, 50).set_name(\"fc_2\")).add(ReLU())\n",
    "    parallel = ParallelTable()\n",
    "    parallel.add(wideModel)\n",
    "    parallel.add(deepModel.add(DenseToSparse()))\n",
    "    model.add(parallel).add(SparseJoinTable(2))\n",
    "    model.add(SparseLinear(5056, class_num, backwardStart = 5007, backwardLength = 50).set_name(\"fc_3\"))\n",
    "    model.add(LogSoftMax())\n",
    "    return model\n",
    "\n",
    "\n",
    "wide_n_deep=build_model()\n",
    "print \"Wide&Deep model:\\n %s\" % wide_n_deep"
   ]
  },
  {
   "cell_type": "markdown",
   "metadata": {},
   "source": [
    "## 4. Create optimizer and training the model"
   ]
  },
  {
   "cell_type": "code",
   "execution_count": 7,
   "metadata": {},
   "outputs": [
    {
     "name": "stdout",
     "output_type": "stream",
     "text": [
      "creating: createClassNLLCriterion\n",
      "creating: createAdam\n",
      "creating: createMaxEpoch\n",
      "creating: createDistriOptimizer\n",
      "creating: createEveryEpoch\n",
      "creating: createTop1Accuracy\n",
      "creating: createClassNLLCriterion\n",
      "creating: createLoss\n",
      "creating: createTrainSummary\n",
      "creating: createValidationSummary\n",
      "saving logs to /tmp/bigdl_summaries/wide_n_deep-20180312-144544\n"
     ]
    }
   ],
   "source": [
    "# Create an Optimizer\n",
    "batch_size = 2048\n",
    "\n",
    "optimizer = Optimizer(\n",
    "    model=wide_n_deep,\n",
    "    training_rdd=train_data,\n",
    "    criterion=ClassNLLCriterion(),\n",
    "    optim_method=Adam(learningrate = 0.001, learningrate_decay=0.00005),\n",
    "    end_trigger=MaxEpoch(40),\n",
    "    batch_size=batch_size)\n",
    "\n",
    "# Set the validation logic\n",
    "optimizer.set_validation(\n",
    "    batch_size=batch_size,\n",
    "    val_rdd=test_data,\n",
    "    trigger=EveryEpoch(),\n",
    "    val_method=[Top1Accuracy(), Loss()]\n",
    ")\n",
    "log_dir='/tmp/bigdl_summaries/'\n",
    "app_name='wide_n_deep-'+dt.datetime.now().strftime(\"%Y%m%d-%H%M%S\")\n",
    "train_summary = TrainSummary(log_dir=log_dir,\n",
    "                                     app_name=app_name)\n",
    "val_summary = ValidationSummary(log_dir=log_dir,\n",
    "                                        app_name=app_name)\n",
    "optimizer.set_train_summary(train_summary)\n",
    "optimizer.set_val_summary(val_summary)\n",
    "print \"saving logs to %s\" % (log_dir + app_name)"
   ]
  },
  {
   "cell_type": "markdown",
   "metadata": {},
   "source": [
    "Train the network. Wait some time till it finished.. Voila! You've got a trained model"
   ]
  },
  {
   "cell_type": "code",
   "execution_count": 8,
   "metadata": {},
   "outputs": [
    {
     "name": "stdout",
     "output_type": "stream",
     "text": [
      "Optimization Done.\n",
      "CPU times: user 5.27 ms, sys: 107 µs, total: 5.38 ms\n",
      "Wall time: 30.6 s\n"
     ]
    }
   ],
   "source": [
    "%%time\n",
    "# Boot training process\n",
    "trained_model = optimizer.optimize()\n",
    "print \"Optimization Done.\""
   ]
  },
  {
   "cell_type": "markdown",
   "metadata": {},
   "source": [
    "## 5. Evaluate the trained model\n",
    "Will return a Top1 Accuracy about 84%."
   ]
  },
  {
   "cell_type": "code",
   "execution_count": 9,
   "metadata": {},
   "outputs": [
    {
     "name": "stdout",
     "output_type": "stream",
     "text": [
      "creating: createTop1Accuracy\n",
      "Top1 accuracy: 0.838277757168\n",
      "CPU times: user 6.75 ms, sys: 0 ns, total: 6.75 ms\n",
      "Wall time: 512 ms\n"
     ]
    }
   ],
   "source": [
    "%%time\n",
    "evaluate_result=trained_model.evaluate(test_data, 2, [Top1Accuracy()])\n",
    "print \"Top1 accuracy: %s\" % evaluate_result[0].result"
   ]
  },
  {
   "cell_type": "markdown",
   "metadata": {},
   "source": [
    "## 6. Draw the convergence curve"
   ]
  },
  {
   "cell_type": "code",
   "execution_count": 10,
   "metadata": {},
   "outputs": [
    {
     "data": {
      "image/png": "[encoded data removed]",
      "text/plain": [
       "<matplotlib.figure.Figure at 0x7f92bdbc2590>"
      ]
     },
     "metadata": {},
     "output_type": "display_data"
    }
   ],
   "source": [
    "loss = np.array(train_summary.read_scalar(\"Loss\"))\n",
    "top1 = np.array(val_summary.read_scalar(\"Top1Accuracy\"))\n",
    "\n",
    "plt.figure(figsize = (12,12))\n",
    "plt.subplot(2,1,1)\n",
    "plt.plot(loss[:,0],loss[:,1],label='loss')\n",
    "plt.xlim(0,loss.shape[0]+10)\n",
    "plt.grid(True)\n",
    "plt.title(\"loss\")\n",
    "plt.subplot(2,1,2)\n",
    "plt.plot(top1[:,0],top1[:,1],label='top1')\n",
    "plt.xlim(0,loss.shape[0]+10)\n",
    "plt.title(\"top1 accuracy\")\n",
    "plt.grid(True)"
   ]
  }
 ],
 "metadata": {
  "kernelspec": {
   "display_name": "Python 2",
   "language": "python",
   "name": "python2"
  },
  "language_info": {
   "codemirror_mode": {
    "name": "ipython",
    "version": 2
   },
   "file_extension": ".py",
   "mimetype": "text/x-python",
   "name": "python",
   "nbconvert_exporter": "python",
   "pygments_lexer": "ipython2",
   "version": "2.7.12"
  }
 },
 "nbformat": 4,
 "nbformat_minor": 2
}
