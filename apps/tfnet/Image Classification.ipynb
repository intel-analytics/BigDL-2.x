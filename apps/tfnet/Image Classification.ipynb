{
 "cells": [
  {
   "cell_type": "code",
   "execution_count": 1,
   "metadata": {},
   "outputs": [],
   "source": [
    "import sys\n",
    "sys.path\n",
    "sys.path.append(\"/home/yang/sources/tensorflow/models/research/slim\")"
   ]
  },
  {
   "cell_type": "code",
   "execution_count": 2,
   "metadata": {},
   "outputs": [],
   "source": [
    "import tensorflow as tf\n",
    "from datasets import dataset_factory\n",
    "from nets import inception\n",
    "from preprocessing.lenet_preprocessing import preprocess_image"
   ]
  },
  {
   "cell_type": "code",
   "execution_count": 3,
   "metadata": {},
   "outputs": [],
   "source": [
    "slim = tf.contrib.slim"
   ]
  },
  {
   "cell_type": "code",
   "execution_count": 4,
   "metadata": {},
   "outputs": [],
   "source": [
    "images = tf.placeholder(dtype=tf.float32, shape=(None, 224, 224, 3))\n",
    "with slim.arg_scope(inception.inception_v1_arg_scope()):\n",
    "    logits, end_points = inception.inception_v1(images, num_classes=1001, is_training=False)"
   ]
  },
  {
   "cell_type": "code",
   "execution_count": 8,
   "metadata": {},
   "outputs": [
    {
     "name": "stdout",
     "output_type": "stream",
     "text": [
      "Converted 230 variables to const ops.\n"
     ]
    }
   ],
   "source": [
    "with tf.Session() as sess:\n",
    "    saver = tf.train.Saver()\n",
    "    saver.restore(sess, \"/home/yang/sources/model/inception_v1.ckpt\")\n",
    "    from zoo.util.tf import export_tf\n",
    "    export_tf(sess, \"/home/yang/sources/model/tfnet\", [images], [logits])"
   ]
  },
  {
   "cell_type": "code",
   "execution_count": 10,
   "metadata": {},
   "outputs": [
    {
     "name": "stdout",
     "output_type": "stream",
     "text": [
      "creating: createTFNet\n"
     ]
    }
   ],
   "source": [
    "from zoo.pipeline.api.net import TFNet\n",
    "model = TFNet.from_export_folder(\"/home/yang/sources/model/tfnet\")"
   ]
  },
  {
   "cell_type": "code",
   "execution_count": 12,
   "metadata": {},
   "outputs": [
    {
     "data": {
      "text/plain": [
       "array([[-0.6759096 ,  0.37064746,  0.10583597, ..., -0.3694586 ,\n",
       "         0.16920024,  1.6118298 ],\n",
       "       [-0.63995343,  0.56985116,  0.08615005, ..., -0.5085422 ,\n",
       "         0.09376037,  1.5686655 ],\n",
       "       [-0.62280285,  0.55382335,  0.14298534, ..., -0.39661148,\n",
       "         0.30598867,  1.3569188 ],\n",
       "       [-0.613591  ,  0.8217298 ,  0.20287383, ..., -0.34679237,\n",
       "         0.10193601,  1.3812419 ]], dtype=float32)"
      ]
     },
     "execution_count": 12,
     "metadata": {},
     "output_type": "execute_result"
    }
   ],
   "source": [
    "import numpy as np\n",
    "result = model.forward(np.random.randn(4, 224, 224, 3))\n",
    "result"
   ]
  },
  {
   "cell_type": "code",
   "execution_count": null,
   "metadata": {},
   "outputs": [],
   "source": []
  }
 ],
 "metadata": {
  "kernelspec": {
   "display_name": "Python 2",
   "language": "python",
   "name": "python2"
  },
  "language_info": {
   "codemirror_mode": {
    "name": "ipython",
    "version": 2
   },
   "file_extension": ".py",
   "mimetype": "text/x-python",
   "name": "python",
   "nbconvert_exporter": "python",
   "pygments_lexer": "ipython2",
   "version": "2.7.12"
  }
 },
 "nbformat": 4,
 "nbformat_minor": 2
}
