{
 "cells": [
  {
   "cell_type": "code",
   "execution_count": 1,
   "metadata": {},
   "outputs": [
    {
     "name": "stderr",
     "output_type": "stream",
     "text": [
      "WARNING:root:Trying to search from: /tmp/spark-6ae8a38c-8b58-4f0e-835d-a52c2604c2d0/userFiles-fe3960cf-bd10-4226-8394-44bdbfc4c6ff/analytics-zoo-bigdl_0.10.0-spark_2.1.0-0.7.0-SNAPSHOT-python-api.zip/zoo, but can not find the jar for Analytics-Zoo\n"
     ]
    }
   ],
   "source": [
    "from zoo.common.nncontext import *\n",
    "sc = init_nncontext(\"Callback Example\")"
   ]
  },
  {
   "cell_type": "code",
   "execution_count": 2,
   "metadata": {},
   "outputs": [],
   "source": [
    "class PythonPrinter(object):\n",
    "\n",
    "    def __init__(self):\n",
    "        pass\n",
    "\n",
    "    def print(self, message):\n",
    "        print(message)\n",
    "\n",
    "    class Java:\n",
    "        implements = [\"com.intel.analytics.zoo.PythonPrinter\"]"
   ]
  },
  {
   "cell_type": "code",
   "execution_count": 5,
   "metadata": {},
   "outputs": [],
   "source": [
    "from py4j.java_gateway import java_import, JavaGateway, JavaObject, GatewayParameters"
   ]
  },
  {
   "cell_type": "code",
   "execution_count": 6,
   "metadata": {},
   "outputs": [],
   "source": [
    "def ensure_callback_server_started(gw):\n",
    "    \"\"\"\n",
    "    Start callback server if not already started. The callback server is needed if the Java\n",
    "    driver process needs to callback into the Python driver process to execute Python code.\n",
    "    \"\"\"\n",
    "\n",
    "    # getattr will fallback to JVM, so we cannot test by hasattr()\n",
    "    if \"_callback_server\" not in gw.__dict__ or gw._callback_server is None:\n",
    "        gw.callback_server_parameters.eager_load = True\n",
    "        gw.callback_server_parameters.daemonize = True\n",
    "        gw.callback_server_parameters.daemonize_connections = True\n",
    "        gw.callback_server_parameters.port = 0\n",
    "        gw.start_callback_server(gw.callback_server_parameters)\n",
    "        cbport = gw._callback_server.server_socket.getsockname()[1]\n",
    "        gw._callback_server.port = cbport\n",
    "        # gateway with real port\n",
    "        gw._python_proxy_port = gw._callback_server.port\n",
    "        # get the GatewayServer object in JVM by ID\n",
    "        jgws = JavaObject(\"GATEWAY_SERVER\", gw._gateway_client)\n",
    "        # update the port of CallbackClient with real port\n",
    "        jgws.resetCallbackClient(jgws.getCallbackClient().getAddress(), gw._python_proxy_port)"
   ]
  },
  {
   "cell_type": "code",
   "execution_count": 7,
   "metadata": {},
   "outputs": [],
   "source": [
    "gw = SparkContext._gateway\n",
    "ensure_callback_server_started(gw)"
   ]
  },
  {
   "cell_type": "code",
   "execution_count": 9,
   "metadata": {},
   "outputs": [],
   "source": [
    "pp = PythonPrinter()"
   ]
  },
  {
   "cell_type": "code",
   "execution_count": 10,
   "metadata": {},
   "outputs": [
    {
     "name": "stdout",
     "output_type": "stream",
     "text": [
      "printing in python iteration 0\n",
      "printing in python iteration 1\n",
      "printing in python iteration 2\n",
      "printing in python iteration 3\n",
      "printing in python iteration 4\n",
      "printing in python iteration 5\n",
      "printing in python iteration 6\n",
      "printing in python iteration 7\n",
      "printing in python iteration 8\n",
      "printing in python iteration 9\n"
     ]
    }
   ],
   "source": [
    "for jinvoker in JavaCreator.instance(\"float\", gw).value:\n",
    "    try:\n",
    "        api = getattr(jinvoker, \"callBackToPython\")\n",
    "        api(pp)\n",
    "    except Exception as e:\n",
    "        error = e\n",
    "        if \"does not exist\" not in str(e):\n",
    "            raise e"
   ]
  },
  {
   "cell_type": "code",
   "execution_count": null,
   "metadata": {},
   "outputs": [],
   "source": []
  }
 ],
 "metadata": {
  "kernelspec": {
   "display_name": "Python 3",
   "language": "python",
   "name": "python3"
  },
  "language_info": {
   "codemirror_mode": {
    "name": "ipython",
    "version": 3
   },
   "file_extension": ".py",
   "mimetype": "text/x-python",
   "name": "python",
   "nbconvert_exporter": "python",
   "pygments_lexer": "ipython3",
   "version": "3.6.7"
  }
 },
 "nbformat": 4,
 "nbformat_minor": 2
}
