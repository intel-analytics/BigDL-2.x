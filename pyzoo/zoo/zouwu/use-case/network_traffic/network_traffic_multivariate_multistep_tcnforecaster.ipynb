{
 "cells": [
  {
   "cell_type": "markdown",
   "metadata": {},
   "source": [
    "# Network Traffic Forecasting (using time series data)"
   ]
  },
  {
   "cell_type": "markdown",
   "metadata": {},
   "source": [
    "In telco, accurate forecast of KPIs (e.g. network traffic, utilizations, user experience, etc.) for communication networks ( 2G/3G/4G/5G/wired) can help predict network failures, allocate resource, or save energy. \n",
    "\n",
    "In this notebook, we demonstrate a reference use case where we use the network traffic KPI(s) in the past to predict traffic KPI(s) in the future. We demostrate how to do **multivariate multistep forecasting** using Project Zouwu.\n",
    "\n",
    "For demonstration, we use the publicly available network traffic data repository maintained by the [WIDE project](http://mawi.wide.ad.jp/mawi/) and in particular, the network traffic traces aggregated every 2 hours (i.e. AverageRate in Mbps/Gbps and Total Bytes) in year 2018 and 2019 at the transit link of WIDE to the upstream ISP ([dataset link](http://mawi.wide.ad.jp/~agurim/dataset/)). "
   ]
  },
  {
   "cell_type": "markdown",
   "metadata": {},
   "source": [
    "## Helper functions"
   ]
  },
  {
   "cell_type": "markdown",
   "metadata": {},
   "source": [
    "This section defines some helper functions to be used in the following procedures. You can refer to it later when they're used."
   ]
  },
  {
   "cell_type": "code",
   "execution_count": 1,
   "metadata": {},
   "outputs": [],
   "source": [
    "def get_drop_dates_and_len(df, target_col=\"total\",allow_missing_num=3):\n",
    "    \"\"\"\n",
    "    Find missing values and get records to drop\n",
    "    \"\"\"\n",
    "    missing_num = df[target_col].isnull().astype(int).groupby(df[target_col].notnull().astype(int).cumsum()).sum()\n",
    "    missing_num = missing_num[missing_num > 0]\n",
    "    drop_datetimes = df.iloc[(missing_num.index + missing_num.cumsum() - missing_num).values].index\n",
    "    drop_datetimes = drop_datetimes[missing_num > allow_missing_num]\n",
    "    drop_missing_num = missing_num[missing_num > allow_missing_num]\n",
    "    drop_len = drop_missing_num.values\n",
    "    return drop_datetimes, drop_len"
   ]
  },
  {
   "cell_type": "code",
   "execution_count": 2,
   "metadata": {},
   "outputs": [],
   "source": [
    "def rm_missing_weeks(start_dts, missing_lens, df):\n",
    "    \"\"\"\n",
    "    Drop weeks that contains more than 3 consecutive missing values.\n",
    "    If consecutive missing values across weeks, we remove all the weeks.\n",
    "    \"\"\" \n",
    "    for start_time, l in zip(start_dts, missing_lens):\n",
    "        start = start_time - pd.Timedelta(days=start_time.dayofweek)\n",
    "        start = start.replace(hour=0, minute=0, second=0)\n",
    "        start_week_end = start + pd.Timedelta(days=6)\n",
    "        start_week_end = start_week_end.replace(hour=22, minute=0, second=0)\n",
    "\n",
    "        end_time = start_time + l*pd.Timedelta(hours=2)\n",
    "        if start_week_end < end_time:\n",
    "            end = end_time + pd.Timedelta(days=6-end_time.dayofweek)\n",
    "            end = end.replace(hour=22, minute=0, second=0)\n",
    "        else:\n",
    "            end = start_week_end\n",
    "        df = df.drop(df[start:end].index)\n",
    "    return df"
   ]
  },
  {
   "cell_type": "code",
   "execution_count": 3,
   "metadata": {},
   "outputs": [],
   "source": [
    "def gen_dataset_matrix(dataset, look_back, horizon, target_col_indexes):\n",
    "    \"\"\"\n",
    "    Generate input samples from rolling\n",
    "    \"\"\"\n",
    "    X, Y = [], []\n",
    "    if len(target_col_indexes) == 1:\n",
    "        del_col_index = {0, 1}.difference(set(target_col_indexes)).pop()\n",
    "        data = np.delete(dataset, del_col_index, axis=1)\n",
    "    else:\n",
    "        data = dataset\n",
    "    for i in range(len(data) - look_back - horizon + 1):\n",
    "        X.append(data[i: (i + look_back)])\n",
    "        Y.append(data[(i + look_back): (i + look_back + horizon),target_col_indexes])\n",
    "    return np.array(X), np.array(Y)"
   ]
  },
  {
   "cell_type": "markdown",
   "metadata": {},
   "source": [
    "## Download raw dataset and load into dataframe"
   ]
  },
  {
   "cell_type": "markdown",
   "metadata": {},
   "source": [
    "Now we download the dataset and load it into a pandas dataframe. Steps are as below. \n",
    "\n",
    "* First, run the script `get_data.sh` to download the raw data. It will download the monthly aggregated traffic data in year 2018 and 2019 into `data` folder. The raw data contains aggregated network traffic (average MBPs and total bytes) as well as other metrics. \n",
    "\n",
    "* Second, run `extract_data.sh` to extract relavant traffic KPI's from raw data, i.e. `AvgRate` for average use rate, and `total` for total bytes. The script will extract the KPI's with timestamps into `data/data.csv`.\n",
    "\n",
    "* Finally, use pandas to load `data/data.csv` into a dataframe as shown below"
   ]
  },
  {
   "cell_type": "code",
   "execution_count": 4,
   "metadata": {},
   "outputs": [],
   "source": [
    "import os \n",
    "import numpy as np\n",
    "import pandas as pd\n",
    "import matplotlib.pyplot as plt\n",
    "%matplotlib inline"
   ]
  },
  {
   "cell_type": "code",
   "execution_count": 5,
   "metadata": {},
   "outputs": [],
   "source": [
    "raw_df = pd.read_csv(\"data/data.csv\")"
   ]
  },
  {
   "cell_type": "markdown",
   "metadata": {},
   "source": [
    "Below are some example records of the data"
   ]
  },
  {
   "cell_type": "code",
   "execution_count": 6,
   "metadata": {},
   "outputs": [
    {
     "data": {
      "text/html": [
       "<div>\n",
       "<style scoped>\n",
       "    .dataframe tbody tr th:only-of-type {\n",
       "        vertical-align: middle;\n",
       "    }\n",
       "\n",
       "    .dataframe tbody tr th {\n",
       "        vertical-align: top;\n",
       "    }\n",
       "\n",
       "    .dataframe thead th {\n",
       "        text-align: right;\n",
       "    }\n",
       "</style>\n",
       "<table border=\"1\" class=\"dataframe\">\n",
       "  <thead>\n",
       "    <tr style=\"text-align: right;\">\n",
       "      <th></th>\n",
       "      <th>StartTime</th>\n",
       "      <th>EndTime</th>\n",
       "      <th>AvgRate</th>\n",
       "      <th>total</th>\n",
       "    </tr>\n",
       "  </thead>\n",
       "  <tbody>\n",
       "    <tr>\n",
       "      <th>0</th>\n",
       "      <td>2018/01/01 00:00:00</td>\n",
       "      <td>2018/01/01 02:00:00</td>\n",
       "      <td>306.23Mbps</td>\n",
       "      <td>275605455598</td>\n",
       "    </tr>\n",
       "    <tr>\n",
       "      <th>1</th>\n",
       "      <td>2018/01/01 02:00:00</td>\n",
       "      <td>2018/01/01 04:00:00</td>\n",
       "      <td>285.03Mbps</td>\n",
       "      <td>256527692256</td>\n",
       "    </tr>\n",
       "    <tr>\n",
       "      <th>2</th>\n",
       "      <td>2018/01/01 04:00:00</td>\n",
       "      <td>2018/01/01 06:00:00</td>\n",
       "      <td>247.39Mbps</td>\n",
       "      <td>222652190823</td>\n",
       "    </tr>\n",
       "    <tr>\n",
       "      <th>3</th>\n",
       "      <td>2018/01/01 06:00:00</td>\n",
       "      <td>2018/01/01 08:00:00</td>\n",
       "      <td>211.55Mbps</td>\n",
       "      <td>190396029658</td>\n",
       "    </tr>\n",
       "    <tr>\n",
       "      <th>4</th>\n",
       "      <td>2018/01/01 08:00:00</td>\n",
       "      <td>2018/01/01 10:00:00</td>\n",
       "      <td>234.82Mbps</td>\n",
       "      <td>211340468977</td>\n",
       "    </tr>\n",
       "  </tbody>\n",
       "</table>\n",
       "</div>"
      ],
      "text/plain": [
       "             StartTime              EndTime     AvgRate         total\n",
       "0  2018/01/01 00:00:00  2018/01/01 02:00:00  306.23Mbps  275605455598\n",
       "1  2018/01/01 02:00:00  2018/01/01 04:00:00  285.03Mbps  256527692256\n",
       "2  2018/01/01 04:00:00  2018/01/01 06:00:00  247.39Mbps  222652190823\n",
       "3  2018/01/01 06:00:00  2018/01/01 08:00:00  211.55Mbps  190396029658\n",
       "4  2018/01/01 08:00:00  2018/01/01 10:00:00  234.82Mbps  211340468977"
      ]
     },
     "execution_count": 6,
     "metadata": {},
     "output_type": "execute_result"
    }
   ],
   "source": [
    "raw_df.head()"
   ]
  },
  {
   "cell_type": "markdown",
   "metadata": {},
   "source": [
    "## Data pre-processing"
   ]
  },
  {
   "cell_type": "markdown",
   "metadata": {},
   "source": [
    "Now we need to do data cleaning and preprocessing on the raw data. Note that this part could vary for different dataset. \n",
    "\n",
    "For the network traffic data we're using, the processing contains 3 parts:\n",
    "1. Convert string datetime to TimeStamp\n",
    "2. Unify the measurement scale for `AvgRate` value - some uses Mbps, some uses Gbps \n",
    "3. Handle missing data (fill or drop)."
   ]
  },
  {
   "cell_type": "code",
   "execution_count": 7,
   "metadata": {},
   "outputs": [],
   "source": [
    "df = pd.DataFrame(pd.to_datetime(raw_df.StartTime))"
   ]
  },
  {
   "cell_type": "code",
   "execution_count": 8,
   "metadata": {},
   "outputs": [
    {
     "data": {
      "text/plain": [
       "array(['Mbps', 'Gbps'], dtype=object)"
      ]
     },
     "execution_count": 8,
     "metadata": {},
     "output_type": "execute_result"
    }
   ],
   "source": [
    "# we can find 'AvgRate' is of two scales: 'Mbps' and 'Gbps' \n",
    "raw_df.AvgRate.str[-4:].unique()"
   ]
  },
  {
   "cell_type": "code",
   "execution_count": 9,
   "metadata": {},
   "outputs": [],
   "source": [
    "# Unify AvgRate value\n",
    "df['AvgRate'] = raw_df.AvgRate.apply(lambda x:float(x[:-4]) if x.endswith(\"Mbps\") else float(x[:-4])*1000)"
   ]
  },
  {
   "cell_type": "code",
   "execution_count": 10,
   "metadata": {},
   "outputs": [],
   "source": [
    "df[\"total\"] = raw_df[\"total\"]\n",
    "df.set_index(\"StartTime\",inplace=True)"
   ]
  },
  {
   "cell_type": "code",
   "execution_count": 11,
   "metadata": {},
   "outputs": [
    {
     "data": {
      "text/html": [
       "<div>\n",
       "<style scoped>\n",
       "    .dataframe tbody tr th:only-of-type {\n",
       "        vertical-align: middle;\n",
       "    }\n",
       "\n",
       "    .dataframe tbody tr th {\n",
       "        vertical-align: top;\n",
       "    }\n",
       "\n",
       "    .dataframe thead th {\n",
       "        text-align: right;\n",
       "    }\n",
       "</style>\n",
       "<table border=\"1\" class=\"dataframe\">\n",
       "  <thead>\n",
       "    <tr style=\"text-align: right;\">\n",
       "      <th></th>\n",
       "      <th>AvgRate</th>\n",
       "      <th>total</th>\n",
       "    </tr>\n",
       "    <tr>\n",
       "      <th>StartTime</th>\n",
       "      <th></th>\n",
       "      <th></th>\n",
       "    </tr>\n",
       "  </thead>\n",
       "  <tbody>\n",
       "    <tr>\n",
       "      <th>2018-01-01 00:00:00</th>\n",
       "      <td>306.23</td>\n",
       "      <td>275605455598</td>\n",
       "    </tr>\n",
       "    <tr>\n",
       "      <th>2018-01-01 02:00:00</th>\n",
       "      <td>285.03</td>\n",
       "      <td>256527692256</td>\n",
       "    </tr>\n",
       "    <tr>\n",
       "      <th>2018-01-01 04:00:00</th>\n",
       "      <td>247.39</td>\n",
       "      <td>222652190823</td>\n",
       "    </tr>\n",
       "    <tr>\n",
       "      <th>2018-01-01 06:00:00</th>\n",
       "      <td>211.55</td>\n",
       "      <td>190396029658</td>\n",
       "    </tr>\n",
       "    <tr>\n",
       "      <th>2018-01-01 08:00:00</th>\n",
       "      <td>234.82</td>\n",
       "      <td>211340468977</td>\n",
       "    </tr>\n",
       "  </tbody>\n",
       "</table>\n",
       "</div>"
      ],
      "text/plain": [
       "                     AvgRate         total\n",
       "StartTime                                 \n",
       "2018-01-01 00:00:00   306.23  275605455598\n",
       "2018-01-01 02:00:00   285.03  256527692256\n",
       "2018-01-01 04:00:00   247.39  222652190823\n",
       "2018-01-01 06:00:00   211.55  190396029658\n",
       "2018-01-01 08:00:00   234.82  211340468977"
      ]
     },
     "execution_count": 11,
     "metadata": {},
     "output_type": "execute_result"
    }
   ],
   "source": [
    "df.head()"
   ]
  },
  {
   "cell_type": "code",
   "execution_count": 12,
   "metadata": {},
   "outputs": [
    {
     "name": "stdout",
     "output_type": "stream",
     "text": [
      "no. of n/a values:\n",
      "AvgRate    3\n",
      "total      3\n",
      "dtype: int64\n"
     ]
    }
   ],
   "source": [
    "full_idx = pd.date_range(start=df.index.min(),end=df.index.max(), freq='2H')\n",
    "df = df.reindex(full_idx)\n",
    "print(\"no. of n/a values:\")\n",
    "print(df.isna().sum())"
   ]
  },
  {
   "cell_type": "markdown",
   "metadata": {},
   "source": [
    "Here, we drop weeks with more than 3 consecutive missing values and fill other missing values remained."
   ]
  },
  {
   "cell_type": "code",
   "execution_count": 13,
   "metadata": {},
   "outputs": [],
   "source": [
    "drop_dts,drop_len = get_drop_dates_and_len(df)\n",
    "df = rm_missing_weeks(drop_dts,drop_len,df)"
   ]
  },
  {
   "cell_type": "code",
   "execution_count": 14,
   "metadata": {},
   "outputs": [],
   "source": [
    "df.ffill(inplace=True)"
   ]
  },
  {
   "cell_type": "markdown",
   "metadata": {},
   "source": [
    "Plot the data to see how the KPI's look like"
   ]
  },
  {
   "cell_type": "code",
   "execution_count": 15,
   "metadata": {},
   "outputs": [
    {
     "data": {
      "image/png": "[encoded data removed]",
      "text/plain": [
       "<Figure size 1152x432 with 1 Axes>"
      ]
     },
     "metadata": {
      "needs_background": "light"
     },
     "output_type": "display_data"
    }
   ],
   "source": [
    "ax = df.plot(y='AvgRate',figsize=(16,6),title=\"AvgRate of network traffic data\")"
   ]
  },
  {
   "cell_type": "code",
   "execution_count": 16,
   "metadata": {},
   "outputs": [
    {
     "data": {
      "image/png": "[encoded data removed]",
      "text/plain": [
       "<Figure size 864x360 with 1 Axes>"
      ]
     },
     "metadata": {
      "needs_background": "light"
     },
     "output_type": "display_data"
    }
   ],
   "source": [
    "ax = df.plot(y='total',figsize=(12,5),title='total bytes of network traffic data')"
   ]
  },
  {
   "cell_type": "markdown",
   "metadata": {},
   "source": [
    "## Feature Engineering"
   ]
  },
  {
   "cell_type": "markdown",
   "metadata": {},
   "source": [
    "For feature engineering, we use year, month, week, day of week and hour as features in addition to the target KPI values"
   ]
  },
  {
   "cell_type": "code",
   "execution_count": 17,
   "metadata": {
    "scrolled": true
   },
   "outputs": [
    {
     "name": "stderr",
     "output_type": "stream",
     "text": [
      "/home/zehuan/anaconda3/envs/automl/lib/python3.6/site-packages/ipykernel_launcher.py:3: FutureWarning: weekofyear and week have been deprecated, please use DatetimeIndex.isocalendar().week instead, which returns a Series.  To exactly reproduce the behavior of week and weekofyear and return an Index, you may call pd.Int64Index(idx.isocalendar().week)\n",
      "  This is separate from the ipykernel package so we can avoid doing imports until\n"
     ]
    }
   ],
   "source": [
    "df[\"year\"] = df.index.year\n",
    "df[\"month\"] = df.index.month\n",
    "df[\"week\"] = df.index.week\n",
    "df[\"dayofweek\"] = df.index.dayofweek\n",
    "df[\"hour\"] = df.index.hour"
   ]
  },
  {
   "cell_type": "code",
   "execution_count": 18,
   "metadata": {
    "scrolled": false
   },
   "outputs": [
    {
     "data": {
      "text/html": [
       "<div>\n",
       "<style scoped>\n",
       "    .dataframe tbody tr th:only-of-type {\n",
       "        vertical-align: middle;\n",
       "    }\n",
       "\n",
       "    .dataframe tbody tr th {\n",
       "        vertical-align: top;\n",
       "    }\n",
       "\n",
       "    .dataframe thead th {\n",
       "        text-align: right;\n",
       "    }\n",
       "</style>\n",
       "<table border=\"1\" class=\"dataframe\">\n",
       "  <thead>\n",
       "    <tr style=\"text-align: right;\">\n",
       "      <th></th>\n",
       "      <th>AvgRate</th>\n",
       "      <th>total</th>\n",
       "      <th>year</th>\n",
       "      <th>month</th>\n",
       "      <th>week</th>\n",
       "      <th>dayofweek</th>\n",
       "      <th>hour</th>\n",
       "    </tr>\n",
       "  </thead>\n",
       "  <tbody>\n",
       "    <tr>\n",
       "      <th>2018-01-01 00:00:00</th>\n",
       "      <td>306.23</td>\n",
       "      <td>2.756055e+11</td>\n",
       "      <td>2018</td>\n",
       "      <td>1</td>\n",
       "      <td>1</td>\n",
       "      <td>0</td>\n",
       "      <td>0</td>\n",
       "    </tr>\n",
       "    <tr>\n",
       "      <th>2018-01-01 02:00:00</th>\n",
       "      <td>285.03</td>\n",
       "      <td>2.565277e+11</td>\n",
       "      <td>2018</td>\n",
       "      <td>1</td>\n",
       "      <td>1</td>\n",
       "      <td>0</td>\n",
       "      <td>2</td>\n",
       "    </tr>\n",
       "    <tr>\n",
       "      <th>2018-01-01 04:00:00</th>\n",
       "      <td>247.39</td>\n",
       "      <td>2.226522e+11</td>\n",
       "      <td>2018</td>\n",
       "      <td>1</td>\n",
       "      <td>1</td>\n",
       "      <td>0</td>\n",
       "      <td>4</td>\n",
       "    </tr>\n",
       "    <tr>\n",
       "      <th>2018-01-01 06:00:00</th>\n",
       "      <td>211.55</td>\n",
       "      <td>1.903960e+11</td>\n",
       "      <td>2018</td>\n",
       "      <td>1</td>\n",
       "      <td>1</td>\n",
       "      <td>0</td>\n",
       "      <td>6</td>\n",
       "    </tr>\n",
       "    <tr>\n",
       "      <th>2018-01-01 08:00:00</th>\n",
       "      <td>234.82</td>\n",
       "      <td>2.113405e+11</td>\n",
       "      <td>2018</td>\n",
       "      <td>1</td>\n",
       "      <td>1</td>\n",
       "      <td>0</td>\n",
       "      <td>8</td>\n",
       "    </tr>\n",
       "  </tbody>\n",
       "</table>\n",
       "</div>"
      ],
      "text/plain": [
       "                     AvgRate         total  year  month  week  dayofweek  hour\n",
       "2018-01-01 00:00:00   306.23  2.756055e+11  2018      1     1          0     0\n",
       "2018-01-01 02:00:00   285.03  2.565277e+11  2018      1     1          0     2\n",
       "2018-01-01 04:00:00   247.39  2.226522e+11  2018      1     1          0     4\n",
       "2018-01-01 06:00:00   211.55  1.903960e+11  2018      1     1          0     6\n",
       "2018-01-01 08:00:00   234.82  2.113405e+11  2018      1     1          0     8"
      ]
     },
     "execution_count": 18,
     "metadata": {},
     "output_type": "execute_result"
    }
   ],
   "source": [
    "df.head()"
   ]
  },
  {
   "cell_type": "markdown",
   "metadata": {},
   "source": [
    "## Data preparation"
   ]
  },
  {
   "cell_type": "markdown",
   "metadata": {},
   "source": [
    "Now we split the dataset into train and test."
   ]
  },
  {
   "cell_type": "code",
   "execution_count": 19,
   "metadata": {},
   "outputs": [],
   "source": [
    "test_num = 1000\n",
    "# we look back one week data which is of the frequency of 2h.\n",
    "look_back = 84\n",
    "# specify the number of steps to be predicted，one day is selected by default\n",
    "horizon = 12\n",
    "test_split_index = test_num + look_back\n",
    "\n",
    "train_df = df[:-test_num]\n",
    "test_df = df[-test_split_index:]\n",
    "test_df = test_df.reset_index(drop=True)"
   ]
  },
  {
   "cell_type": "markdown",
   "metadata": {},
   "source": [
    "Then standardize train, test data and featues"
   ]
  },
  {
   "cell_type": "code",
   "execution_count": 20,
   "metadata": {},
   "outputs": [],
   "source": [
    "from sklearn.preprocessing import StandardScaler\n",
    "standard_scaler = StandardScaler()\n",
    "scaled_train = standard_scaler.fit_transform(train_df)\n",
    "scaled_test = standard_scaler.transform(test_df)"
   ]
  },
  {
   "cell_type": "markdown",
   "metadata": {},
   "source": [
    "Last, we generate model input samples by sliding window along time axis."
   ]
  },
  {
   "cell_type": "code",
   "execution_count": 21,
   "metadata": {},
   "outputs": [
    {
     "data": {
      "text/plain": [
       "((7665, 84, 7), (7665, 12, 2), (989, 84, 7), (989, 12, 2))"
      ]
     },
     "execution_count": 21,
     "metadata": {},
     "output_type": "execute_result"
    }
   ],
   "source": [
    "multi_target_col_indexes = [0, 1]\n",
    "multi_target_value = [\"AvgRate\",\"total\"]\n",
    "\n",
    "x_train_m, y_train_m = gen_dataset_matrix(scaled_train, look_back, horizon, multi_target_col_indexes)\n",
    "x_test_m, y_test_m = gen_dataset_matrix(scaled_test, look_back, horizon, multi_target_col_indexes)\n",
    "x_train_m.shape, y_train_m.shape, x_test_m.shape, y_test_m.shape"
   ]
  },
  {
   "cell_type": "code",
   "execution_count": null,
   "metadata": {},
   "outputs": [],
   "source": []
  }
 ],
 "metadata": {
  "kernelspec": {
   "display_name": "automl",
   "language": "python",
   "name": "automl"
  },
  "language_info": {
   "codemirror_mode": {
    "name": "ipython",
    "version": 3
   },
   "file_extension": ".py",
   "mimetype": "text/x-python",
   "name": "python",
   "nbconvert_exporter": "python",
   "pygments_lexer": "ipython3",
   "version": "3.6.10"
  }
 },
 "nbformat": 4,
 "nbformat_minor": 4
}
