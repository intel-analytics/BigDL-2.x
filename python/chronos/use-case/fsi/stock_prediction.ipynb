{
 "cells": [
  {
   "cell_type": "markdown",
   "metadata": {
    "id": "THN-pFmXLq_x"
   },
   "source": [
    "# Stock Price Prediction\n",
    "\n",
    "In this notebook, we demonstrate a reference use case where we use historical stock price data to predict the future price. The dataset we use is the daily stock price of S&P500 stocks during 2013-2018 ([data source](https://www.kaggle.com/camnugent/sandp500/)). We demostrate how to do univariate forecasting using the past 966 days of MMM price to predict the future 244 daily price.\n",
    "\n",
    "Reference: https://github.com/jwkanggist/tf-keras-stock-pred\n",
    "\n"
   ]
  },
  {
   "cell_type": "markdown",
   "metadata": {
    "id": "2LLu44mMwCTN"
   },
   "source": [
    "## Get Data\n",
    "\n",
    "We will use the close prices of MMM stock for our experiment. We will \n",
    "  1. download raw dataset and load into dataframe. \n",
    "  2. Extract the close prices of MMM stock from the dataframe into a numpy array"
   ]
  },
  {
   "cell_type": "code",
   "execution_count": 1,
   "metadata": {
    "id": "IwF7ovI0Lq_-"
   },
   "outputs": [],
   "source": [
    "import numpy as np\n",
    "import pandas as pd\n",
    "import os"
   ]
  },
  {
   "cell_type": "code",
   "execution_count": 2,
   "metadata": {
    "colab": {
     "base_uri": "https://localhost:8080/"
    },
    "id": "wUYapsflLq__",
    "outputId": "c5385ba6-6ece-448d-a5a1-c51fb8d71f06"
   },
   "outputs": [
    {
     "name": "stdout",
     "output_type": "stream",
     "text": [
      "data/all_stocks_5yr.csv\n"
     ]
    }
   ],
   "source": [
    "# S&P 500\n",
    "FILE_NAME    = 'all_stocks_5yr.csv'\n",
    "SOURCE_URL   = 'https://github.com/CNuge/kaggle-code/raw/master/stock_data/' \n",
    "\n",
    "filepath = './data/'+ FILE_NAME\n",
    "filepath = os.path.join('data', FILE_NAME)\n",
    "print(filepath)"
   ]
  },
  {
   "cell_type": "code",
   "execution_count": 3,
   "metadata": {
    "id": "mJ44xd7nLrAA"
   },
   "outputs": [
    {
     "name": "stdout",
     "output_type": "stream",
     "text": [
      "--2021-05-26 20:12:44--  https://github.com/CNuge/kaggle-code/raw/master/stock_data/individual_stocks_5yr.zip\n",
      "Resolving child-prc.intel.com (child-prc.intel.com)... 10.239.4.100\n",
      "Connecting to child-prc.intel.com (child-prc.intel.com)|10.239.4.100|:913... connected.\n",
      "Proxy request sent, awaiting response... 302 Found\n",
      "Location: https://raw.githubusercontent.com/CNuge/kaggle-code/master/stock_data/individual_stocks_5yr.zip [following]\n",
      "--2021-05-26 20:12:46--  https://raw.githubusercontent.com/CNuge/kaggle-code/master/stock_data/individual_stocks_5yr.zip\n",
      "Connecting to child-prc.intel.com (child-prc.intel.com)|10.239.4.100|:913... connected.\n",
      "Proxy request sent, awaiting response... 200 OK\n",
      "Length: 10139719 (9.7M) [application/zip]\n",
      "Saving to: ‘individual_stocks_5yr.zip’\n",
      "\n",
      "individual_stocks_5 100%[===================>]   9.67M   908KB/s    in 12s     \n",
      "\n",
      "2021-05-26 20:13:00 (827 KB/s) - ‘individual_stocks_5yr.zip’ saved [10139719/10139719]\n",
      "\n",
      "--2021-05-26 20:13:00--  https://raw.githubusercontent.com/CNuge/kaggle-code/master/stock_data/merge.sh\n",
      "Resolving child-prc.intel.com (child-prc.intel.com)... 10.239.4.80\n",
      "Connecting to child-prc.intel.com (child-prc.intel.com)|10.239.4.80|:913... connected.\n",
      "Proxy request sent, awaiting response... 200 OK\n",
      "Length: 190 [text/plain]\n",
      "Saving to: ‘merge.sh’\n",
      "\n",
      "merge.sh            100%[===================>]     190  --.-KB/s    in 0s      \n",
      "\n",
      "2021-05-26 20:13:02 (5.86 MB/s) - ‘merge.sh’ saved [190/190]\n",
      "\n",
      "Archive:  individual_stocks_5yr.zip\n",
      "   creating: individual_stocks_5yr/\n",
      "  inflating: individual_stocks_5yr/XRX_data.csv  \n",
      "  inflating: individual_stocks_5yr/GS_data.csv  \n",
      "  inflating: individual_stocks_5yr/SPGI_data.csv  \n",
      "  inflating: individual_stocks_5yr/MTB_data.csv  \n",
      "  inflating: individual_stocks_5yr/V_data.csv  \n",
      "  inflating: individual_stocks_5yr/CTAS_data.csv  \n",
      "  inflating: individual_stocks_5yr/ESRX_data.csv  \n",
      "  inflating: individual_stocks_5yr/APH_data.csv  \n",
      "  inflating: individual_stocks_5yr/BBT_data.csv  \n",
      "  inflating: individual_stocks_5yr/RHI_data.csv  \n",
      "  inflating: individual_stocks_5yr/GGP_data.csv  \n",
      "  inflating: individual_stocks_5yr/HCA_data.csv  \n",
      "  inflating: individual_stocks_5yr/HD_data.csv  \n",
      "  inflating: individual_stocks_5yr/PEP_data.csv  \n",
      "  inflating: individual_stocks_5yr/INTC_data.csv  \n",
      "  inflating: individual_stocks_5yr/MAC_data.csv  \n",
      "  inflating: individual_stocks_5yr/CLX_data.csv  \n",
      "  inflating: individual_stocks_5yr/UNP_data.csv  \n",
      "  inflating: individual_stocks_5yr/WAT_data.csv  \n",
      "  inflating: individual_stocks_5yr/EMN_data.csv  \n",
      "  inflating: individual_stocks_5yr/ADSK_data.csv  \n",
      "  inflating: individual_stocks_5yr/ALK_data.csv  \n",
      "  inflating: individual_stocks_5yr/VZ_data.csv  \n",
      "  inflating: individual_stocks_5yr/AFL_data.csv  \n",
      "  inflating: individual_stocks_5yr/ADP_data.csv  \n",
      "  inflating: individual_stocks_5yr/CSRA_data.csv  \n",
      "  inflating: individual_stocks_5yr/AON_data.csv  \n",
      "  inflating: individual_stocks_5yr/APC_data.csv  \n",
      "  inflating: individual_stocks_5yr/WRK_data.csv  \n",
      "  inflating: individual_stocks_5yr/XYL_data.csv  \n",
      "  inflating: individual_stocks_5yr/OMC_data.csv  \n",
      "  inflating: individual_stocks_5yr/SLB_data.csv  \n",
      "  inflating: individual_stocks_5yr/NOV_data.csv  \n",
      "  inflating: individual_stocks_5yr/CMA_data.csv  \n",
      "  inflating: individual_stocks_5yr/INFO_data.csv  \n",
      "  inflating: individual_stocks_5yr/CRM_data.csv  \n",
      "  inflating: individual_stocks_5yr/AMGN_data.csv  \n",
      "  inflating: individual_stocks_5yr/ED_data.csv  \n",
      "  inflating: individual_stocks_5yr/AIZ_data.csv  \n",
      "  inflating: individual_stocks_5yr/RSG_data.csv  \n",
      "  inflating: individual_stocks_5yr/NRG_data.csv  \n",
      "  inflating: individual_stocks_5yr/FLIR_data.csv  \n",
      "  inflating: individual_stocks_5yr/JPM_data.csv  \n",
      "  inflating: individual_stocks_5yr/HIG_data.csv  \n",
      "  inflating: individual_stocks_5yr/REGN_data.csv  \n",
      "  inflating: individual_stocks_5yr/UAL_data.csv  \n",
      "  inflating: individual_stocks_5yr/AZO_data.csv  \n",
      "  inflating: individual_stocks_5yr/STI_data.csv  \n",
      "  inflating: individual_stocks_5yr/MHK_data.csv  \n",
      "  inflating: individual_stocks_5yr/DFS_data.csv  \n",
      "  inflating: individual_stocks_5yr/MU_data.csv  \n",
      "  inflating: individual_stocks_5yr/LRCX_data.csv  \n",
      "  inflating: individual_stocks_5yr/HRB_data.csv  \n",
      "  inflating: individual_stocks_5yr/FOXA_data.csv  \n",
      "  inflating: individual_stocks_5yr/ISRG_data.csv  \n",
      "  inflating: individual_stocks_5yr/TEL_data.csv  \n",
      "  inflating: individual_stocks_5yr/BWA_data.csv  \n",
      "  inflating: individual_stocks_5yr/CAG_data.csv  \n",
      "  inflating: individual_stocks_5yr/SIG_data.csv  \n",
      "  inflating: individual_stocks_5yr/CHD_data.csv  \n",
      "  inflating: individual_stocks_5yr/FITB_data.csv  \n",
      "  inflating: individual_stocks_5yr/JNPR_data.csv  \n",
      "  inflating: individual_stocks_5yr/NFLX_data.csv  \n",
      "  inflating: individual_stocks_5yr/IFF_data.csv  \n",
      "  inflating: individual_stocks_5yr/EOG_data.csv  \n",
      "  inflating: individual_stocks_5yr/NEE_data.csv  \n",
      "  inflating: individual_stocks_5yr/SBUX_data.csv  \n",
      "  inflating: individual_stocks_5yr/RF_data.csv  \n",
      "  inflating: individual_stocks_5yr/.DS_Store  \n",
      "   creating: __MACOSX/\n",
      "   creating: __MACOSX/individual_stocks_5yr/\n",
      "  inflating: __MACOSX/individual_stocks_5yr/._.DS_Store  \n",
      "  inflating: individual_stocks_5yr/CNP_data.csv  \n",
      "  inflating: individual_stocks_5yr/COTY_data.csv  \n",
      "  inflating: individual_stocks_5yr/MCK_data.csv  \n",
      "  inflating: individual_stocks_5yr/HP_data.csv  \n",
      "  inflating: individual_stocks_5yr/MOS_data.csv  \n",
      "  inflating: individual_stocks_5yr/UA_data.csv  \n",
      "  inflating: individual_stocks_5yr/DHI_data.csv  \n",
      "  inflating: individual_stocks_5yr/KSU_data.csv  \n",
      "  inflating: individual_stocks_5yr/FLR_data.csv  \n",
      "  inflating: individual_stocks_5yr/FLS_data.csv  \n",
      "  inflating: individual_stocks_5yr/C_data.csv  \n",
      "  inflating: individual_stocks_5yr/TPR_data.csv  \n",
      "  inflating: individual_stocks_5yr/NTAP_data.csv  \n",
      "  inflating: individual_stocks_5yr/DLTR_data.csv  \n",
      "  inflating: individual_stocks_5yr/SNA_data.csv  \n",
      "  inflating: individual_stocks_5yr/AVGO_data.csv  \n",
      "  inflating: individual_stocks_5yr/ROP_data.csv  \n",
      "  inflating: individual_stocks_5yr/HOG_data.csv  \n",
      "  inflating: individual_stocks_5yr/RL_data.csv  \n",
      "  inflating: individual_stocks_5yr/MA_data.csv  \n",
      "  inflating: individual_stocks_5yr/MET_data.csv  \n",
      "  inflating: individual_stocks_5yr/LNC_data.csv  \n",
      "  inflating: individual_stocks_5yr/TAP_data.csv  \n",
      "  inflating: individual_stocks_5yr/WEC_data.csv  \n",
      "  inflating: individual_stocks_5yr/NAVI_data.csv  \n",
      "  inflating: individual_stocks_5yr/GPS_data.csv  \n",
      "  inflating: individual_stocks_5yr/EIX_data.csv  \n",
      "  inflating: individual_stocks_5yr/BHF_data.csv  \n",
      "  inflating: individual_stocks_5yr/GM_data.csv  \n",
      "  inflating: individual_stocks_5yr/NOC_data.csv  \n",
      "  inflating: individual_stocks_5yr/AVB_data.csv  \n",
      "  inflating: individual_stocks_5yr/SRCL_data.csv  \n",
      "  inflating: individual_stocks_5yr/EQR_data.csv  \n",
      "  inflating: individual_stocks_5yr/ANSS_data.csv  \n",
      "  inflating: individual_stocks_5yr/COST_data.csv  \n",
      "  inflating: individual_stocks_5yr/CTL_data.csv  \n",
      "  inflating: individual_stocks_5yr/AMG_data.csv  \n",
      "  inflating: individual_stocks_5yr/PCLN_data.csv  \n",
      "  inflating: individual_stocks_5yr/TRIP_data.csv  \n",
      "  inflating: individual_stocks_5yr/PSA_data.csv  \n",
      "  inflating: individual_stocks_5yr/UTX_data.csv  \n",
      "  inflating: individual_stocks_5yr/PGR_data.csv  \n",
      "  inflating: individual_stocks_5yr/IVZ_data.csv  \n",
      "  inflating: individual_stocks_5yr/GOOG_data.csv  \n",
      "  inflating: individual_stocks_5yr/LUK_data.csv  \n",
      "  inflating: individual_stocks_5yr/PKG_data.csv  \n",
      "  inflating: individual_stocks_5yr/BXP_data.csv  \n",
      "  inflating: individual_stocks_5yr/SRE_data.csv  \n",
      "  inflating: individual_stocks_5yr/ACN_data.csv  \n",
      "  inflating: individual_stocks_5yr/QRVO_data.csv  \n",
      "  inflating: individual_stocks_5yr/RJF_data.csv  \n",
      "  inflating: individual_stocks_5yr/XRAY_data.csv  \n",
      "  inflating: individual_stocks_5yr/DWDP_data.csv  \n",
      "  inflating: individual_stocks_5yr/CI_data.csv  \n",
      "  inflating: individual_stocks_5yr/KSS_data.csv  \n",
      "  inflating: individual_stocks_5yr/BHGE_data.csv  \n",
      "  inflating: individual_stocks_5yr/ADI_data.csv  \n",
      "  inflating: individual_stocks_5yr/JNJ_data.csv  \n",
      "  inflating: individual_stocks_5yr/DAL_data.csv  \n",
      "  inflating: individual_stocks_5yr/XL_data.csv  \n",
      "  inflating: individual_stocks_5yr/CHTR_data.csv  \n",
      "  inflating: individual_stocks_5yr/TDG_data.csv  \n",
      "  inflating: individual_stocks_5yr/EVHC_data.csv  \n",
      "  inflating: individual_stocks_5yr/D_data.csv  \n",
      "  inflating: individual_stocks_5yr/ORCL_data.csv  \n",
      "  inflating: individual_stocks_5yr/DGX_data.csv  \n",
      "  inflating: individual_stocks_5yr/CFG_data.csv  \n",
      "  inflating: individual_stocks_5yr/VRSN_data.csv  \n",
      "  inflating: individual_stocks_5yr/AJG_data.csv  \n",
      "  inflating: individual_stocks_5yr/UNH_data.csv  \n",
      "  inflating: individual_stocks_5yr/BIIB_data.csv  \n",
      "  inflating: individual_stocks_5yr/DE_data.csv  \n",
      "  inflating: individual_stocks_5yr/TXN_data.csv  \n",
      "  inflating: individual_stocks_5yr/KR_data.csv  \n",
      "  inflating: individual_stocks_5yr/AKAM_data.csv  \n",
      "  inflating: individual_stocks_5yr/TWX_data.csv  \n",
      "  inflating: individual_stocks_5yr/ETN_data.csv  \n",
      "  inflating: individual_stocks_5yr/VLO_data.csv  \n",
      "  inflating: individual_stocks_5yr/CINF_data.csv  \n",
      "  inflating: individual_stocks_5yr/PRGO_data.csv  \n",
      "  inflating: individual_stocks_5yr/PFG_data.csv  \n",
      "  inflating: individual_stocks_5yr/STZ_data.csv  \n",
      "  inflating: individual_stocks_5yr/AEP_data.csv  \n",
      "  inflating: individual_stocks_5yr/BAC_data.csv  \n",
      "  inflating: individual_stocks_5yr/PRU_data.csv  \n",
      "  inflating: individual_stocks_5yr/LLY_data.csv  \n",
      "  inflating: individual_stocks_5yr/NWSA_data.csv  \n",
      "  inflating: individual_stocks_5yr/ZBH_data.csv  \n",
      "  inflating: individual_stocks_5yr/NI_data.csv  \n",
      "  inflating: individual_stocks_5yr/EQT_data.csv  \n",
      "  inflating: individual_stocks_5yr/CMCSA_data.csv  \n",
      "  inflating: individual_stocks_5yr/TMO_data.csv  \n",
      "  inflating: individual_stocks_5yr/O_data.csv  \n",
      "  inflating: individual_stocks_5yr/IQV_data.csv  \n",
      "  inflating: individual_stocks_5yr/CMS_data.csv  \n",
      "  inflating: individual_stocks_5yr/EW_data.csv  \n",
      "  inflating: individual_stocks_5yr/COO_data.csv  \n",
      "  inflating: individual_stocks_5yr/CPB_data.csv  \n",
      "  inflating: individual_stocks_5yr/BDX_data.csv  \n",
      "  inflating: individual_stocks_5yr/GLW_data.csv  \n",
      "  inflating: individual_stocks_5yr/TIF_data.csv  \n",
      "  inflating: individual_stocks_5yr/CTXS_data.csv  \n",
      "  inflating: individual_stocks_5yr/MRO_data.csv  \n",
      "  inflating: individual_stocks_5yr/OKE_data.csv  \n",
      "  inflating: individual_stocks_5yr/MMC_data.csv  \n",
      "  inflating: individual_stocks_5yr/SCG_data.csv  \n",
      "  inflating: individual_stocks_5yr/LOW_data.csv  \n",
      "  inflating: individual_stocks_5yr/PNW_data.csv  \n",
      "  inflating: individual_stocks_5yr/VFC_data.csv  \n",
      "  inflating: individual_stocks_5yr/CB_data.csv  \n",
      "  inflating: individual_stocks_5yr/WMT_data.csv  \n",
      "  inflating: individual_stocks_5yr/NFX_data.csv  \n",
      "  inflating: individual_stocks_5yr/MTD_data.csv  \n",
      "  inflating: individual_stocks_5yr/ADBE_data.csv  \n",
      "  inflating: individual_stocks_5yr/COP_data.csv  \n",
      "  inflating: individual_stocks_5yr/AIV_data.csv  \n",
      "  inflating: individual_stocks_5yr/HES_data.csv  \n",
      "  inflating: individual_stocks_5yr/DLR_data.csv  \n",
      "  inflating: individual_stocks_5yr/KHC_data.csv  \n",
      "  inflating: individual_stocks_5yr/FISV_data.csv  \n",
      "  inflating: individual_stocks_5yr/GT_data.csv  \n",
      "  inflating: individual_stocks_5yr/VMC_data.csv  \n",
      "  inflating: individual_stocks_5yr/SWK_data.csv  \n",
      "  inflating: individual_stocks_5yr/ILMN_data.csv  \n",
      "  inflating: individual_stocks_5yr/PSX_data.csv  \n",
      "  inflating: individual_stocks_5yr/LMT_data.csv  \n",
      "  inflating: individual_stocks_5yr/ECL_data.csv  \n",
      "  inflating: individual_stocks_5yr/SNPS_data.csv  \n",
      "  inflating: individual_stocks_5yr/DUK_data.csv  \n",
      "  inflating: individual_stocks_5yr/GIS_data.csv  \n",
      "  inflating: individual_stocks_5yr/TSN_data.csv  \n",
      "  inflating: individual_stocks_5yr/XEC_data.csv  \n",
      "  inflating: individual_stocks_5yr/PH_data.csv  \n",
      "  inflating: individual_stocks_5yr/MCHP_data.csv  \n",
      "  inflating: individual_stocks_5yr/CNC_data.csv  \n",
      "  inflating: individual_stocks_5yr/ANTM_data.csv  \n",
      "  inflating: individual_stocks_5yr/IP_data.csv  \n",
      "  inflating: individual_stocks_5yr/UAA_data.csv  \n",
      "  inflating: individual_stocks_5yr/ANDV_data.csv  \n",
      "  inflating: individual_stocks_5yr/CCI_data.csv  \n",
      "  inflating: individual_stocks_5yr/CDNS_data.csv  \n",
      "  inflating: individual_stocks_5yr/CAT_data.csv  \n",
      "  inflating: individual_stocks_5yr/KMX_data.csv  \n",
      "  inflating: individual_stocks_5yr/CELG_data.csv  \n",
      "  inflating: individual_stocks_5yr/INCY_data.csv  \n",
      "  inflating: individual_stocks_5yr/CBOE_data.csv  \n",
      "  inflating: individual_stocks_5yr/ALL_data.csv  \n",
      "  inflating: individual_stocks_5yr/AMT_data.csv  \n",
      "  inflating: individual_stocks_5yr/MDT_data.csv  \n",
      "  inflating: individual_stocks_5yr/PNC_data.csv  \n",
      "  inflating: individual_stocks_5yr/APD_data.csv  \n",
      "  inflating: individual_stocks_5yr/HBAN_data.csv  \n",
      "  inflating: individual_stocks_5yr/EBAY_data.csv  \n",
      "  inflating: individual_stocks_5yr/BBY_data.csv  \n",
      "  inflating: individual_stocks_5yr/ICE_data.csv  \n",
      "  inflating: individual_stocks_5yr/WDC_data.csv  \n",
      "  inflating: individual_stocks_5yr/EXC_data.csv  \n",
      "  inflating: individual_stocks_5yr/TROW_data.csv  \n",
      "  inflating: individual_stocks_5yr/ZTS_data.csv  \n",
      "  inflating: individual_stocks_5yr/CMG_data.csv  \n",
      "  inflating: individual_stocks_5yr/TRV_data.csv  \n"
     ]
    },
    {
     "name": "stdout",
     "output_type": "stream",
     "text": [
      "  inflating: individual_stocks_5yr/MKC_data.csv  \n",
      "  inflating: individual_stocks_5yr/ABC_data.csv  \n",
      "  inflating: __MACOSX/individual_stocks_5yr/._ABC_data.csv  \n",
      "  inflating: individual_stocks_5yr/FRT_data.csv  \n",
      "  inflating: individual_stocks_5yr/DVN_data.csv  \n",
      "  inflating: individual_stocks_5yr/VIAB_data.csv  \n",
      "  inflating: individual_stocks_5yr/ARNC_data.csv  \n",
      "  inflating: individual_stocks_5yr/LLL_data.csv  \n",
      "  inflating: individual_stocks_5yr/MNST_data.csv  \n",
      "  inflating: individual_stocks_5yr/LEN_data.csv  \n",
      "  inflating: individual_stocks_5yr/AEE_data.csv  \n",
      "  inflating: individual_stocks_5yr/MSI_data.csv  \n",
      "  inflating: individual_stocks_5yr/CSX_data.csv  \n",
      "  inflating: individual_stocks_5yr/PVH_data.csv  \n",
      "  inflating: individual_stocks_5yr/FL_data.csv  \n",
      "  inflating: individual_stocks_5yr/IRM_data.csv  \n",
      "  inflating: individual_stocks_5yr/DOV_data.csv  \n",
      "  inflating: individual_stocks_5yr/AAL_data.csv  \n",
      "  inflating: individual_stocks_5yr/SPG_data.csv  \n",
      "  inflating: individual_stocks_5yr/MS_data.csv  \n",
      "  inflating: individual_stocks_5yr/CSCO_data.csv  \n",
      "  inflating: individual_stocks_5yr/NVDA_data.csv  \n",
      "  inflating: individual_stocks_5yr/RRC_data.csv  \n",
      "  inflating: individual_stocks_5yr/PKI_data.csv  \n",
      "  inflating: individual_stocks_5yr/NSC_data.csv  \n",
      "  inflating: individual_stocks_5yr/BEN_data.csv  \n",
      "  inflating: individual_stocks_5yr/SBAC_data.csv  \n",
      "  inflating: individual_stocks_5yr/UNM_data.csv  \n",
      "  inflating: individual_stocks_5yr/VRSK_data.csv  \n",
      "  inflating: individual_stocks_5yr/NEM_data.csv  \n",
      "  inflating: individual_stocks_5yr/KLAC_data.csv  \n",
      "  inflating: individual_stocks_5yr/BLL_data.csv  \n",
      "  inflating: individual_stocks_5yr/EMR_data.csv  \n",
      "  inflating: individual_stocks_5yr/KMB_data.csv  \n",
      "  inflating: individual_stocks_5yr/DIS_data.csv  \n",
      "  inflating: individual_stocks_5yr/PPL_data.csv  \n",
      "  inflating: individual_stocks_5yr/AET_data.csv  \n",
      "  inflating: individual_stocks_5yr/ES_data.csv  \n",
      "  inflating: individual_stocks_5yr/UPS_data.csv  \n",
      "  inflating: individual_stocks_5yr/EXR_data.csv  \n",
      "  inflating: individual_stocks_5yr/ULTA_data.csv  \n",
      "  inflating: individual_stocks_5yr/GWW_data.csv  \n",
      "  inflating: individual_stocks_5yr/TMK_data.csv  \n",
      "  inflating: individual_stocks_5yr/K_data.csv  \n",
      "  inflating: individual_stocks_5yr/SNI_data.csv  \n",
      "  inflating: individual_stocks_5yr/GRMN_data.csv  \n",
      "  inflating: individual_stocks_5yr/CVS_data.csv  \n",
      "  inflating: individual_stocks_5yr/CF_data.csv  \n",
      "  inflating: individual_stocks_5yr/AMD_data.csv  \n",
      "  inflating: individual_stocks_5yr/PNR_data.csv  \n",
      "  inflating: individual_stocks_5yr/RHT_data.csv  \n",
      "  inflating: individual_stocks_5yr/AME_data.csv  \n",
      "  inflating: individual_stocks_5yr/APTV_data.csv  \n",
      "  inflating: individual_stocks_5yr/CTSH_data.csv  \n",
      "  inflating: individual_stocks_5yr/MRK_data.csv  \n",
      "  inflating: individual_stocks_5yr/WU_data.csv  \n",
      "  inflating: individual_stocks_5yr/IBM_data.csv  \n",
      "  inflating: individual_stocks_5yr/MSFT_data.csv  \n",
      "  inflating: individual_stocks_5yr/STT_data.csv  \n",
      "  inflating: individual_stocks_5yr/FMC_data.csv  \n",
      "  inflating: individual_stocks_5yr/UHS_data.csv  \n",
      "  inflating: individual_stocks_5yr/PPG_data.csv  \n",
      "  inflating: individual_stocks_5yr/KMI_data.csv  \n",
      "  inflating: individual_stocks_5yr/RE_data.csv  \n",
      "  inflating: individual_stocks_5yr/HON_data.csv  \n",
      "  inflating: individual_stocks_5yr/PX_data.csv  \n",
      "  inflating: individual_stocks_5yr/AAPL_data.csv  \n",
      "  inflating: __MACOSX/individual_stocks_5yr/._AAPL_data.csv  \n",
      "  inflating: individual_stocks_5yr/RMD_data.csv  \n",
      "  inflating: individual_stocks_5yr/MAT_data.csv  \n",
      "  inflating: individual_stocks_5yr/PEG_data.csv  \n",
      "  inflating: individual_stocks_5yr/INTU_data.csv  \n",
      "  inflating: individual_stocks_5yr/SHW_data.csv  \n",
      "  inflating: individual_stocks_5yr/KEY_data.csv  \n",
      "  inflating: individual_stocks_5yr/ADM_data.csv  \n",
      "  inflating: individual_stocks_5yr/MMM_data.csv  \n",
      "  inflating: individual_stocks_5yr/AOS_data.csv  \n",
      "  inflating: individual_stocks_5yr/CVX_data.csv  \n",
      "  inflating: individual_stocks_5yr/PLD_data.csv  \n",
      "  inflating: individual_stocks_5yr/CL_data.csv  \n",
      "  inflating: individual_stocks_5yr/DISH_data.csv  \n",
      "  inflating: individual_stocks_5yr/A_data.csv  \n",
      "  inflating: __MACOSX/individual_stocks_5yr/._A_data.csv  \n",
      "  inflating: individual_stocks_5yr/EQIX_data.csv  \n",
      "  inflating: individual_stocks_5yr/GE_data.csv  \n",
      "  inflating: individual_stocks_5yr/GD_data.csv  \n",
      "  inflating: individual_stocks_5yr/ALLE_data.csv  \n",
      "  inflating: individual_stocks_5yr/PHM_data.csv  \n",
      "  inflating: individual_stocks_5yr/AIG_data.csv  \n",
      "  inflating: individual_stocks_5yr/LKQ_data.csv  \n",
      "  inflating: individual_stocks_5yr/HSIC_data.csv  \n",
      "  inflating: individual_stocks_5yr/ADS_data.csv  \n",
      "  inflating: individual_stocks_5yr/VRTX_data.csv  \n",
      "  inflating: individual_stocks_5yr/MDLZ_data.csv  \n",
      "  inflating: individual_stocks_5yr/MON_data.csv  \n",
      "  inflating: individual_stocks_5yr/MPC_data.csv  \n",
      "  inflating: individual_stocks_5yr/APA_data.csv  \n",
      "  inflating: individual_stocks_5yr/BRK.B_data.csv  \n",
      "  inflating: individual_stocks_5yr/AMP_data.csv  \n",
      "  inflating: individual_stocks_5yr/FCX_data.csv  \n",
      "  inflating: individual_stocks_5yr/PCAR_data.csv  \n",
      "  inflating: individual_stocks_5yr/NLSN_data.csv  \n",
      "  inflating: individual_stocks_5yr/TJX_data.csv  \n",
      "  inflating: individual_stocks_5yr/PYPL_data.csv  \n",
      "  inflating: individual_stocks_5yr/FBHS_data.csv  \n",
      "  inflating: individual_stocks_5yr/AXP_data.csv  \n",
      "  inflating: individual_stocks_5yr/BA_data.csv  \n",
      "  inflating: individual_stocks_5yr/LNT_data.csv  \n",
      "  inflating: individual_stocks_5yr/ALB_data.csv  \n",
      "  inflating: individual_stocks_5yr/PG_data.csv  \n",
      "  inflating: individual_stocks_5yr/XEL_data.csv  \n",
      "  inflating: individual_stocks_5yr/ATVI_data.csv  \n",
      "  inflating: individual_stocks_5yr/FFIV_data.csv  \n",
      "  inflating: individual_stocks_5yr/EFX_data.csv  \n",
      "  inflating: individual_stocks_5yr/CMI_data.csv  \n",
      "  inflating: individual_stocks_5yr/EL_data.csv  \n",
      "  inflating: individual_stocks_5yr/ESS_data.csv  \n",
      "  inflating: individual_stocks_5yr/PCG_data.csv  \n",
      "  inflating: individual_stocks_5yr/ALGN_data.csv  \n",
      "  inflating: individual_stocks_5yr/KORS_data.csv  \n",
      "  inflating: individual_stocks_5yr/HSY_data.csv  \n",
      "  inflating: individual_stocks_5yr/HLT_data.csv  \n",
      "  inflating: individual_stocks_5yr/T_data.csv  \n",
      "  inflating: individual_stocks_5yr/CHRW_data.csv  \n",
      "  inflating: individual_stocks_5yr/AYI_data.csv  \n",
      "  inflating: individual_stocks_5yr/LYB_data.csv  \n",
      "  inflating: individual_stocks_5yr/HUM_data.csv  \n",
      "  inflating: individual_stocks_5yr/FB_data.csv  \n",
      "  inflating: individual_stocks_5yr/DRI_data.csv  \n",
      "  inflating: individual_stocks_5yr/SYK_data.csv  \n",
      "  inflating: individual_stocks_5yr/MAA_data.csv  \n",
      "  inflating: individual_stocks_5yr/SCHW_data.csv  \n",
      "  inflating: individual_stocks_5yr/USB_data.csv  \n",
      "  inflating: individual_stocks_5yr/TXT_data.csv  \n",
      "  inflating: individual_stocks_5yr/PM_data.csv  \n",
      "  inflating: individual_stocks_5yr/NTRS_data.csv  \n",
      "  inflating: individual_stocks_5yr/BAX_data.csv  \n",
      "  inflating: individual_stocks_5yr/ITW_data.csv  \n",
      "  inflating: individual_stocks_5yr/BK_data.csv  \n",
      "  inflating: individual_stocks_5yr/DVA_data.csv  \n",
      "  inflating: individual_stocks_5yr/GPN_data.csv  \n",
      "  inflating: individual_stocks_5yr/IT_data.csv  \n",
      "  inflating: individual_stocks_5yr/CCL_data.csv  \n",
      "  inflating: individual_stocks_5yr/SWKS_data.csv  \n",
      "  inflating: individual_stocks_5yr/HAS_data.csv  \n",
      "  inflating: individual_stocks_5yr/DHR_data.csv  \n",
      "  inflating: individual_stocks_5yr/WMB_data.csv  \n",
      "  inflating: individual_stocks_5yr/HCN_data.csv  \n",
      "  inflating: individual_stocks_5yr/CBS_data.csv  \n",
      "  inflating: individual_stocks_5yr/EA_data.csv  \n",
      "  inflating: individual_stocks_5yr/CME_data.csv  \n",
      "  inflating: individual_stocks_5yr/SEE_data.csv  \n",
      "  inflating: individual_stocks_5yr/VTR_data.csv  \n",
      "  inflating: individual_stocks_5yr/HST_data.csv  \n",
      "  inflating: individual_stocks_5yr/SLG_data.csv  \n",
      "  inflating: individual_stocks_5yr/JWN_data.csv  \n",
      "  inflating: individual_stocks_5yr/LB_data.csv  \n",
      "  inflating: individual_stocks_5yr/SO_data.csv  \n",
      "  inflating: individual_stocks_5yr/UDR_data.csv  \n",
      "  inflating: individual_stocks_5yr/ALXN_data.csv  \n",
      "  inflating: individual_stocks_5yr/NUE_data.csv  \n",
      "  inflating: individual_stocks_5yr/GPC_data.csv  \n",
      "  inflating: individual_stocks_5yr/FDX_data.csv  \n",
      "  inflating: individual_stocks_5yr/SYF_data.csv  \n",
      "  inflating: individual_stocks_5yr/LUV_data.csv  \n",
      "  inflating: individual_stocks_5yr/TGT_data.csv  \n",
      "  inflating: individual_stocks_5yr/VAR_data.csv  \n",
      "  inflating: individual_stocks_5yr/DISCA_data.csv  \n",
      "  inflating: individual_stocks_5yr/FIS_data.csv  \n",
      "  inflating: individual_stocks_5yr/EXPE_data.csv  \n",
      "  inflating: individual_stocks_5yr/EXPD_data.csv  \n",
      "  inflating: individual_stocks_5yr/DRE_data.csv  \n",
      "  inflating: individual_stocks_5yr/LH_data.csv  \n",
      "  inflating: individual_stocks_5yr/DXC_data.csv  \n",
      "  inflating: individual_stocks_5yr/REG_data.csv  \n",
      "  inflating: individual_stocks_5yr/PWR_data.csv  \n",
      "  inflating: individual_stocks_5yr/WLTW_data.csv  \n",
      "  inflating: individual_stocks_5yr/XOM_data.csv  \n",
      "  inflating: individual_stocks_5yr/IDXX_data.csv  \n",
      "  inflating: individual_stocks_5yr/AVY_data.csv  \n",
      "  inflating: individual_stocks_5yr/BF.B_data.csv  \n",
      "  inflating: individual_stocks_5yr/PXD_data.csv  \n",
      "  inflating: individual_stocks_5yr/WM_data.csv  \n",
      "  inflating: individual_stocks_5yr/AMAT_data.csv  \n",
      "  inflating: individual_stocks_5yr/JEC_data.csv  \n",
      "  inflating: individual_stocks_5yr/MYL_data.csv  \n",
      "  inflating: individual_stocks_5yr/ROST_data.csv  \n",
      "  inflating: individual_stocks_5yr/GOOGL_data.csv  \n",
      "  inflating: individual_stocks_5yr/BSX_data.csv  \n",
      "  inflating: individual_stocks_5yr/CXO_data.csv  \n",
      "  inflating: individual_stocks_5yr/HPQ_data.csv  \n",
      "  inflating: individual_stocks_5yr/WYNN_data.csv  \n",
      "  inflating: individual_stocks_5yr/PDCO_data.csv  \n",
      "  inflating: individual_stocks_5yr/HRL_data.csv  \n",
      "  inflating: individual_stocks_5yr/ROK_data.csv  \n",
      "  inflating: individual_stocks_5yr/FE_data.csv  \n",
      "  inflating: individual_stocks_5yr/WHR_data.csv  \n",
      "  inflating: individual_stocks_5yr/ETFC_data.csv  \n",
      "  inflating: individual_stocks_5yr/FTI_data.csv  \n",
      "  inflating: individual_stocks_5yr/AWK_data.csv  \n",
      "  inflating: individual_stocks_5yr/NDAQ_data.csv  \n",
      "  inflating: individual_stocks_5yr/DPS_data.csv  \n",
      "  inflating: individual_stocks_5yr/DISCK_data.csv  \n",
      "  inflating: individual_stocks_5yr/ETR_data.csv  \n",
      "  inflating: individual_stocks_5yr/VNO_data.csv  \n",
      "  inflating: individual_stocks_5yr/XLNX_data.csv  \n",
      "  inflating: individual_stocks_5yr/HII_data.csv  \n",
      "  inflating: individual_stocks_5yr/KO_data.csv  \n",
      "  inflating: individual_stocks_5yr/LEG_data.csv  \n",
      "  inflating: individual_stocks_5yr/IR_data.csv  \n",
      "  inflating: individual_stocks_5yr/MLM_data.csv  \n",
      "  inflating: individual_stocks_5yr/TSCO_data.csv  \n",
      "  inflating: individual_stocks_5yr/NWS_data.csv  \n",
      "  inflating: individual_stocks_5yr/RTN_data.csv  \n",
      "  inflating: individual_stocks_5yr/TSS_data.csv  \n",
      "  inflating: individual_stocks_5yr/HRS_data.csv  \n",
      "  inflating: individual_stocks_5yr/BLK_data.csv  \n",
      "  inflating: individual_stocks_5yr/GILD_data.csv  \n",
      "  inflating: individual_stocks_5yr/PAYX_data.csv  \n",
      "  inflating: individual_stocks_5yr/DG_data.csv  \n",
      "  inflating: individual_stocks_5yr/MCD_data.csv  \n",
      "  inflating: individual_stocks_5yr/FTV_data.csv  \n",
      "  inflating: individual_stocks_5yr/IPG_data.csv  \n",
      "  inflating: individual_stocks_5yr/KIM_data.csv  \n",
      "  inflating: individual_stocks_5yr/STX_data.csv  \n",
      "  inflating: individual_stocks_5yr/AES_data.csv  \n",
      "  inflating: individual_stocks_5yr/PFE_data.csv  \n",
      "  inflating: individual_stocks_5yr/YUM_data.csv  \n",
      "  inflating: individual_stocks_5yr/CAH_data.csv  \n",
      "  inflating: individual_stocks_5yr/AGN_data.csv  \n",
      "  inflating: individual_stocks_5yr/MGM_data.csv  \n",
      "  inflating: individual_stocks_5yr/CHK_data.csv  \n",
      "  inflating: individual_stocks_5yr/HBI_data.csv  \n",
      "  inflating: individual_stocks_5yr/DTE_data.csv  \n",
      "  inflating: individual_stocks_5yr/NWL_data.csv  \n",
      "  inflating: individual_stocks_5yr/M_data.csv  \n",
      "  inflating: individual_stocks_5yr/L_data.csv  \n",
      "  inflating: individual_stocks_5yr/ABT_data.csv  \n",
      "  inflating: individual_stocks_5yr/WBA_data.csv  \n",
      "  inflating: individual_stocks_5yr/BMY_data.csv  \n",
      "  inflating: individual_stocks_5yr/HOLX_data.csv  \n",
      "  inflating: individual_stocks_5yr/PBCT_data.csv  \n",
      "  inflating: individual_stocks_5yr/URI_data.csv  \n",
      "  inflating: individual_stocks_5yr/COL_data.csv  \n",
      "  inflating: individual_stocks_5yr/AMZN_data.csv  \n"
     ]
    },
    {
     "name": "stdout",
     "output_type": "stream",
     "text": [
      "  inflating: individual_stocks_5yr/JCI_data.csv  \r\n",
      "  inflating: individual_stocks_5yr/CBG_data.csv  \r\n",
      "  inflating: individual_stocks_5yr/NCLH_data.csv  \r\n",
      "  inflating: individual_stocks_5yr/RCL_data.csv  \r\n",
      "  inflating: individual_stocks_5yr/NBL_data.csv  \r\n",
      "  inflating: individual_stocks_5yr/SYMC_data.csv  \r\n",
      "  inflating: individual_stocks_5yr/CA_data.csv  \r\n",
      "  inflating: individual_stocks_5yr/JBHT_data.csv  \r\n",
      "  inflating: individual_stocks_5yr/FOX_data.csv  \r\n",
      "  inflating: individual_stocks_5yr/FAST_data.csv  \r\n",
      "  inflating: individual_stocks_5yr/ZION_data.csv  \r\n",
      "  inflating: individual_stocks_5yr/ABBV_data.csv  \r\n",
      "  inflating: individual_stocks_5yr/MCO_data.csv  \r\n",
      "  inflating: individual_stocks_5yr/SYY_data.csv  \r\n",
      "  inflating: individual_stocks_5yr/MAS_data.csv  \r\n",
      "  inflating: __MACOSX/individual_stocks_5yr/._MAS_data.csv  \r\n",
      "  inflating: individual_stocks_5yr/OXY_data.csv  \r\n",
      "  inflating: individual_stocks_5yr/MAR_data.csv  \r\n",
      "  inflating: individual_stocks_5yr/AAP_data.csv  \r\n",
      "  inflating: individual_stocks_5yr/HPE_data.csv  \r\n",
      "  inflating: individual_stocks_5yr/MO_data.csv  \r\n",
      "  inflating: individual_stocks_5yr/ARE_data.csv  \r\n",
      "  inflating: individual_stocks_5yr/ORLY_data.csv  \r\n",
      "  inflating: individual_stocks_5yr/HCP_data.csv  \r\n",
      "  inflating: individual_stocks_5yr/NKE_data.csv  \r\n",
      "  inflating: individual_stocks_5yr/HAL_data.csv  \r\n",
      "  inflating: individual_stocks_5yr/CERN_data.csv  \r\n",
      "  inflating: individual_stocks_5yr/SJM_data.csv  \r\n",
      "  inflating: individual_stocks_5yr/WY_data.csv  \r\n",
      "  inflating: individual_stocks_5yr/WYN_data.csv  \r\n",
      "  inflating: individual_stocks_5yr/WFC_data.csv  \r\n",
      "  inflating: individual_stocks_5yr/QCOM_data.csv  \r\n",
      "  inflating: individual_stocks_5yr/COF_data.csv  \r\n",
      "  inflating: individual_stocks_5yr/COG_data.csv  \r\n",
      "  inflating: individual_stocks_5yr/F_data.csv  \r\n"
     ]
    }
   ],
   "source": [
    "# download data\n",
    "!if ! [ -d \"data\" ]; then mkdir data; cd data; wget https://github.com/CNuge/kaggle-code/raw/master/stock_data/individual_stocks_5yr.zip; wget https://raw.githubusercontent.com/CNuge/kaggle-code/master/stock_data/merge.sh; chmod +x merge.sh; unzip individual_stocks_5yr.zip; ./merge.sh; fi\n"
   ]
  },
  {
   "cell_type": "code",
   "execution_count": 4,
   "metadata": {
    "colab": {
     "base_uri": "https://localhost:8080/"
    },
    "id": "dMefLEwXLrAB",
    "outputId": "0007508f-de13-46ab-849a-235fb4b4d404"
   },
   "outputs": [
    {
     "name": "stdout",
     "output_type": "stream",
     "text": [
      "         date   open   high    low  close    volume Name\n",
      "0  2013-02-08  15.07  15.12  14.63  14.75   8407500  AAL\n",
      "1  2013-02-11  14.89  15.01  14.26  14.46   8882000  AAL\n",
      "2  2013-02-12  14.45  14.51  14.10  14.27   8126000  AAL\n",
      "3  2013-02-13  14.30  14.94  14.25  14.66  10259500  AAL\n",
      "4  2013-02-14  14.94  14.96  13.16  13.99  31879900  AAL\n",
      "5  2013-02-15  13.93  14.61  13.93  14.50  15628000  AAL\n",
      "6  2013-02-19  14.33  14.56  14.08  14.26  11354400  AAL\n",
      "7  2013-02-20  14.17  14.26  13.15  13.33  14725200  AAL\n",
      "8  2013-02-21  13.62  13.95  12.90  13.37  11922100  AAL\n",
      "9  2013-02-22  13.57  13.60  13.21  13.57   6071400  AAL\n",
      "              date    open      high       low   close   volume Name\n",
      "381385  2013-02-08  102.34  103.3300  102.0400  102.66  1937721  MMM\n",
      "381386  2013-02-11  102.39  102.8800  102.0401  102.62  1715444  MMM\n",
      "381387  2013-02-12  102.66  103.5900  102.6300  103.46  1927930  MMM\n",
      "381388  2013-02-13  103.03  103.3950  102.5800  102.86  1699804  MMM\n",
      "381389  2013-02-14  102.43  103.1400  102.2200  102.78  2217419  MMM\n",
      "381390  2013-02-15  103.06  103.3800  102.6200  103.23  2326159  MMM\n",
      "381391  2013-02-19  103.42  104.3916  103.3200  104.18  2988487  MMM\n",
      "381392  2013-02-20  104.18  104.4000  103.1500  103.15  2997192  MMM\n",
      "381393  2013-02-21  102.88  103.1400  102.3900  102.72  2758728  MMM\n",
      "381394  2013-02-22  102.99  103.7000  102.8200  103.54  2158013  MMM\n"
     ]
    }
   ],
   "source": [
    "# read data\n",
    "data = pd.read_csv(filepath)\n",
    "print(data[:10])\n",
    "\n",
    "target_rows = data[data['Name']=='MMM']\n",
    "print(target_rows[:10])"
   ]
  },
  {
   "cell_type": "code",
   "execution_count": 5,
   "metadata": {
    "colab": {
     "base_uri": "https://localhost:8080/"
    },
    "id": "j6OfgfNDLrAC",
    "outputId": "23fd8f13-d920-4217-f85b-1b4f90a7503c"
   },
   "outputs": [
    {
     "name": "stdout",
     "output_type": "stream",
     "text": [
      "[[102.66]\n",
      " [102.62]\n",
      " [103.46]\n",
      " [102.86]\n",
      " [102.78]\n",
      " [103.23]\n",
      " [104.18]\n",
      " [103.15]\n",
      " [102.72]\n",
      " [103.54]]\n"
     ]
    }
   ],
   "source": [
    "# extract close value\n",
    "close_val = target_rows[['close']].values\n",
    "print(close_val[:10])"
   ]
  },
  {
   "cell_type": "code",
   "execution_count": 6,
   "metadata": {},
   "outputs": [
    {
     "data": {
      "image/png": "[encoded data removed]",
      "text/plain": [
       "<Figure size 432x288 with 1 Axes>"
      ]
     },
     "metadata": {
      "needs_background": "light"
     },
     "output_type": "display_data"
    }
   ],
   "source": [
    "# Visualize data\n",
    "\n",
    "import matplotlib.pyplot as plt\n",
    "plt.plot(close_val, color='blue', label='MMM daily price Raw')\n",
    "plt.xlabel(\"Time Period\")\n",
    "plt.ylabel(\"Stock Price\")\n",
    "plt.legend()\n",
    "plt.show()"
   ]
  },
  {
   "cell_type": "markdown",
   "metadata": {
    "id": "_dD-qd0Z8JGC"
   },
   "source": [
    "## Data Pre-processing\n",
    "Now we need to do data cleaning and preprocessing on the raw data. Note that this part could vary for different dataset.\n",
    "\n",
    "For the stock price data we're using, the processing contains 2 parts:\n",
    "\n",
    "1.   Data normalization such that the normalized stock prices fall in the range of 0 to 1\n",
    "2.   Extract time series of given window_size\n",
    "\n"
   ]
  },
  {
   "cell_type": "code",
   "execution_count": 7,
   "metadata": {
    "id": "SRiGkkIvLrAC"
   },
   "outputs": [],
   "source": [
    "from sklearn.preprocessing import MinMaxScaler\n",
    "\n",
    "def normalize_data(data):\n",
    "    \"\"\"\n",
    "    Use sklearn.preprocessing.MinMaxScaler() to normalize data (min = 0, max = 1)\n",
    "        1. X_std = (X - X.min(axis=0)) / (X.max(axis=0) - X.min(axis=0))\n",
    "        2. X_scaled = X_std * (max - min) + min\n",
    "    \"\"\"\n",
    "    data_normalized = MinMaxScaler().fit_transform(data)\n",
    "    return data_normalized\n",
    "\n",
    "close_val_norm = normalize_data(close_val)"
   ]
  },
  {
   "cell_type": "code",
   "execution_count": 8,
   "metadata": {
    "id": "SDzsa8X4LrAD"
   },
   "outputs": [],
   "source": [
    "def process_data(data, window_size):\n",
    "    \"\"\"\n",
    "    Extract time series of given window_size and construct the dataset\n",
    "    \"\"\"\n",
    "    X, y = [], []\n",
    "    for i in range(len(data)-window_size-1):\n",
    "        X.append(data[i:(i+window_size)])\n",
    "        y.append(data[(i+window_size)])\n",
    "    return np.array(X), np.array(y)\n",
    "\n",
    "window_size = 50\n",
    "X, y = process_data(close_val_norm, window_size)"
   ]
  },
  {
   "cell_type": "code",
   "execution_count": 9,
   "metadata": {
    "colab": {
     "base_uri": "https://localhost:8080/"
    },
    "id": "xvG7WGSOLrAE",
    "outputId": "683957ba-7ea3-44dc-8f1f-ed02d9df65b8"
   },
   "outputs": [
    {
     "name": "stdout",
     "output_type": "stream",
     "text": [
      "966\n",
      "242\n"
     ]
    }
   ],
   "source": [
    "# train/test split\n",
    "X_train, X_test = X[:int(X.shape[0]*0.80)], X[int(X.shape[0]*0.80):]\n",
    "y_train, y_test = y[:int(y.shape[0]*0.80)], y[int(y.shape[0]*0.80):]\n",
    "print(X_train.shape[0])\n",
    "print(X_test.shape[0])"
   ]
  },
  {
   "cell_type": "markdown",
   "metadata": {
    "id": "6fT-WKaB8Q5N"
   },
   "source": [
    "## Time series forecasting\n",
    "\n",
    "We use LSTMForecaster for forecasting."
   ]
  },
  {
   "cell_type": "code",
   "execution_count": 10,
   "metadata": {
    "id": "vrf48pWH_Vaf"
   },
   "outputs": [
    {
     "name": "stdout",
     "output_type": "stream",
     "text": [
      "WARNING:tensorflow:From /home/junweid/intel_PR4/analytics-zoo/pyzoo/zoo/tfpark/zoo_optimizer.py:73: The name tf.train.Optimizer is deprecated. Please use tf.compat.v1.train.Optimizer instead.\n",
      "\n"
     ]
    }
   ],
   "source": [
    "from zoo.chronos.model.forecast.lstm_forecaster import LSTMForecaster"
   ]
  },
  {
   "cell_type": "markdown",
   "metadata": {
    "id": "eCgIOQQK_YDS"
   },
   "source": [
    "First we initiate a LSTMForecaster.\n",
    "\n",
    "\n",
    "*   `feature_dim` should match the dimension of the input data, so we just use the last dimension of train input data shape\n",
    "*   `target_dim` equals the dimension of the output data, here we set `target_dim=1` for univariate forecasting.\n",
    "\n"
   ]
  },
  {
   "cell_type": "code",
   "execution_count": 11,
   "metadata": {
    "id": "QR04YjGiLrAE"
   },
   "outputs": [],
   "source": [
    "# Hyperparameters\n",
    "feature_dim = X_train.shape[-1]\n",
    "target_dim = 1\n",
    "hidden_dim = 10\n",
    "learning_rate = 0.01\n",
    "batch_size = 16\n",
    "epochs = 50"
   ]
  },
  {
   "cell_type": "code",
   "execution_count": 12,
   "metadata": {
    "colab": {
     "base_uri": "https://localhost:8080/"
    },
    "id": "2DE_F4ltLrAF",
    "outputId": "7448bb5b-78a7-4e20-d0b7-a944483297ce"
   },
   "outputs": [
    {
     "name": "stdout",
     "output_type": "stream",
     "text": [
      "WARNING:tensorflow:From /home/junweid/anaconda3/envs/automl/lib/python3.6/site-packages/tensorflow_core/python/ops/resource_variable_ops.py:1630: calling BaseResourceVariable.__init__ (from tensorflow.python.ops.resource_variable_ops) with constraint is deprecated and will be removed in a future version.\n",
      "Instructions for updating:\n",
      "If using Keras pass *_constraint arguments to layers.\n"
     ]
    }
   ],
   "source": [
    "# build model\n",
    "lstm_config = {\"lstm_units\": [hidden_dim] * 1, \"lr\": learning_rate}\n",
    "forecaster = LSTMForecaster(target_dim=target_dim, feature_dim=feature_dim, **lstm_config)"
   ]
  },
  {
   "cell_type": "markdown",
   "metadata": {
    "id": "tGhlYHGKA1Jw"
   },
   "source": [
    "\n",
    "Then we use fit to train the model. Wait sometime for it to finish."
   ]
  },
  {
   "cell_type": "code",
   "execution_count": 13,
   "metadata": {
    "id": "pYknEGOMAziH",
    "scrolled": true
   },
   "outputs": [
    {
     "name": "stdout",
     "output_type": "stream",
     "text": [
      "WARNING:tensorflow:From /home/junweid/anaconda3/envs/automl/lib/python3.6/site-packages/tensorflow_core/python/ops/math_grad.py:1424: where (from tensorflow.python.ops.array_ops) is deprecated and will be removed in a future version.\n",
      "Instructions for updating:\n",
      "Use tf.where in 2.0, which has the same broadcast rule as np.where\n",
      "Train on 966 samples\n",
      "Epoch 1/50\n",
      "966/966 [==============================] - 5s 5ms/sample - loss: 0.0098 - mean_squared_error: 0.0098\n",
      "Epoch 2/50\n",
      "966/966 [==============================] - 4s 4ms/sample - loss: 0.0024 - mean_squared_error: 0.0024\n",
      "Epoch 3/50\n",
      "966/966 [==============================] - 4s 4ms/sample - loss: 0.0015 - mean_squared_error: 0.0015\n",
      "Epoch 4/50\n",
      "966/966 [==============================] - 4s 4ms/sample - loss: 0.0012 - mean_squared_error: 0.0012\n",
      "Epoch 5/50\n",
      "966/966 [==============================] - 4s 4ms/sample - loss: 0.0011 - mean_squared_error: 0.0011\n",
      "Epoch 6/50\n",
      "966/966 [==============================] - 4s 4ms/sample - loss: 9.2407e-04 - mean_squared_error: 9.2407e-04\n",
      "Epoch 7/50\n",
      "966/966 [==============================] - 4s 4ms/sample - loss: 7.7436e-04 - mean_squared_error: 7.7436e-04\n",
      "Epoch 8/50\n",
      "966/966 [==============================] - 4s 4ms/sample - loss: 7.5979e-04 - mean_squared_error: 7.5979e-04\n",
      "Epoch 9/50\n",
      "966/966 [==============================] - 4s 4ms/sample - loss: 8.2051e-04 - mean_squared_error: 8.2051e-04\n",
      "Epoch 10/50\n",
      "966/966 [==============================] - 4s 4ms/sample - loss: 6.8763e-04 - mean_squared_error: 6.8763e-04\n",
      "Epoch 11/50\n",
      "966/966 [==============================] - 4s 4ms/sample - loss: 7.8411e-04 - mean_squared_error: 7.8411e-04\n",
      "Epoch 12/50\n",
      "966/966 [==============================] - 4s 4ms/sample - loss: 6.1689e-04 - mean_squared_error: 6.1689e-04\n",
      "Epoch 13/50\n",
      "966/966 [==============================] - 4s 4ms/sample - loss: 7.1381e-04 - mean_squared_error: 7.1381e-04\n",
      "Epoch 14/50\n",
      "966/966 [==============================] - 4s 4ms/sample - loss: 6.3901e-04 - mean_squared_error: 6.3901e-04\n",
      "Epoch 15/50\n",
      "966/966 [==============================] - 4s 4ms/sample - loss: 6.6430e-04 - mean_squared_error: 6.6430e-04\n",
      "Epoch 16/50\n",
      "966/966 [==============================] - 4s 4ms/sample - loss: 6.9548e-04 - mean_squared_error: 6.9548e-04\n",
      "Epoch 17/50\n",
      "966/966 [==============================] - 4s 4ms/sample - loss: 6.6849e-04 - mean_squared_error: 6.6849e-04\n",
      "Epoch 18/50\n",
      "966/966 [==============================] - 4s 4ms/sample - loss: 7.0762e-04 - mean_squared_error: 7.0762e-04\n",
      "Epoch 19/50\n",
      "966/966 [==============================] - 4s 4ms/sample - loss: 6.8023e-04 - mean_squared_error: 6.8023e-04\n",
      "Epoch 20/50\n",
      "966/966 [==============================] - 4s 4ms/sample - loss: 5.8696e-04 - mean_squared_error: 5.8696e-04\n",
      "Epoch 21/50\n",
      "966/966 [==============================] - 4s 4ms/sample - loss: 6.4076e-04 - mean_squared_error: 6.4076e-04\n",
      "Epoch 22/50\n",
      "966/966 [==============================] - 4s 4ms/sample - loss: 6.5856e-04 - mean_squared_error: 6.5856e-04\n",
      "Epoch 23/50\n",
      "966/966 [==============================] - 4s 4ms/sample - loss: 6.4788e-04 - mean_squared_error: 6.4788e-04\n",
      "Epoch 24/50\n",
      "966/966 [==============================] - 4s 4ms/sample - loss: 6.0994e-04 - mean_squared_error: 6.0994e-04\n",
      "Epoch 25/50\n",
      "966/966 [==============================] - 4s 4ms/sample - loss: 5.5612e-04 - mean_squared_error: 5.5612e-04\n",
      "Epoch 26/50\n",
      "966/966 [==============================] - 4s 4ms/sample - loss: 6.3245e-04 - mean_squared_error: 6.3245e-04\n",
      "Epoch 27/50\n",
      "966/966 [==============================] - 4s 4ms/sample - loss: 5.8306e-04 - mean_squared_error: 5.8306e-04\n",
      "Epoch 28/50\n",
      "966/966 [==============================] - 4s 4ms/sample - loss: 6.5355e-04 - mean_squared_error: 6.5355e-04\n",
      "Epoch 29/50\n",
      "966/966 [==============================] - 4s 4ms/sample - loss: 5.4835e-04 - mean_squared_error: 5.4835e-04\n",
      "Epoch 30/50\n",
      "966/966 [==============================] - 4s 4ms/sample - loss: 6.2011e-04 - mean_squared_error: 6.2011e-04\n",
      "Epoch 31/50\n",
      "966/966 [==============================] - 4s 4ms/sample - loss: 6.0245e-04 - mean_squared_error: 6.0245e-04\n",
      "Epoch 32/50\n",
      "966/966 [==============================] - 4s 4ms/sample - loss: 5.9981e-04 - mean_squared_error: 5.9981e-04\n",
      "Epoch 33/50\n",
      "966/966 [==============================] - 4s 4ms/sample - loss: 5.8611e-04 - mean_squared_error: 5.8611e-04\n",
      "Epoch 34/50\n",
      "966/966 [==============================] - 4s 4ms/sample - loss: 6.4267e-04 - mean_squared_error: 6.4267e-04\n",
      "Epoch 35/50\n",
      "966/966 [==============================] - 4s 4ms/sample - loss: 5.9022e-04 - mean_squared_error: 5.9022e-04\n",
      "Epoch 36/50\n",
      "966/966 [==============================] - 4s 4ms/sample - loss: 5.4826e-04 - mean_squared_error: 5.4826e-04\n",
      "Epoch 37/50\n",
      "966/966 [==============================] - 4s 4ms/sample - loss: 5.1899e-04 - mean_squared_error: 5.1899e-04\n",
      "Epoch 38/50\n",
      "966/966 [==============================] - 4s 4ms/sample - loss: 5.5039e-04 - mean_squared_error: 5.5039e-04\n",
      "Epoch 39/50\n",
      "966/966 [==============================] - 4s 4ms/sample - loss: 5.8764e-04 - mean_squared_error: 5.8764e-04\n",
      "Epoch 40/50\n",
      "966/966 [==============================] - 4s 4ms/sample - loss: 5.6772e-04 - mean_squared_error: 5.6772e-041s -\n",
      "Epoch 41/50\n",
      "966/966 [==============================] - 4s 4ms/sample - loss: 6.3468e-04 - mean_squared_error: 6.3468e-04\n",
      "Epoch 42/50\n",
      "966/966 [==============================] - 4s 4ms/sample - loss: 6.3469e-04 - mean_squared_error: 6.3469e-04\n",
      "Epoch 43/50\n",
      "966/966 [==============================] - 4s 4ms/sample - loss: 5.9032e-04 - mean_squared_error: 5.9032e-04\n",
      "Epoch 44/50\n",
      "966/966 [==============================] - 4s 4ms/sample - loss: 4.9545e-04 - mean_squared_error: 4.9545e-04\n",
      "Epoch 45/50\n",
      "966/966 [==============================] - 4s 4ms/sample - loss: 5.5747e-04 - mean_squared_error: 5.5747e-04\n",
      "Epoch 46/50\n",
      "966/966 [==============================] - 4s 4ms/sample - loss: 5.5528e-04 - mean_squared_error: 5.5528e-04\n",
      "Epoch 47/50\n",
      "966/966 [==============================] - 4s 4ms/sample - loss: 6.6917e-04 - mean_squared_error: 6.6917e-040s - loss: 6.5965e-04 - mean_s\n",
      "Epoch 48/50\n",
      "966/966 [==============================] - 4s 4ms/sample - loss: 5.8688e-04 - mean_squared_error: 5.8688e-04\n",
      "Epoch 49/50\n",
      "966/966 [==============================] - 4s 4ms/sample - loss: 5.8634e-04 - mean_squared_error: 5.8634e-04\n",
      "Epoch 50/50\n",
      "966/966 [==============================] - 4s 4ms/sample - loss: 6.2038e-04 - mean_squared_error: 6.2038e-040s - loss: 6.2494e-04 - mean_squared_e\n",
      "CPU times: user 11min 11s, sys: 3min 44s, total: 14min 55s\n",
      "Wall time: 3min 27s\n"
     ]
    }
   ],
   "source": [
    "%%time\n",
    "forecaster.fit(x=X_train, y=y_train, batch_size=batch_size, epochs=epochs, distributed=False)"
   ]
  },
  {
   "cell_type": "markdown",
   "metadata": {
    "id": "pW40LT8KBJe6"
   },
   "source": [
    "\n",
    "After training is finished. You can use the forecaster to do prediction and evaluation."
   ]
  },
  {
   "cell_type": "code",
   "execution_count": 14,
   "metadata": {
    "id": "NA8Wuuo7BPno"
   },
   "outputs": [],
   "source": [
    "# make prediction\n",
    "y_pred = forecaster.predict(X_test)"
   ]
  },
  {
   "cell_type": "markdown",
   "metadata": {
    "id": "5STThUzKBclt"
   },
   "source": [
    "Calculate the mean square error."
   ]
  },
  {
   "cell_type": "code",
   "execution_count": 15,
   "metadata": {
    "id": "KTMc01PnBjBT"
   },
   "outputs": [
    {
     "name": "stdout",
     "output_type": "stream",
     "text": [
      "mean_squared error is 0.0015729974294964619\n"
     ]
    }
   ],
   "source": [
    "# evaluate with mean_squared_error\n",
    "from sklearn.metrics import mean_squared_error\n",
    "print(\"mean_squared error is\", mean_squared_error(y_test, y_pred))"
   ]
  },
  {
   "cell_type": "markdown",
   "metadata": {
    "id": "C-hVQsz7BtXP"
   },
   "source": [
    "Visualize the prediction."
   ]
  },
  {
   "cell_type": "code",
   "execution_count": 16,
   "metadata": {
    "id": "gGYlj52oBs4N"
   },
   "outputs": [
    {
     "data": {
      "image/png": "[encoded data removed]",
      "text/plain": [
       "<Figure size 432x288 with 1 Axes>"
      ]
     },
     "metadata": {
      "needs_background": "light"
     },
     "output_type": "display_data"
    }
   ],
   "source": [
    "# Plot predictions\n",
    "plt.plot(y_test, color='blue', label=\"MMM daily price Raw\")\n",
    "plt.plot(y_pred, color='red', label=\"MMM daily price Predicted\")\n",
    "plt.xlabel(\"Time Period\")\n",
    "plt.ylabel(\"Normalized Stock Price\")\n",
    "plt.legend()\n",
    "plt.show()"
   ]
  }
 ],
 "metadata": {
  "colab": {
   "collapsed_sections": [],
   "name": "stock_prediction.ipynb",
   "provenance": [],
   "toc_visible": true
  },
  "kernelspec": {
   "display_name": "Python 3",
   "language": "python",
   "name": "python3"
  },
  "language_info": {
   "codemirror_mode": {
    "name": "ipython",
    "version": 3
   },
   "file_extension": ".py",
   "mimetype": "text/x-python",
   "name": "python",
   "nbconvert_exporter": "python",
   "pygments_lexer": "ipython3",
   "version": "3.6.10"
  }
 },
 "nbformat": 4,
 "nbformat_minor": 1
}
