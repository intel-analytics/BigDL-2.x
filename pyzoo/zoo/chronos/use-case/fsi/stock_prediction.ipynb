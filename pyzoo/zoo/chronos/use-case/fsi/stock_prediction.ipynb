{
 "cells": [
  {
   "cell_type": "markdown",
   "metadata": {
    "id": "THN-pFmXLq_x"
   },
   "source": [
    "# Stock Price Prediction\n",
    "\n",
    "In this notebook, we demonstrate a reference use case where we use historical stock price data to predict the future price. The dataset we use is the daily stock price of S&P500 stocks during 2013-2018 ([data source](https://www.kaggle.com/camnugent/sandp500/)). We demostrate how to do univariate forecasting using the past 80% of the total days' MMM price to predict the future 20% days' daily price.\n",
    "\n",
    "Reference: https://github.com/jwkanggist/tf-keras-stock-pred\n",
    "\n"
   ]
  },
  {
   "cell_type": "markdown",
   "metadata": {
    "id": "2LLu44mMwCTN"
   },
   "source": [
    "## Get Data\n",
    "\n",
    "We will use the close prices of MMM stock for our experiment. We will \n",
    "  1. download raw dataset and load into dataframe. \n",
    "  2. Extract the close prices of MMM stock from the dataframe into a numpy array"
   ]
  },
  {
   "cell_type": "code",
   "execution_count": 1,
   "metadata": {
    "id": "IwF7ovI0Lq_-"
   },
   "outputs": [],
   "source": [
    "import numpy as np\n",
    "import pandas as pd\n",
    "import os"
   ]
  },
  {
   "cell_type": "code",
   "execution_count": 2,
   "metadata": {
    "colab": {
     "base_uri": "https://localhost:8080/"
    },
    "id": "wUYapsflLq__",
    "outputId": "c5385ba6-6ece-448d-a5a1-c51fb8d71f06"
   },
   "outputs": [
    {
     "name": "stdout",
     "output_type": "stream",
     "text": [
      "data/all_stocks_5yr.csv\n"
     ]
    }
   ],
   "source": [
    "# S&P 500\n",
    "FILE_NAME    = 'all_stocks_5yr.csv'\n",
    "SOURCE_URL   = 'https://github.com/CNuge/kaggle-code/raw/master/stock_data/' \n",
    "\n",
    "filepath = './data/'+ FILE_NAME\n",
    "filepath = os.path.join('data', FILE_NAME)\n",
    "print(filepath)"
   ]
  },
  {
   "cell_type": "code",
   "execution_count": 3,
   "metadata": {
    "id": "mJ44xd7nLrAA"
   },
   "outputs": [],
   "source": [
    "# download data\n",
    "!if ! [ -d \"data\" ]; then mkdir data; cd data; wget https://github.com/CNuge/kaggle-code/raw/master/stock_data/individual_stocks_5yr.zip; wget https://raw.githubusercontent.com/CNuge/kaggle-code/master/stock_data/merge.sh; chmod +x merge.sh; unzip individual_stocks_5yr.zip; ./merge.sh; fi\n"
   ]
  },
  {
   "cell_type": "code",
   "execution_count": 4,
   "metadata": {
    "colab": {
     "base_uri": "https://localhost:8080/"
    },
    "id": "dMefLEwXLrAB",
    "outputId": "0007508f-de13-46ab-849a-235fb4b4d404"
   },
   "outputs": [
    {
     "name": "stdout",
     "output_type": "stream",
     "text": [
      "         date   open   high    low  close    volume Name\n",
      "0  2013-02-08  15.07  15.12  14.63  14.75   8407500  AAL\n",
      "1  2013-02-11  14.89  15.01  14.26  14.46   8882000  AAL\n",
      "2  2013-02-12  14.45  14.51  14.10  14.27   8126000  AAL\n",
      "3  2013-02-13  14.30  14.94  14.25  14.66  10259500  AAL\n",
      "4  2013-02-14  14.94  14.96  13.16  13.99  31879900  AAL\n",
      "5  2013-02-15  13.93  14.61  13.93  14.50  15628000  AAL\n",
      "6  2013-02-19  14.33  14.56  14.08  14.26  11354400  AAL\n",
      "7  2013-02-20  14.17  14.26  13.15  13.33  14725200  AAL\n",
      "8  2013-02-21  13.62  13.95  12.90  13.37  11922100  AAL\n",
      "9  2013-02-22  13.57  13.60  13.21  13.57   6071400  AAL\n",
      "              date    open      high       low   close   volume Name\n",
      "381385  2013-02-08  102.34  103.3300  102.0400  102.66  1937721  MMM\n",
      "381386  2013-02-11  102.39  102.8800  102.0401  102.62  1715444  MMM\n",
      "381387  2013-02-12  102.66  103.5900  102.6300  103.46  1927930  MMM\n",
      "381388  2013-02-13  103.03  103.3950  102.5800  102.86  1699804  MMM\n",
      "381389  2013-02-14  102.43  103.1400  102.2200  102.78  2217419  MMM\n",
      "381390  2013-02-15  103.06  103.3800  102.6200  103.23  2326159  MMM\n",
      "381391  2013-02-19  103.42  104.3916  103.3200  104.18  2988487  MMM\n",
      "381392  2013-02-20  104.18  104.4000  103.1500  103.15  2997192  MMM\n",
      "381393  2013-02-21  102.88  103.1400  102.3900  102.72  2758728  MMM\n",
      "381394  2013-02-22  102.99  103.7000  102.8200  103.54  2158013  MMM\n"
     ]
    }
   ],
   "source": [
    "# read data\n",
    "data = pd.read_csv(filepath)\n",
    "print(data[:10])\n",
    "\n",
    "target_rows = data[data['Name']=='MMM']\n",
    "print(target_rows[:10])"
   ]
  },
  {
   "cell_type": "code",
   "execution_count": 5,
   "metadata": {
    "colab": {
     "base_uri": "https://localhost:8080/"
    },
    "id": "j6OfgfNDLrAC",
    "outputId": "23fd8f13-d920-4217-f85b-1b4f90a7503c"
   },
   "outputs": [
    {
     "name": "stdout",
     "output_type": "stream",
     "text": [
      "[[102.66]\n",
      " [102.62]\n",
      " [103.46]\n",
      " [102.86]\n",
      " [102.78]\n",
      " [103.23]\n",
      " [104.18]\n",
      " [103.15]\n",
      " [102.72]\n",
      " [103.54]]\n"
     ]
    }
   ],
   "source": [
    "# extract close value\n",
    "close_val = target_rows[['close']].values\n",
    "print(close_val[:10])"
   ]
  },
  {
   "cell_type": "code",
   "execution_count": 6,
   "metadata": {},
   "outputs": [
    {
     "data": {
      "image/png": "[encoded data removed]",
      "text/plain": [
       "<Figure size 432x288 with 1 Axes>"
      ]
     },
     "metadata": {
      "needs_background": "light"
     },
     "output_type": "display_data"
    }
   ],
   "source": [
    "# Visualize data\n",
    "\n",
    "import matplotlib.pyplot as plt\n",
    "plt.plot(close_val, color='blue', label='MMM daily price Raw')\n",
    "plt.xlabel(\"Time Period\")\n",
    "plt.ylabel(\"Stock Price\")\n",
    "plt.legend()\n",
    "plt.show()"
   ]
  },
  {
   "cell_type": "markdown",
   "metadata": {
    "id": "_dD-qd0Z8JGC"
   },
   "source": [
    "## Data Pre-processing\n",
    "Now we need to do data cleaning and preprocessing on the raw data. Note that this part could vary for different dataset.\n",
    "\n",
    "For the stock price data we're using, the processing contains 2 parts:\n",
    "\n",
    "1.   Data normalization such that the normalized stock prices fall in the range of 0 to 1\n",
    "2.   Extract time series of given window size\n",
    "\n",
    "We generate a built-in TSDataset to complete the whole processing.\n",
    "\n"
   ]
  },
  {
   "cell_type": "code",
   "execution_count": 7,
   "metadata": {},
   "outputs": [
    {
     "data": {
      "text/plain": [
       "((958, 50, 1), (958, 1), (201, 50, 1), (201, 1))"
      ]
     },
     "execution_count": 7,
     "metadata": {},
     "output_type": "execute_result"
    }
   ],
   "source": [
    "from zoo.chronos.data import TSDataset\n",
    "from sklearn.preprocessing import MinMaxScaler\n",
    "\n",
    "df = target_rows[['date', 'close']]\n",
    "tsdata_train, _, tsdata_test = TSDataset.from_pandas(df, dt_col=\"date\", target_col=\"close\", with_split=True, test_ratio=0.2)\n",
    "minmax_scaler = MinMaxScaler()\n",
    "\n",
    "for tsdata in [tsdata_train, tsdata_test]:\n",
    "    tsdata.scale(minmax_scaler, fit=(tsdata is tsdata_train))\\\n",
    "          .roll(lookback=50, horizon=1)\n",
    "\n",
    "X_train, y_train = tsdata_train.to_numpy()\n",
    "X_test, y_test = tsdata_test.to_numpy()\n",
    "y_train, y_test = y_train[:, 0, :], y_test[:, 0, :]\n",
    "X_train.shape, y_train.shape, X_test.shape, y_test.shape"
   ]
  },
  {
   "cell_type": "markdown",
   "metadata": {
    "id": "6fT-WKaB8Q5N"
   },
   "source": [
    "## Time series forecasting\n",
    "\n",
    "We use LSTMForecaster for forecasting."
   ]
  },
  {
   "cell_type": "code",
   "execution_count": 8,
   "metadata": {
    "id": "vrf48pWH_Vaf"
   },
   "outputs": [
    {
     "name": "stdout",
     "output_type": "stream",
     "text": [
      "WARNING:tensorflow:From /home/yuyin/analytics-zoo/pyzoo/zoo/tfpark/zoo_optimizer.py:73: The name tf.train.Optimizer is deprecated. Please use tf.compat.v1.train.Optimizer instead.\n",
      "\n"
     ]
    }
   ],
   "source": [
    "from zoo.chronos.model.forecast.lstm_forecaster import LSTMForecaster"
   ]
  },
  {
   "cell_type": "markdown",
   "metadata": {
    "id": "eCgIOQQK_YDS"
   },
   "source": [
    "First we initiate a LSTMForecaster.\n",
    "\n",
    "\n",
    "*   `feature_dim` should match the dimension of the input data, so we just use the last dimension of train input data shape\n",
    "*   `target_dim` equals the dimension of the output data, here we set `target_dim=1` for univariate forecasting.\n",
    "\n"
   ]
  },
  {
   "cell_type": "code",
   "execution_count": 9,
   "metadata": {
    "id": "QR04YjGiLrAE"
   },
   "outputs": [],
   "source": [
    "# Hyperparameters\n",
    "feature_dim = X_train.shape[-1]\n",
    "target_dim = 1\n",
    "hidden_dim = 10\n",
    "learning_rate = 0.01\n",
    "batch_size = 16\n",
    "epochs = 50"
   ]
  },
  {
   "cell_type": "code",
   "execution_count": 10,
   "metadata": {
    "colab": {
     "base_uri": "https://localhost:8080/"
    },
    "id": "2DE_F4ltLrAF",
    "outputId": "7448bb5b-78a7-4e20-d0b7-a944483297ce"
   },
   "outputs": [
    {
     "name": "stdout",
     "output_type": "stream",
     "text": [
      "WARNING:tensorflow:From /home/yuyin/anaconda3/envs/env/lib/python3.6/site-packages/tensorflow_core/python/ops/resource_variable_ops.py:1630: calling BaseResourceVariable.__init__ (from tensorflow.python.ops.resource_variable_ops) with constraint is deprecated and will be removed in a future version.\n",
      "Instructions for updating:\n",
      "If using Keras pass *_constraint arguments to layers.\n"
     ]
    }
   ],
   "source": [
    "# build model\n",
    "lstm_config = {\"lstm_units\": [hidden_dim] * 1, \"lr\": learning_rate}\n",
    "forecaster = LSTMForecaster(target_dim=target_dim, feature_dim=feature_dim, **lstm_config)"
   ]
  },
  {
   "cell_type": "markdown",
   "metadata": {
    "id": "tGhlYHGKA1Jw"
   },
   "source": [
    "\n",
    "Then we use fit to train the model. Wait sometime for it to finish."
   ]
  },
  {
   "cell_type": "code",
   "execution_count": 11,
   "metadata": {
    "id": "pYknEGOMAziH",
    "scrolled": true
   },
   "outputs": [
    {
     "name": "stdout",
     "output_type": "stream",
     "text": [
      "WARNING:tensorflow:From /home/yuyin/anaconda3/envs/env/lib/python3.6/site-packages/tensorflow_core/python/ops/math_grad.py:1424: where (from tensorflow.python.ops.array_ops) is deprecated and will be removed in a future version.\n",
      "Instructions for updating:\n",
      "Use tf.where in 2.0, which has the same broadcast rule as np.where\n",
      "Train on 958 samples\n",
      "Epoch 1/50\n",
      "958/958 [==============================] - 11s 12ms/sample - loss: 0.0659 - mean_squared_error: 0.0659\n",
      "Epoch 2/50\n",
      "958/958 [==============================] - 12s 12ms/sample - loss: 0.0114 - mean_squared_error: 0.0114\n",
      "Epoch 3/50\n",
      "958/958 [==============================] - 11s 11ms/sample - loss: 0.0081 - mean_squared_error: 0.0081\n",
      "Epoch 4/50\n",
      "958/958 [==============================] - 11s 12ms/sample - loss: 0.0070 - mean_squared_error: 0.0070\n",
      "Epoch 5/50\n",
      "958/958 [==============================] - 22s 23ms/sample - loss: 0.0062 - mean_squared_error: 0.0062\n",
      "Epoch 6/50\n",
      "958/958 [==============================] - 19s 20ms/sample - loss: 0.0050 - mean_squared_error: 0.0050\n",
      "Epoch 7/50\n",
      "958/958 [==============================] - 20s 21ms/sample - loss: 0.0045 - mean_squared_error: 0.0045\n",
      "Epoch 8/50\n",
      "958/958 [==============================] - 19s 20ms/sample - loss: 0.0037 - mean_squared_error: 0.0037\n",
      "Epoch 9/50\n",
      "958/958 [==============================] - 21s 22ms/sample - loss: 0.0042 - mean_squared_error: 0.0042\n",
      "Epoch 10/50\n",
      "958/958 [==============================] - 9s 9ms/sample - loss: 0.0035 - mean_squared_error: 0.0035\n",
      "Epoch 11/50\n",
      "958/958 [==============================] - 8s 8ms/sample - loss: 0.0030 - mean_squared_error: 0.0030\n",
      "Epoch 12/50\n",
      "958/958 [==============================] - 8s 8ms/sample - loss: 0.0032 - mean_squared_error: 0.0032\n",
      "Epoch 13/50\n",
      "958/958 [==============================] - 8s 8ms/sample - loss: 0.0028 - mean_squared_error: 0.0028\n",
      "Epoch 14/50\n",
      "958/958 [==============================] - 8s 8ms/sample - loss: 0.0027 - mean_squared_error: 0.0027\n",
      "Epoch 15/50\n",
      "958/958 [==============================] - 8s 8ms/sample - loss: 0.0026 - mean_squared_error: 0.0026\n",
      "Epoch 16/50\n",
      "958/958 [==============================] - 8s 8ms/sample - loss: 0.0028 - mean_squared_error: 0.0028\n",
      "Epoch 17/50\n",
      "958/958 [==============================] - 8s 8ms/sample - loss: 0.0023 - mean_squared_error: 0.0023\n",
      "Epoch 18/50\n",
      "958/958 [==============================] - 8s 8ms/sample - loss: 0.0027 - mean_squared_error: 0.0027\n",
      "Epoch 19/50\n",
      "958/958 [==============================] - 8s 8ms/sample - loss: 0.0027 - mean_squared_error: 0.0027\n",
      "Epoch 20/50\n",
      "958/958 [==============================] - 8s 8ms/sample - loss: 0.0026 - mean_squared_error: 0.0026\n",
      "Epoch 21/50\n",
      "958/958 [==============================] - 8s 8ms/sample - loss: 0.0024 - mean_squared_error: 0.0024\n",
      "Epoch 22/50\n",
      "958/958 [==============================] - 8s 8ms/sample - loss: 0.0027 - mean_squared_error: 0.0027\n",
      "Epoch 23/50\n",
      "958/958 [==============================] - 8s 8ms/sample - loss: 0.0025 - mean_squared_error: 0.0025\n",
      "Epoch 24/50\n",
      "958/958 [==============================] - 8s 8ms/sample - loss: 0.0023 - mean_squared_error: 0.0023\n",
      "Epoch 25/50\n",
      "958/958 [==============================] - 8s 8ms/sample - loss: 0.0025 - mean_squared_error: 0.0025\n",
      "Epoch 26/50\n",
      "958/958 [==============================] - 8s 8ms/sample - loss: 0.0023 - mean_squared_error: 0.0023\n",
      "Epoch 27/50\n",
      "958/958 [==============================] - 8s 8ms/sample - loss: 0.0027 - mean_squared_error: 0.0027\n",
      "Epoch 28/50\n",
      "958/958 [==============================] - 8s 8ms/sample - loss: 0.0029 - mean_squared_error: 0.0029\n",
      "Epoch 29/50\n",
      "958/958 [==============================] - 8s 8ms/sample - loss: 0.0024 - mean_squared_error: 0.0024\n",
      "Epoch 30/50\n",
      "958/958 [==============================] - 8s 8ms/sample - loss: 0.0023 - mean_squared_error: 0.0023\n",
      "Epoch 31/50\n",
      "958/958 [==============================] - 8s 8ms/sample - loss: 0.0024 - mean_squared_error: 0.0024\n",
      "Epoch 32/50\n",
      "958/958 [==============================] - 8s 8ms/sample - loss: 0.0020 - mean_squared_error: 0.0020\n",
      "Epoch 33/50\n",
      "958/958 [==============================] - 8s 8ms/sample - loss: 0.0023 - mean_squared_error: 0.0023\n",
      "Epoch 34/50\n",
      "958/958 [==============================] - 8s 8ms/sample - loss: 0.0022 - mean_squared_error: 0.0022\n",
      "Epoch 35/50\n",
      "958/958 [==============================] - 8s 8ms/sample - loss: 0.0024 - mean_squared_error: 0.0024\n",
      "Epoch 36/50\n",
      "958/958 [==============================] - 8s 8ms/sample - loss: 0.0020 - mean_squared_error: 0.0020\n",
      "Epoch 37/50\n",
      "958/958 [==============================] - 8s 8ms/sample - loss: 0.0020 - mean_squared_error: 0.0020\n",
      "Epoch 38/50\n",
      "958/958 [==============================] - 8s 8ms/sample - loss: 0.0022 - mean_squared_error: 0.0022\n",
      "Epoch 39/50\n",
      "958/958 [==============================] - 8s 8ms/sample - loss: 0.0023 - mean_squared_error: 0.0023\n",
      "Epoch 40/50\n",
      "958/958 [==============================] - 8s 8ms/sample - loss: 0.0023 - mean_squared_error: 0.0023\n",
      "Epoch 41/50\n",
      "958/958 [==============================] - 8s 8ms/sample - loss: 0.0022 - mean_squared_error: 0.0022\n",
      "Epoch 42/50\n",
      "958/958 [==============================] - 8s 8ms/sample - loss: 0.0019 - mean_squared_error: 0.0019\n",
      "Epoch 43/50\n",
      "958/958 [==============================] - 8s 8ms/sample - loss: 0.0021 - mean_squared_error: 0.0021\n",
      "Epoch 44/50\n",
      "958/958 [==============================] - 8s 8ms/sample - loss: 0.0022 - mean_squared_error: 0.0022\n",
      "Epoch 45/50\n",
      "958/958 [==============================] - 8s 8ms/sample - loss: 0.0023 - mean_squared_error: 0.0023\n",
      "Epoch 46/50\n",
      "958/958 [==============================] - 8s 8ms/sample - loss: 0.0022 - mean_squared_error: 0.0022\n",
      "Epoch 47/50\n",
      "958/958 [==============================] - 8s 8ms/sample - loss: 0.0024 - mean_squared_error: 0.0024\n",
      "Epoch 48/50\n",
      "958/958 [==============================] - 8s 8ms/sample - loss: 0.0025 - mean_squared_error: 0.0025\n",
      "Epoch 49/50\n",
      "958/958 [==============================] - 8s 8ms/sample - loss: 0.0020 - mean_squared_error: 0.0020\n",
      "Epoch 50/50\n",
      "958/958 [==============================] - 8s 8ms/sample - loss: 0.0023 - mean_squared_error: 0.0023\n",
      "CPU times: user 13min 54s, sys: 2min 51s, total: 16min 45s\n",
      "Wall time: 7min 48s\n"
     ]
    }
   ],
   "source": [
    "%%time\n",
    "forecaster.fit(x=X_train, y=y_train, batch_size=batch_size, epochs=epochs, distributed=False)"
   ]
  },
  {
   "cell_type": "markdown",
   "metadata": {
    "id": "pW40LT8KBJe6"
   },
   "source": [
    "\n",
    "After training is finished. You can use the forecaster to do prediction and evaluation."
   ]
  },
  {
   "cell_type": "code",
   "execution_count": 12,
   "metadata": {
    "id": "NA8Wuuo7BPno"
   },
   "outputs": [],
   "source": [
    "# make prediction\n",
    "y_pred = forecaster.predict(X_test)"
   ]
  },
  {
   "cell_type": "markdown",
   "metadata": {},
   "source": [
    "Since we have used standard scaler to scale the input data (including the target values), we need to inverse the scaling on the predicted values too."
   ]
  },
  {
   "cell_type": "code",
   "execution_count": 13,
   "metadata": {},
   "outputs": [],
   "source": [
    "y_pred_unscale = tsdata_test.unscale_numpy(np.expand_dims(y_pred, axis=1))[:, 0, :]\n",
    "y_test_unscale = tsdata_test.unscale_numpy(np.expand_dims(y_test, axis=1))[:, 0, :]"
   ]
  },
  {
   "cell_type": "markdown",
   "metadata": {
    "id": "5STThUzKBclt"
   },
   "source": [
    "Calculate the mean square error."
   ]
  },
  {
   "cell_type": "code",
   "execution_count": 14,
   "metadata": {
    "id": "KTMc01PnBjBT"
   },
   "outputs": [
    {
     "name": "stdout",
     "output_type": "stream",
     "text": [
      "mean_squared error is 59.547528981063884\n"
     ]
    }
   ],
   "source": [
    "# evaluate with mean_squared_error\n",
    "from sklearn.metrics import mean_squared_error\n",
    "print(\"mean_squared error is\", mean_squared_error(y_test_unscale, y_pred_unscale))"
   ]
  },
  {
   "cell_type": "markdown",
   "metadata": {
    "id": "C-hVQsz7BtXP"
   },
   "source": [
    "Visualize the prediction."
   ]
  },
  {
   "cell_type": "code",
   "execution_count": 15,
   "metadata": {
    "id": "gGYlj52oBs4N"
   },
   "outputs": [
    {
     "data": {
      "image/png": "[encoded data removed]",
      "text/plain": [
       "<Figure size 432x288 with 1 Axes>"
      ]
     },
     "metadata": {
      "needs_background": "light"
     },
     "output_type": "display_data"
    }
   ],
   "source": [
    "# Plot predictions\n",
    "plt.plot(y_test_unscale, color='blue', label=\"MMM daily price Raw\")\n",
    "plt.plot(y_pred_unscale, color='red', label=\"MMM daily price Predicted\")\n",
    "plt.xlabel(\"Time Period\")\n",
    "plt.ylabel(\"Normalized Stock Price\")\n",
    "plt.legend()\n",
    "plt.show()"
   ]
  }
 ],
 "metadata": {
  "colab": {
   "collapsed_sections": [],
   "name": "stock_prediction.ipynb",
   "provenance": [],
   "toc_visible": true
  },
  "kernelspec": {
   "display_name": "Python 3",
   "language": "python",
   "name": "python3"
  },
  "language_info": {
   "codemirror_mode": {
    "name": "ipython",
    "version": 3
   },
   "file_extension": ".py",
   "mimetype": "text/x-python",
   "name": "python",
   "nbconvert_exporter": "python",
   "pygments_lexer": "ipython3",
   "version": "3.6.10"
  }
 },
 "nbformat": 4,
 "nbformat_minor": 1
}
