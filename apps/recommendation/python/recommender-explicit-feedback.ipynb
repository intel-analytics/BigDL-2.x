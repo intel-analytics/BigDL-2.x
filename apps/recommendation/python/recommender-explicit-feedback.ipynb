{
 "cells": [
  {
   "cell_type": "markdown",
   "metadata": {},
   "source": [
    "# Recommendation with Explict Feedback"
   ]
  },
  {
   "cell_type": "markdown",
   "metadata": {},
   "source": [
    "In this notebook we demostrate how to build neural network recommendation system with explict feedback. The system ([Recommendation systems: Principles, methods and evaluation](http://www.sciencedirect.com/science/article/pii/S1110866515000341)) normally prompts the user through the system interface to provide ratings for items in order to construct and improve his model. The accuracy of recommendation depends on the quantity of ratings provided by the user.  \n",
    "\n",
    "Data: \n",
    "* The dataset we used is movielens-1M ([link](https://grouplens.org/datasets/movielens/1m/)), which contains 1 million ratings from 6000 users on 4000 movies.  There're 5 levels of rating. We will try classify each (user,movie) pair into 5 classes and evaluate the effect of algortithms using Mean Absolute Error.  \n",
    "  \n",
    "References: \n",
    "* A Keras implementation of Movie Recommendation([notebook](https://github.com/ririw/ririw.github.io/blob/master/assets/Recommending%20movies.ipynb)) from the [blog](http://blog.richardweiss.org/2016/09/25/movie-embeddings.html).\n",
    "* Nerual Collaborative filtering ([He, 2015](https://www.comp.nus.edu.sg/~xiangnan/papers/ncf.pdf))"
   ]
  },
  {
   "cell_type": "markdown",
   "metadata": {},
   "source": [
    "## Intialization"
   ]
  },
  {
   "cell_type": "markdown",
   "metadata": {},
   "source": [
    "* import necesary 3rd party libraries"
   ]
  },
  {
   "cell_type": "code",
   "execution_count": 1,
   "metadata": {
    "ExecuteTime": {
     "end_time": "2017-08-04T02:07:54.673272Z",
     "start_time": "2017-08-04T02:07:54.660560Z"
    }
   },
   "outputs": [],
   "source": [
    "import matplotlib.pyplot as plt\n",
    "from sklearn import metrics\n",
    "import datetime as dt\n",
    "from operator import itemgetter\n",
    "\n",
    "%matplotlib inline"
   ]
  },
  {
   "cell_type": "markdown",
   "metadata": {},
   "source": [
    "* import necessary modules"
   ]
  },
  {
   "cell_type": "code",
   "execution_count": 2,
   "metadata": {
    "ExecuteTime": {
     "end_time": "2017-08-03T08:13:02.165154Z",
     "start_time": "2017-08-03T08:13:02.158245Z"
    }
   },
   "outputs": [],
   "source": [
    "from bigdl.nn.layer import *\n",
    "from bigdl.nn.criterion import *\n",
    "from bigdl.optim.optimizer import *\n",
    "from bigdl.util.common import *\n",
    "from bigdl.dataset import movielens"
   ]
  },
  {
   "cell_type": "markdown",
   "metadata": {},
   "source": [
    "* initilaize BigDL"
   ]
  },
  {
   "cell_type": "code",
   "execution_count": 3,
   "metadata": {
    "ExecuteTime": {
     "end_time": "2017-08-03T08:13:02.715090Z",
     "start_time": "2017-08-03T08:13:02.706415Z"
    }
   },
   "outputs": [],
   "source": [
    "init_engine()"
   ]
  },
  {
   "cell_type": "markdown",
   "metadata": {},
   "source": [
    "## Data Preparation"
   ]
  },
  {
   "cell_type": "markdown",
   "metadata": {},
   "source": [
    "* Read movielens 1M data using provided utiltiy in BigDL \n"
   ]
  },
  {
   "cell_type": "code",
   "execution_count": 4,
   "metadata": {
    "ExecuteTime": {
     "end_time": "2017-08-03T08:13:08.071512Z",
     "start_time": "2017-08-03T08:13:04.077308Z"
    }
   },
   "outputs": [
    {
     "name": "stdout",
     "output_type": "stream",
     "text": [
      "('Downloading data from', 'http://files.grouplens.org/datasets/movielens/ml-1m.zip')\n",
      "5857280/5917549 [============================>.] - ETA: 0s('Successfully downloaded', 'ml-1m.zip', 5917549, 'bytes.')\n",
      "Extracting /tmp/movielens/ml-1m.zip to /tmp/movielens/\n"
     ]
    }
   ],
   "source": [
    "movielens_data = movielens.get_id_ratings(\"/tmp/movielens/\")\t"
   ]
  },
  {
   "cell_type": "markdown",
   "metadata": {},
   "source": [
    "* Understand the data.\n",
    "\n",
    "Each record is in format of (userid, movieid, rating_score). UserIDs range between 1 and 6040. MovieIDs range between 1 and 3952. Ratings are made on a 5-star scale (whole-star ratings only). Counts of users and movies are recorded for later use."
   ]
  },
  {
   "cell_type": "code",
   "execution_count": 5,
   "metadata": {
    "ExecuteTime": {
     "end_time": "2017-08-03T08:13:08.082461Z",
     "start_time": "2017-08-03T08:13:08.075167Z"
    }
   },
   "outputs": [
    {
     "name": "stdout",
     "output_type": "stream",
     "text": [
      "(1000209, 3)\n",
      "1 6040 1 3952 [1 2 3 4 5]\n"
     ]
    }
   ],
   "source": [
    "min_user_id = np.min(movielens_data[:,0])\n",
    "max_user_id = np.max(movielens_data[:,0])\n",
    "min_movie_id = np.min(movielens_data[:,1])\n",
    "max_movie_id = np.max(movielens_data[:,1])\n",
    "rating_labels= np.unique(movielens_data[:,2])\n",
    "\n",
    "print movielens_data.shape\n",
    "print min_user_id, max_user_id, min_movie_id, max_movie_id, rating_labels"
   ]
  },
  {
   "cell_type": "markdown",
   "metadata": {
    "ExecuteTime": {
     "end_time": "2017-08-03T03:45:25.657796Z",
     "start_time": "2017-08-03T03:45:25.650852Z"
    }
   },
   "source": [
    "* Transform original data into RDD\n",
    "BigDL requires train data and validation data to be provided in format of RDD([Sample](https://bigdl-project.github.io/master/#APIGuide/Data/#sample)). A `Sample` is a BigDL data structure which can be constructed using 2 numpy arrays, `feature` and `label` respectively. The API interface is `Sample.from_ndarray(feature, label)`"
   ]
  },
  {
   "cell_type": "code",
   "execution_count": 6,
   "metadata": {
    "ExecuteTime": {
     "end_time": "2017-08-03T03:47:57.601392Z",
     "start_time": "2017-08-03T03:47:57.591491Z"
    }
   },
   "outputs": [
    {
     "data": {
      "text/plain": [
       "PythonRDD[1] at RDD at PythonRDD.scala:48"
      ]
     },
     "execution_count": 6,
     "metadata": {},
     "output_type": "execute_result"
    }
   ],
   "source": [
    "#convert ndarray data into RDD[Sample]\n",
    "def array2rdd(arr):\n",
    "    #build Sample from ndarrays\n",
    "    def build_sample(userid,movieid,rating):\n",
    "        feature = np.array([userid, movieid]).flatten()\n",
    "        label = np.array(rating)\n",
    "        return Sample.from_ndarray(feature, label)\n",
    "    rdd = sc.parallelize(arr).map(lambda (uid, mid,rating): build_sample(uid, mid,rating))\n",
    "    return rdd\n",
    "\n",
    "movielens_rdd = array2rdd(movielens_data)\n",
    "movielens_rdd.cache()"
   ]
  },
  {
   "cell_type": "markdown",
   "metadata": {
    "ExecuteTime": {
     "end_time": "2017-08-03T03:26:59.143086Z",
     "start_time": "2017-08-03T03:26:59.136374Z"
    }
   },
   "source": [
    "* Randomly split the data into train (80%) and validation (20%)"
   ]
  },
  {
   "cell_type": "code",
   "execution_count": 7,
   "metadata": {
    "ExecuteTime": {
     "end_time": "2017-08-03T08:13:10.225186Z",
     "start_time": "2017-08-03T08:13:10.117969Z"
    }
   },
   "outputs": [],
   "source": [
    "train_rdd, val_rdd = movielens_rdd.randomSplit([0.8, 0.2], seed= 1L)"
   ]
  },
  {
   "cell_type": "code",
   "execution_count": 8,
   "metadata": {
    "ExecuteTime": {
     "end_time": "2017-08-03T08:13:10.541314Z",
     "start_time": "2017-08-03T08:13:10.534792Z"
    }
   },
   "outputs": [
    {
     "name": "stdout",
     "output_type": "stream",
     "text": [
      "799925 200284\n"
     ]
    }
   ],
   "source": [
    "print train_rdd.count(), val_rdd.count()"
   ]
  },
  {
   "cell_type": "markdown",
   "metadata": {},
   "source": [
    "## Build Model"
   ]
  },
  {
   "cell_type": "markdown",
   "metadata": {},
   "source": [
    "* Here we show an example of building a Multi-Layer Perceptron (MLP) using BigDL functional API. \n",
    "The buttom layer is input layer. Then it is embedding layer, which projects the sparse representation to a dense vector. The user (item) embedding can be seen as the latent vector for user (item). In BigDL, we can use LookUpTable together with Select to create embedding layers. At last, embedding layers are fed into a multi-layer neural architecture. Please refer to([BigDL programming guide](https://bigdl-project.github.io/master/#ProgrammingGuide/Model/Functional/)) for more details about functional API, and Nerual Collaborative filtering ([He, 2015](https://www.comp.nus.edu.sg/~xiangnan/papers/ncf.pdf)) for details about the architeture. "
   ]
  },
  {
   "cell_type": "code",
   "execution_count": 9,
   "metadata": {
    "ExecuteTime": {
     "end_time": "2017-08-03T09:39:03.502185Z",
     "start_time": "2017-08-03T09:39:03.477423Z"
    }
   },
   "outputs": [],
   "source": [
    "def build_model(num_users, num_items, layers=[20, 10]):\n",
    "    input = Identity()()\n",
    "    select_1 = Select(2, 1)(input)\n",
    "    select_2 = Select(2, 2)(input)\n",
    "    user_table = LookupTable(num_users, layers[0] / 2)(select_1)\n",
    "    item_table = LookupTable(num_items, layers[0] / 2)(select_2)\n",
    "\n",
    "    embedded_layer = JoinTable(2,0)([user_table, item_table])\n",
    "\n",
    "    relu_layer = embedded_layer\n",
    "    for idx in xrange(1, len(layers)):\n",
    "        linear_layer = Linear(layers[idx - 1], layers[idx])(relu_layer)\n",
    "        relu_layer = ReLU()(linear_layer)\n",
    "\n",
    "    linear_last = Linear(layers[-1], 5)(relu_layer)\n",
    "    output = LogSoftMax()(linear_last)\n",
    "\n",
    "    model = Model([input], [output])\n",
    "\n",
    "    return model"
   ]
  },
  {
   "cell_type": "code",
   "execution_count": 10,
   "metadata": {
    "ExecuteTime": {
     "end_time": "2017-08-03T09:39:06.275775Z",
     "start_time": "2017-08-03T09:39:06.057428Z"
    }
   },
   "outputs": [
    {
     "name": "stdout",
     "output_type": "stream",
     "text": [
      "creating: createIdentity\n",
      "creating: createSelect\n",
      "creating: createSelect\n",
      "creating: createLookupTable\n",
      "creating: createLookupTable\n",
      "creating: createJoinTable\n",
      "creating: createLinear\n",
      "creating: createReLU\n",
      "creating: createLinear\n",
      "creating: createLogSoftMax\n",
      "creating: createModel\n"
     ]
    }
   ],
   "source": [
    "model = build_model(max_user_id, max_movie_id)"
   ]
  },
  {
   "cell_type": "markdown",
   "metadata": {},
   "source": [
    "## Setup the Optimizer\n",
    "\n",
    "- In BigDL, you want to create an optimizer and then call optimizer.optimize to train a model.\n",
    "Optimizer tries to minimize the loss of the neural net with respect to its weights/biases, over the training set. To create an Optimizer in BigDL, you want to at least specify arguments: model(a neural network model), criterion(the loss function), traing_rdd(training dataset) and batch size. Please refer to ([ProgrammingGuide](https://bigdl-project.github.io/master/#ProgrammingGuide/optimization/))and ([Optimizer](https://bigdl-project.github.io/master/#APIGuide/Optimizers/Optimizer/)) for more details to create efficient optimizers."
   ]
  },
  {
   "cell_type": "code",
   "execution_count": 11,
   "metadata": {
    "ExecuteTime": {
     "end_time": "2017-08-03T09:39:07.359788Z",
     "start_time": "2017-08-03T09:39:07.321748Z"
    }
   },
   "outputs": [
    {
     "name": "stdout",
     "output_type": "stream",
     "text": [
      "creating: createClassNLLCriterion\n",
      "creating: createMaxEpoch\n",
      "creating: createAdam\n",
      "creating: createOptimizer\n",
      "creating: createEveryEpoch\n",
      "creating: createMAE\n",
      "creating: createClassNLLCriterion\n",
      "creating: createLoss\n"
     ]
    }
   ],
   "source": [
    "optimizer = Optimizer(\n",
    "    model=model,\n",
    "    training_rdd=train_rdd,\n",
    "    criterion=ClassNLLCriterion(),\n",
    "    end_trigger=MaxEpoch(20),\n",
    "    batch_size=2800,\n",
    "    optim_method=Adam(learningrate=0.001))\n",
    "\n",
    "optimizer.set_validation(\n",
    "    batch_size=2800,\n",
    "    val_rdd=val_rdd,\n",
    "    trigger=EveryEpoch(),\n",
    "    val_method=[MAE(), Loss(ClassNLLCriterion())]\n",
    ")"
   ]
  },
  {
   "cell_type": "markdown",
   "metadata": {},
   "source": [
    "## Collect logs\n",
    "\n",
    "* In BigDL, TrainSummary and ValidationSummary are logs which allow user to trace how indicators (e.g. learning rate, training loss, throughput, etc.) change with iterations/time in an optimization process.\n",
    "\n",
    "A function of config_summaries is defined to collect monitoring data during training and validation phases."
   ]
  },
  {
   "cell_type": "code",
   "execution_count": 12,
   "metadata": {},
   "outputs": [
    {
     "name": "stdout",
     "output_type": "stream",
     "text": [
      "creating: createTrainSummary\n",
      "creating: createSeveralIteration\n",
      "creating: createValidationSummary\n",
      "saving logs to ./log/recommender-20171025-220741\n"
     ]
    }
   ],
   "source": [
    "def config_summaries(optimizer):\n",
    "    \"\"\"\n",
    "    :param: optimizer: the optimizer created in start_train()\n",
    "    \"\"\"\n",
    "    app_name = 'recommender-' + dt.datetime.now().strftime(\"%Y%m%d-%H%M%S\")\n",
    "\n",
    "    # train summary\n",
    "    train_summary = TrainSummary(log_dir=\"./log\", app_name=app_name)\n",
    "    train_summary.set_summary_trigger(\"Loss\", SeveralIteration(1))\n",
    "    optimizer.set_train_summary(train_summary)\n",
    "\n",
    "    # validation summary\n",
    "    val_summary = ValidationSummary(log_dir=\"./log\", app_name=app_name)\n",
    "    optimizer.set_val_summary(val_summary)\n",
    "\n",
    "    print \"saving logs to ./log/\" + app_name\n",
    "    return train_summary, val_summary\n",
    "\n",
    "train_summary, val_summary = config_summaries(optimizer)"
   ]
  },
  {
   "cell_type": "markdown",
   "metadata": {},
   "source": [
    "## Train the model"
   ]
  },
  {
   "cell_type": "code",
   "execution_count": 13,
   "metadata": {
    "ExecuteTime": {
     "end_time": "2017-08-04T02:28:52.344745Z",
     "start_time": "2017-08-04T02:28:52.274699Z"
    }
   },
   "outputs": [],
   "source": [
    "trained_model = optimizer.optimize()"
   ]
  },
  {
   "cell_type": "markdown",
   "metadata": {},
   "source": [
    "## Prediction\n",
    "\n",
    "* BigDL models make inferences based on the given data using model.predict(val_rdd) API. A result of RDD is returned. predict_class returns the predicted label. \n",
    "* Example of use case: given some users and movies, we can recommend  a list of movies(here topK =3) for the users. We use user ids and movie ids from validation data set as example to show the recommendation.  \n",
    "* uidTopKMovies is defined as a list of key value pairs, where key is user id, value is a list of topK movie id and predicted label(rating). For example, print uidTopKMovies[0:3] will give [(4.0, [[1198.0, 5], [2692.0, 5], [480.0, 4]]), (8.0, [[150.0, 5], [555.0, 5], [2396.0, 5]]), (12.0, [[1193.0, 5], [593.0, 5], [919.0, 5]])]"
   ]
  },
  {
   "cell_type": "code",
   "execution_count": 14,
   "metadata": {},
   "outputs": [
    {
     "name": "stdout",
     "output_type": "stream",
     "text": [
      "[5 5 4 4 4 4 4 4 5 4]\n",
      "[(4.0, [[480.0, 5], [1198.0, 5], [3702.0, 5]]), (8.0, [[150.0, 5], [17.0, 5], [555.0, 5]]), (12.0, [[1193.0, 5], [593.0, 5], [919.0, 5]])]\n"
     ]
    }
   ],
   "source": [
    "res = trained_model.predict(val_rdd).collect()\n",
    "predicted_labels = np.argmax(np.asarray(res),1)+1\n",
    "print predicted_labels[0:10]\n",
    "\n",
    "topK = 3\n",
    "uidMid = val_rdd.map(lambda x: x.features)\n",
    "predicted_labels = trained_model.predict_class(val_rdd)\n",
    "\n",
    "uidTopKMovies = uidMid \\\n",
    "    .zip(predicted_labels) \\\n",
    "    .map(lambda x: (x[0][0].storage[0], [x[0][0].storage[1], x[1]])) \\\n",
    "    .groupByKey() \\\n",
    "    .map(lambda x: (x[0], sorted(list(x[1]), key=itemgetter(1), reverse=True)[0:topK])).collect()\n",
    "\n",
    "print(uidTopKMovies[0:3])"
   ]
  },
  {
   "cell_type": "markdown",
   "metadata": {},
   "source": [
    "## Evaluation"
   ]
  },
  {
   "cell_type": "markdown",
   "metadata": {},
   "source": [
    "* plot the train and validation loss curves"
   ]
  },
  {
   "cell_type": "code",
   "execution_count": 15,
   "metadata": {
    "ExecuteTime": {
     "end_time": "2017-08-03T09:50:45.229520Z",
     "start_time": "2017-08-03T09:50:44.643083Z"
    }
   },
   "outputs": [
    {
     "data": {
      "image/png": "[encoded data removed]",
      "text/plain": [
       "<matplotlib.figure.Figure at 0x11313ef10>"
      ]
     },
     "metadata": {},
     "output_type": "display_data"
    }
   ],
   "source": [
    "#retrieve train and validation summary object and read the loss data into ndarray's. \n",
    "loss = np.array(train_summary.read_scalar(\"Loss\"))\n",
    "val_loss  = np.array(val_summary.read_scalar(\"Loss\"))\n",
    "\n",
    "#plot the train and validation curves\n",
    "# each event data is a tuple in form of (iteration_count, value, timestamp)\n",
    "plt.plot(loss[:,0],loss[:,1],label='train loss')\n",
    "plt.plot(val_loss[:,0],val_loss[:,1],label='val loss',color='green')\n",
    "plt.scatter(val_loss[:,0],val_loss[:,1],color='green')\n",
    "plt.legend();"
   ]
  },
  {
   "cell_type": "markdown",
   "metadata": {},
   "source": [
    "* plot the MAE curve during validation"
   ]
  },
  {
   "cell_type": "code",
   "execution_count": 16,
   "metadata": {
    "ExecuteTime": {
     "end_time": "2017-08-03T09:51:03.691390Z",
     "start_time": "2017-08-03T09:51:03.436382Z"
    }
   },
   "outputs": [
    {
     "data": {
      "image/png": "[encoded data removed]",
      "text/plain": [
       "<matplotlib.figure.Figure at 0x11ecbc590>"
      ]
     },
     "metadata": {},
     "output_type": "display_data"
    }
   ],
   "source": [
    "#retrieve train and validation summary object and read the loss data into ndarray's. \n",
    "val_mae  = np.array(val_summary.read_scalar(\"MAE\"))\n",
    "\n",
    "#plot the train and validation curves\n",
    "# each event data is a tuple in form of (iteration_count, value, timestamp)\n",
    "plt.plot(val_mae[:,0],val_mae[:,1],label='mae')\n",
    "plt.legend();"
   ]
  },
  {
   "cell_type": "markdown",
   "metadata": {},
   "source": [
    "* output the final MAE on validation dataset using BigDL API"
   ]
  },
  {
   "cell_type": "code",
   "execution_count": 17,
   "metadata": {
    "ExecuteTime": {
     "end_time": "2017-08-04T02:21:45.157466Z",
     "start_time": "2017-08-04T02:21:44.240825Z"
    }
   },
   "outputs": [
    {
     "name": "stdout",
     "output_type": "stream",
     "text": [
      "creating: createMAE\n"
     ]
    }
   ],
   "source": [
    "res2 = trained_model.evaluate(val_rdd,2800,[MAE()])"
   ]
  },
  {
   "cell_type": "code",
   "execution_count": 18,
   "metadata": {
    "ExecuteTime": {
     "end_time": "2017-08-04T02:21:45.167142Z",
     "start_time": "2017-08-04T02:21:45.160480Z"
    }
   },
   "outputs": [
    {
     "data": {
      "text/plain": [
       "'Evaluated result: 0.691401600838, total_num: 287, method: MAE'"
      ]
     },
     "execution_count": 18,
     "metadata": {},
     "output_type": "execute_result"
    }
   ],
   "source": [
    "'\\n'.join([str(r) for r in res2])"
   ]
  }
 ],
 "metadata": {
  "kernelspec": {
   "display_name": "Python 2",
   "language": "python",
   "name": "python2"
  },
  "language_info": {
   "codemirror_mode": {
    "name": "ipython",
    "version": 2
   },
   "file_extension": ".py",
   "mimetype": "text/x-python",
   "name": "python",
   "nbconvert_exporter": "python",
   "pygments_lexer": "ipython2",
   "version": "2.7.13"
  },
  "toc": {
   "colors": {
    "hover_highlight": "#DAA520",
    "navigate_num": "#000000",
    "navigate_text": "#333333",
    "running_highlight": "#FF0000",
    "selected_highlight": "#FFD700",
    "sidebar_border": "#EEEEEE",
    "wrapper_background": "#FFFFFF"
   },
   "moveMenuLeft": true,
   "nav_menu": {
    "height": "141px",
    "width": "251px"
   },
   "navigate_menu": true,
   "number_sections": false,
   "sideBar": true,
   "threshold": 4,
   "toc_cell": false,
   "toc_section_display": "block",
   "toc_window_display": true,
   "widenNotebook": false
  }
 },
 "nbformat": 4,
 "nbformat_minor": 2
}
