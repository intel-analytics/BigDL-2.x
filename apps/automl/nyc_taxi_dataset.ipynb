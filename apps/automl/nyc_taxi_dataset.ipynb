{
 "cells": [
  {
   "cell_type": "markdown",
   "metadata": {},
   "source": [
    "# Automated ML for time series predicion"
   ]
  },
  {
   "cell_type": "markdown",
   "metadata": {},
   "source": [
    "We used one of the dataset in [Numenta Anomaly Benchmark (NAB)](https://github.com/numenta/NAB) for demo, i.e. NYC taxi passengers dataset, which contains 10320 records, each indicating the total number of taxi passengers in NYC at a corresonponding time spot. "
   ]
  },
  {
   "cell_type": "code",
   "execution_count": 1,
   "metadata": {},
   "outputs": [],
   "source": [
    "%load_ext autoreload\n",
    "%autoreload 2"
   ]
  },
  {
   "cell_type": "markdown",
   "metadata": {},
   "source": [
    "## 0. Helper function definations"
   ]
  },
  {
   "cell_type": "code",
   "execution_count": 2,
   "metadata": {},
   "outputs": [],
   "source": [
    "# plot the predicted values and actual values (for the test data)\n",
    "def plot_result(test_df, pred_df):\n",
    "    # target column of dataframe is \"value\"\n",
    "    # past sequence length is 50\n",
    "    pred_value = pred_df[\"value\"].values\n",
    "    true_value = test_df[\"value\"].values[50:]\n",
    "    fig, axs = plt.subplots()\n",
    "\n",
    "    axs.plot(pred_value,color='red', label='predicted values')\n",
    "    axs.plot(true_value,color='blue', label='actual values')\n",
    "    axs.set_title('the predicted values and actual values (for the test data)')\n",
    "\n",
    "    plt.xlabel('test data index')\n",
    "    plt.ylabel('number of taxi passengers')\n",
    "    plt.legend(loc='upper left')\n",
    "    plt.show()"
   ]
  },
  {
   "cell_type": "markdown",
   "metadata": {},
   "source": [
    "## 1. load data"
   ]
  },
  {
   "cell_type": "markdown",
   "metadata": {},
   "source": [
    "We have implemented load_nytaxi_data_df method to load nyc taxi data into train/val/test dataframe. You can change val_split_ratio, test_split_ratio and data_path as you want. Train/val/test dataframe all have two columns: \"datetime\" and \"value\", where \"value\" column is the target to predict."
   ]
  },
  {
   "cell_type": "code",
   "execution_count": 3,
   "metadata": {},
   "outputs": [
    {
     "name": "stdout",
     "output_type": "stream",
     "text": [
      "Populating the interactive namespace from numpy and matplotlib\n"
     ]
    }
   ],
   "source": [
    "import os\n",
    "import pandas as pd\n",
    "import numpy as np\n",
    "\n",
    "import matplotlib\n",
    "matplotlib.use('Agg')\n",
    "%pylab inline\n",
    "import seaborn\n",
    "import matplotlib.dates as md\n",
    "from matplotlib import pyplot as plt"
   ]
  },
  {
   "cell_type": "code",
   "execution_count": 4,
   "metadata": {},
   "outputs": [],
   "source": [
    "# load nyc taxi data\n",
    "try:\n",
    "    dataset_path = os.getenv(\"ANALYTICS_ZOO_HOME\")+\"/bin/data/NAB/nyc_taxi/nyc_taxi.csv\"\n",
    "    df = pd.read_csv(dataset_path)\n",
    "except Exception as e:\n",
    "    print(\"nyc_taxi.csv doesn't exist\")\n",
    "    print(\"you can run $ANALYTICS_ZOO_HOME/bin/data/NAB/nyc_taxi/get_nyc_taxi.sh to download nyc_taxi.csv\")"
   ]
  },
  {
   "cell_type": "code",
   "execution_count": 5,
   "metadata": {},
   "outputs": [],
   "source": [
    "from zoo.automl.common.util import split_input_df\n",
    "train_df, val_df, test_df = split_input_df(df, val_split_ratio=0.1, test_split_ratio=0.1)"
   ]
  },
  {
   "cell_type": "code",
   "execution_count": 6,
   "metadata": {},
   "outputs": [
    {
     "data": {
      "text/html": [
       "<div>\n",
       "<style scoped>\n",
       "    .dataframe tbody tr th:only-of-type {\n",
       "        vertical-align: middle;\n",
       "    }\n",
       "\n",
       "    .dataframe tbody tr th {\n",
       "        vertical-align: top;\n",
       "    }\n",
       "\n",
       "    .dataframe thead th {\n",
       "        text-align: right;\n",
       "    }\n",
       "</style>\n",
       "<table border=\"1\" class=\"dataframe\">\n",
       "  <thead>\n",
       "    <tr style=\"text-align: right;\">\n",
       "      <th></th>\n",
       "      <th>value</th>\n",
       "    </tr>\n",
       "  </thead>\n",
       "  <tbody>\n",
       "    <tr>\n",
       "      <th>count</th>\n",
       "      <td>8256.000000</td>\n",
       "    </tr>\n",
       "    <tr>\n",
       "      <th>mean</th>\n",
       "      <td>15421.585514</td>\n",
       "    </tr>\n",
       "    <tr>\n",
       "      <th>std</th>\n",
       "      <td>6871.989592</td>\n",
       "    </tr>\n",
       "    <tr>\n",
       "      <th>min</th>\n",
       "      <td>1431.000000</td>\n",
       "    </tr>\n",
       "    <tr>\n",
       "      <th>25%</th>\n",
       "      <td>11040.000000</td>\n",
       "    </tr>\n",
       "    <tr>\n",
       "      <th>50%</th>\n",
       "      <td>17014.500000</td>\n",
       "    </tr>\n",
       "    <tr>\n",
       "      <th>75%</th>\n",
       "      <td>20032.250000</td>\n",
       "    </tr>\n",
       "    <tr>\n",
       "      <th>max</th>\n",
       "      <td>39197.000000</td>\n",
       "    </tr>\n",
       "  </tbody>\n",
       "</table>\n",
       "</div>"
      ],
      "text/plain": [
       "              value\n",
       "count   8256.000000\n",
       "mean   15421.585514\n",
       "std     6871.989592\n",
       "min     1431.000000\n",
       "25%    11040.000000\n",
       "50%    17014.500000\n",
       "75%    20032.250000\n",
       "max    39197.000000"
      ]
     },
     "execution_count": 6,
     "metadata": {},
     "output_type": "execute_result"
    }
   ],
   "source": [
    "train_df.describe()"
   ]
  },
  {
   "cell_type": "code",
   "execution_count": 7,
   "metadata": {},
   "outputs": [
    {
     "data": {
      "text/html": [
       "<div>\n",
       "<style scoped>\n",
       "    .dataframe tbody tr th:only-of-type {\n",
       "        vertical-align: middle;\n",
       "    }\n",
       "\n",
       "    .dataframe tbody tr th {\n",
       "        vertical-align: top;\n",
       "    }\n",
       "\n",
       "    .dataframe thead th {\n",
       "        text-align: right;\n",
       "    }\n",
       "</style>\n",
       "<table border=\"1\" class=\"dataframe\">\n",
       "  <thead>\n",
       "    <tr style=\"text-align: right;\">\n",
       "      <th></th>\n",
       "      <th>datetime</th>\n",
       "      <th>value</th>\n",
       "    </tr>\n",
       "  </thead>\n",
       "  <tbody>\n",
       "    <tr>\n",
       "      <th>0</th>\n",
       "      <td>2014-07-01 00:00:00</td>\n",
       "      <td>10844</td>\n",
       "    </tr>\n",
       "    <tr>\n",
       "      <th>1</th>\n",
       "      <td>2014-07-01 00:30:00</td>\n",
       "      <td>8127</td>\n",
       "    </tr>\n",
       "    <tr>\n",
       "      <th>2</th>\n",
       "      <td>2014-07-01 01:00:00</td>\n",
       "      <td>6210</td>\n",
       "    </tr>\n",
       "    <tr>\n",
       "      <th>3</th>\n",
       "      <td>2014-07-01 01:30:00</td>\n",
       "      <td>4656</td>\n",
       "    </tr>\n",
       "    <tr>\n",
       "      <th>4</th>\n",
       "      <td>2014-07-01 02:00:00</td>\n",
       "      <td>3820</td>\n",
       "    </tr>\n",
       "  </tbody>\n",
       "</table>\n",
       "</div>"
      ],
      "text/plain": [
       "             datetime  value\n",
       "0 2014-07-01 00:00:00  10844\n",
       "1 2014-07-01 00:30:00   8127\n",
       "2 2014-07-01 01:00:00   6210\n",
       "3 2014-07-01 01:30:00   4656\n",
       "4 2014-07-01 02:00:00   3820"
      ]
     },
     "execution_count": 7,
     "metadata": {},
     "output_type": "execute_result"
    }
   ],
   "source": [
    "train_df.head(5)"
   ]
  },
  {
   "cell_type": "code",
   "execution_count": 8,
   "metadata": {},
   "outputs": [
    {
     "name": "stdout",
     "output_type": "stream",
     "text": [
      "The shape of train_df is (8256, 2)\n",
      "The shape of val_df is (1032, 2)\n",
      "The shape of test_df is (1032, 2)\n"
     ]
    }
   ],
   "source": [
    "# shape of the dataframe\n",
    "print(\"The shape of train_df is\", train_df.shape)\n",
    "print(\"The shape of val_df is\", val_df.shape)\n",
    "print(\"The shape of test_df is\", test_df.shape)"
   ]
  },
  {
   "cell_type": "code",
   "execution_count": 9,
   "metadata": {},
   "outputs": [
    {
     "name": "stderr",
     "output_type": "stream",
     "text": [
      "No handles with labels found to put in legend.\n"
     ]
    },
    {
     "data": {
      "image/png": "[encoded data removed]",
      "text/plain": [
       "<Figure size 864x360 with 1 Axes>"
      ]
     },
     "metadata": {
      "needs_background": "light"
     },
     "output_type": "display_data"
    }
   ],
   "source": [
    "# visualisation of anomaly throughout time in train_df\n",
    "from pandas.plotting import register_matplotlib_converters\n",
    "register_matplotlib_converters()\n",
    "\n",
    "fig, ax = plt.subplots(figsize=(12, 5))\n",
    "# pd.plotting.deregister_matplotlib_converters()\n",
    "\n",
    "ax.plot(train_df['datetime'], train_df['value'], color='blue', linewidth=0.6)\n",
    "ax.set_title('NYC taxi passengers throughout time')\n",
    "\n",
    "plt.xlabel('datetime')\n",
    "plt.xticks(rotation=45) \n",
    "plt.ylabel('The Number of NYC taxi passengers')\n",
    "plt.legend(loc='upper left')\n",
    "plt.show()"
   ]
  },
  {
   "cell_type": "markdown",
   "metadata": {},
   "source": [
    "## 2. Train and validation"
   ]
  },
  {
   "cell_type": "markdown",
   "metadata": {},
   "source": [
    "You can use analytices zoo automl to predict time series data by simply define a `TimeSequencePredictor`. Currently, our automl support searching feature combinations in a predefined feature space, and searching model hyper-parameters. Model selection is not supported yet.  \n",
    "\n",
    "We use feature tools to generate features from the given datetime. The generated features are \\['HOUR', 'DAY', 'MONTH'. 'IS_AWAKE', 'IS_BUSY_HOURS'\\]. Our feature space comprises these generated features as well as the original inputs such as \\['datetime','value'\\].  \n",
    "\n",
    "We use a vanilla LSTM model to predict time series data. The model search space contains the unit num of lstm layers ,dropout rate and hyper-parameters for training, such as batch_size, learning rate, etc. \n",
    "\n",
    "Currently, We use RNN to learn from 50 previous values, and predict just the 1 next value. You can specify the sequence length to predict while creating `TimeSequencePredictor` with arg: `future_seq_len`. The previous sequence length will be  considered as a tunable variable in our future version."
   ]
  },
  {
   "cell_type": "code",
   "execution_count": 10,
   "metadata": {},
   "outputs": [
    {
     "name": "stderr",
     "output_type": "stream",
     "text": [
      "Using TensorFlow backend.\n"
     ]
    }
   ],
   "source": [
    "# build time sequence predictor\n",
    "from zoo.automl.regression.time_sequence_predictor import TimeSequencePredictor\n",
    "\n",
    "# you need to specify the name of datetime column and target column\n",
    "# The default names are \"datetime\" and \"value\" respectively.\n",
    "tsp = TimeSequencePredictor(dt_col=\"datetime\",\n",
    "                            target_col=\"value\",\n",
    "                            extra_features_col=None)"
   ]
  },
  {
   "cell_type": "code",
   "execution_count": 11,
   "metadata": {},
   "outputs": [
    {
     "name": "stderr",
     "output_type": "stream",
     "text": [
      "2019-06-05 16:02:11,695\tINFO node.py:497 -- Process STDOUT and STDERR is being redirected to /tmp/ray/session_2019-06-05_16-02-11_695355_2657/logs.\n",
      "2019-06-05 16:02:11,804\tINFO services.py:409 -- Waiting for redis server at 127.0.0.1:44569 to respond...\n",
      "2019-06-05 16:02:11,922\tINFO services.py:409 -- Waiting for redis server at 127.0.0.1:27418 to respond...\n",
      "2019-06-05 16:02:11,924\tINFO services.py:806 -- Starting Redis shard with 10.0 GB max memory.\n",
      "2019-06-05 16:02:11,956\tINFO node.py:511 -- Process STDOUT and STDERR is being redirected to /tmp/ray/session_2019-06-05_16-02-11_695355_2657/logs.\n",
      "2019-06-05 16:02:11,958\tWARNING services.py:1293 -- Warning: Capping object memory store to 20.0GB. To increase this further, specify `object_store_memory` when calling ray.init() or ray start.\n",
      "2019-06-05 16:02:11,958\tINFO services.py:1441 -- Starting the Plasma object store with 20.0 GB memory using /dev/shm.\n",
      "2019-06-05 16:02:12,211\tINFO tune.py:60 -- Tip: to resume incomplete experiments, pass resume='prompt' or resume=True to run()\n",
      "2019-06-05 16:02:12,212\tINFO tune.py:223 -- Starting a new experiment.\n"
     ]
    },
    {
     "name": "stdout",
     "output_type": "stream",
     "text": [
      "== Status ==\n",
      "Using FIFO scheduling algorithm.\n",
      "Resources requested: 0/6 CPUs, 0/0 GPUs\n",
      "Memory usage on this node: 17.7/67.4 GB\n",
      "\n",
      "== Status ==\n",
      "Using FIFO scheduling algorithm.\n",
      "Resources requested: 2/6 CPUs, 0/0 GPUs\n",
      "Memory usage on this node: 17.7/67.4 GB\n",
      "Result logdir: /home/shan/ray_results/train_func\n",
      "Number of trials: 2 ({'RUNNING': 1, 'PENDING': 1})\n",
      "PENDING trials:\n",
      " - train_func_1_dropout_2=0.47576,lstm_1_units=32,selected_features=['IS_BUSY_HOURS(datetime)' 'WEEKDAY(datetime)' 'HOUR(datetime)'\n",
      " 'MONTH(datetime)' 'IS_WEEKEND(datetime)']:\tPENDING\n",
      "RUNNING trials:\n",
      " - train_func_0_dropout_2=0.24393,lstm_1_units=16,selected_features=['WEEKDAY(datetime)' 'IS_AWAKE(datetime)' 'IS_BUSY_HOURS(datetime)'\n",
      " 'HOUR(datetime)']:\tRUNNING\n",
      "\n",
      "\u001b[2m\u001b[36m(pid=2707)\u001b[0m Using TensorFlow backend.\n",
      "\u001b[2m\u001b[36m(pid=2703)\u001b[0m Using TensorFlow backend.\n",
      "\u001b[2m\u001b[36m(pid=2705)\u001b[0m Using TensorFlow backend.\n",
      "\u001b[2m\u001b[36m(pid=2708)\u001b[0m Using TensorFlow backend.\n",
      "\u001b[2m\u001b[36m(pid=2704)\u001b[0m Using TensorFlow backend.\n",
      "\u001b[2m\u001b[36m(pid=2776)\u001b[0m Using TensorFlow backend.\n",
      "\u001b[2m\u001b[36m(pid=2706)\u001b[0m Using TensorFlow backend.\n",
      "\u001b[2m\u001b[36m(pid=2771)\u001b[0m Using TensorFlow backend.\n",
      "\u001b[2m\u001b[36m(pid=2703)\u001b[0m 2019-06-05 16:02:18.348500: I tensorflow/core/platform/cpu_feature_guard.cc:141] Your CPU supports instructions that this TensorFlow binary was not compiled to use: AVX2 FMA\n",
      "\u001b[2m\u001b[36m(pid=2704)\u001b[0m 2019-06-05 16:02:18.413785: I tensorflow/core/platform/cpu_feature_guard.cc:141] Your CPU supports instructions that this TensorFlow binary was not compiled to use: AVX2 FMA\n",
      "== Status ==\n",
      "Using FIFO scheduling algorithm.\n",
      "Resources requested: 4/6 CPUs, 0/0 GPUs\n",
      "Memory usage on this node: 19.0/67.4 GB\n",
      "Result logdir: /home/shan/ray_results/train_func\n",
      "Number of trials: 2 ({'RUNNING': 2})\n",
      "RUNNING trials:\n",
      " - train_func_0_dropout_2=0.24393,lstm_1_units=16,selected_features=['WEEKDAY(datetime)' 'IS_AWAKE(datetime)' 'IS_BUSY_HOURS(datetime)'\n",
      " 'HOUR(datetime)']:\tRUNNING, [2 CPUs, 0 GPUs], [pid=2704], 37 s, 1 iter\n",
      " - train_func_1_dropout_2=0.47576,lstm_1_units=32,selected_features=['IS_BUSY_HOURS(datetime)' 'WEEKDAY(datetime)' 'HOUR(datetime)'\n",
      " 'MONTH(datetime)' 'IS_WEEKEND(datetime)']:\tRUNNING\n",
      "\n",
      "== Status ==\n",
      "Using FIFO scheduling algorithm.\n",
      "Resources requested: 4/6 CPUs, 0/0 GPUs\n",
      "Memory usage on this node: 19.0/67.4 GB\n",
      "Result logdir: /home/shan/ray_results/train_func\n",
      "Number of trials: 2 ({'RUNNING': 2})\n",
      "RUNNING trials:\n",
      " - train_func_0_dropout_2=0.24393,lstm_1_units=16,selected_features=['WEEKDAY(datetime)' 'IS_AWAKE(datetime)' 'IS_BUSY_HOURS(datetime)'\n",
      " 'HOUR(datetime)']:\tRUNNING, [2 CPUs, 0 GPUs], [pid=2704], 37 s, 1 iter\n",
      " - train_func_1_dropout_2=0.47576,lstm_1_units=32,selected_features=['IS_BUSY_HOURS(datetime)' 'WEEKDAY(datetime)' 'HOUR(datetime)'\n",
      " 'MONTH(datetime)' 'IS_WEEKEND(datetime)']:\tRUNNING, [2 CPUs, 0 GPUs], [pid=2703], 46 s, 1 iter\n",
      "\n",
      "== Status ==\n",
      "Using FIFO scheduling algorithm.\n",
      "Resources requested: 4/6 CPUs, 0/0 GPUs\n",
      "Memory usage on this node: 19.0/67.4 GB\n",
      "Result logdir: /home/shan/ray_results/train_func\n",
      "Number of trials: 2 ({'RUNNING': 2})\n",
      "RUNNING trials:\n",
      " - train_func_0_dropout_2=0.24393,lstm_1_units=16,selected_features=['WEEKDAY(datetime)' 'IS_AWAKE(datetime)' 'IS_BUSY_HOURS(datetime)'\n",
      " 'HOUR(datetime)']:\tRUNNING, [2 CPUs, 0 GPUs], [pid=2704], 66 s, 2 iter\n",
      " - train_func_1_dropout_2=0.47576,lstm_1_units=32,selected_features=['IS_BUSY_HOURS(datetime)' 'WEEKDAY(datetime)' 'HOUR(datetime)'\n",
      " 'MONTH(datetime)' 'IS_WEEKEND(datetime)']:\tRUNNING, [2 CPUs, 0 GPUs], [pid=2703], 46 s, 1 iter\n",
      "\n",
      "== Status ==\n",
      "Using FIFO scheduling algorithm.\n",
      "Resources requested: 4/6 CPUs, 0/0 GPUs\n",
      "Memory usage on this node: 19.0/67.4 GB\n",
      "Result logdir: /home/shan/ray_results/train_func\n",
      "Number of trials: 2 ({'RUNNING': 2})\n",
      "RUNNING trials:\n",
      " - train_func_0_dropout_2=0.24393,lstm_1_units=16,selected_features=['WEEKDAY(datetime)' 'IS_AWAKE(datetime)' 'IS_BUSY_HOURS(datetime)'\n",
      " 'HOUR(datetime)']:\tRUNNING, [2 CPUs, 0 GPUs], [pid=2704], 66 s, 2 iter\n",
      " - train_func_1_dropout_2=0.47576,lstm_1_units=32,selected_features=['IS_BUSY_HOURS(datetime)' 'WEEKDAY(datetime)' 'HOUR(datetime)'\n",
      " 'MONTH(datetime)' 'IS_WEEKEND(datetime)']:\tRUNNING, [2 CPUs, 0 GPUs], [pid=2703], 86 s, 2 iter\n",
      "\n",
      "== Status ==\n",
      "Using FIFO scheduling algorithm.\n",
      "Resources requested: 4/6 CPUs, 0/0 GPUs\n",
      "Memory usage on this node: 19.0/67.4 GB\n",
      "Result logdir: /home/shan/ray_results/train_func\n",
      "Number of trials: 2 ({'RUNNING': 2})\n",
      "RUNNING trials:\n",
      " - train_func_0_dropout_2=0.24393,lstm_1_units=16,selected_features=['WEEKDAY(datetime)' 'IS_AWAKE(datetime)' 'IS_BUSY_HOURS(datetime)'\n",
      " 'HOUR(datetime)']:\tRUNNING, [2 CPUs, 0 GPUs], [pid=2704], 101 s, 3 iter\n",
      " - train_func_1_dropout_2=0.47576,lstm_1_units=32,selected_features=['IS_BUSY_HOURS(datetime)' 'WEEKDAY(datetime)' 'HOUR(datetime)'\n",
      " 'MONTH(datetime)' 'IS_WEEKEND(datetime)']:\tRUNNING, [2 CPUs, 0 GPUs], [pid=2703], 86 s, 2 iter\n",
      "\n",
      "== Status ==\n",
      "Using FIFO scheduling algorithm.\n",
      "Resources requested: 4/6 CPUs, 0/0 GPUs\n",
      "Memory usage on this node: 18.9/67.4 GB\n",
      "Result logdir: /home/shan/ray_results/train_func\n",
      "Number of trials: 2 ({'RUNNING': 2})\n",
      "RUNNING trials:\n",
      " - train_func_0_dropout_2=0.24393,lstm_1_units=16,selected_features=['WEEKDAY(datetime)' 'IS_AWAKE(datetime)' 'IS_BUSY_HOURS(datetime)'\n",
      " 'HOUR(datetime)']:\tRUNNING, [2 CPUs, 0 GPUs], [pid=2704], 101 s, 3 iter\n",
      " - train_func_1_dropout_2=0.47576,lstm_1_units=32,selected_features=['IS_BUSY_HOURS(datetime)' 'WEEKDAY(datetime)' 'HOUR(datetime)'\n",
      " 'MONTH(datetime)' 'IS_WEEKEND(datetime)']:\tRUNNING, [2 CPUs, 0 GPUs], [pid=2703], 128 s, 3 iter\n",
      "\n",
      "== Status ==\n",
      "Using FIFO scheduling algorithm.\n",
      "Resources requested: 4/6 CPUs, 0/0 GPUs\n",
      "Memory usage on this node: 19.0/67.4 GB\n",
      "Result logdir: /home/shan/ray_results/train_func\n",
      "Number of trials: 2 ({'RUNNING': 2})\n",
      "RUNNING trials:\n",
      " - train_func_0_dropout_2=0.24393,lstm_1_units=16,selected_features=['WEEKDAY(datetime)' 'IS_AWAKE(datetime)' 'IS_BUSY_HOURS(datetime)'\n",
      " 'HOUR(datetime)']:\tRUNNING, [2 CPUs, 0 GPUs], [pid=2704], 168 s, 5 iter\n",
      " - train_func_1_dropout_2=0.47576,lstm_1_units=32,selected_features=['IS_BUSY_HOURS(datetime)' 'WEEKDAY(datetime)' 'HOUR(datetime)'\n",
      " 'MONTH(datetime)' 'IS_WEEKEND(datetime)']:\tRUNNING, [2 CPUs, 0 GPUs], [pid=2703], 128 s, 3 iter\n",
      "\n",
      "== Status ==\n",
      "Using FIFO scheduling algorithm.\n",
      "Resources requested: 4/6 CPUs, 0/0 GPUs\n",
      "Memory usage on this node: 18.9/67.4 GB\n",
      "Result logdir: /home/shan/ray_results/train_func\n",
      "Number of trials: 2 ({'RUNNING': 2})\n",
      "RUNNING trials:\n",
      " - train_func_0_dropout_2=0.24393,lstm_1_units=16,selected_features=['WEEKDAY(datetime)' 'IS_AWAKE(datetime)' 'IS_BUSY_HOURS(datetime)'\n",
      " 'HOUR(datetime)']:\tRUNNING, [2 CPUs, 0 GPUs], [pid=2704], 168 s, 5 iter\n",
      " - train_func_1_dropout_2=0.47576,lstm_1_units=32,selected_features=['IS_BUSY_HOURS(datetime)' 'WEEKDAY(datetime)' 'HOUR(datetime)'\n",
      " 'MONTH(datetime)' 'IS_WEEKEND(datetime)']:\tRUNNING, [2 CPUs, 0 GPUs], [pid=2703], 179 s, 4 iter\n",
      "\n",
      "== Status ==\n",
      "Using FIFO scheduling algorithm.\n",
      "Resources requested: 4/6 CPUs, 0/0 GPUs\n",
      "Memory usage on this node: 19.0/67.4 GB\n",
      "Result logdir: /home/shan/ray_results/train_func\n",
      "Number of trials: 2 ({'RUNNING': 2})\n",
      "RUNNING trials:\n",
      " - train_func_0_dropout_2=0.24393,lstm_1_units=16,selected_features=['WEEKDAY(datetime)' 'IS_AWAKE(datetime)' 'IS_BUSY_HOURS(datetime)'\n",
      " 'HOUR(datetime)']:\tRUNNING, [2 CPUs, 0 GPUs], [pid=2704], 198 s, 6 iter\n",
      " - train_func_1_dropout_2=0.47576,lstm_1_units=32,selected_features=['IS_BUSY_HOURS(datetime)' 'WEEKDAY(datetime)' 'HOUR(datetime)'\n",
      " 'MONTH(datetime)' 'IS_WEEKEND(datetime)']:\tRUNNING, [2 CPUs, 0 GPUs], [pid=2703], 179 s, 4 iter\n",
      "\n",
      "== Status ==\n",
      "Using FIFO scheduling algorithm.\n",
      "Resources requested: 4/6 CPUs, 0/0 GPUs\n",
      "Memory usage on this node: 18.9/67.4 GB\n",
      "Result logdir: /home/shan/ray_results/train_func\n",
      "Number of trials: 2 ({'RUNNING': 2})\n",
      "RUNNING trials:\n",
      " - train_func_0_dropout_2=0.24393,lstm_1_units=16,selected_features=['WEEKDAY(datetime)' 'IS_AWAKE(datetime)' 'IS_BUSY_HOURS(datetime)'\n",
      " 'HOUR(datetime)']:\tRUNNING, [2 CPUs, 0 GPUs], [pid=2704], 198 s, 6 iter\n",
      " - train_func_1_dropout_2=0.47576,lstm_1_units=32,selected_features=['IS_BUSY_HOURS(datetime)' 'WEEKDAY(datetime)' 'HOUR(datetime)'\n",
      " 'MONTH(datetime)' 'IS_WEEKEND(datetime)']:\tRUNNING, [2 CPUs, 0 GPUs], [pid=2703], 224 s, 5 iter\n",
      "\n",
      "== Status ==\n",
      "Using FIFO scheduling algorithm.\n",
      "Resources requested: 4/6 CPUs, 0/0 GPUs\n",
      "Memory usage on this node: 19.0/67.4 GB\n",
      "Result logdir: /home/shan/ray_results/train_func\n",
      "Number of trials: 2 ({'RUNNING': 2})\n",
      "RUNNING trials:\n",
      " - train_func_0_dropout_2=0.24393,lstm_1_units=16,selected_features=['WEEKDAY(datetime)' 'IS_AWAKE(datetime)' 'IS_BUSY_HOURS(datetime)'\n",
      " 'HOUR(datetime)']:\tRUNNING, [2 CPUs, 0 GPUs], [pid=2704], 233 s, 7 iter\n",
      " - train_func_1_dropout_2=0.47576,lstm_1_units=32,selected_features=['IS_BUSY_HOURS(datetime)' 'WEEKDAY(datetime)' 'HOUR(datetime)'\n",
      " 'MONTH(datetime)' 'IS_WEEKEND(datetime)']:\tRUNNING, [2 CPUs, 0 GPUs], [pid=2703], 224 s, 5 iter\n",
      "\n"
     ]
    },
    {
     "name": "stdout",
     "output_type": "stream",
     "text": [
      "== Status ==\n",
      "Using FIFO scheduling algorithm.\n",
      "Resources requested: 4/6 CPUs, 0/0 GPUs\n",
      "Memory usage on this node: 18.9/67.4 GB\n",
      "Result logdir: /home/shan/ray_results/train_func\n",
      "Number of trials: 2 ({'RUNNING': 2})\n",
      "RUNNING trials:\n",
      " - train_func_0_dropout_2=0.24393,lstm_1_units=16,selected_features=['WEEKDAY(datetime)' 'IS_AWAKE(datetime)' 'IS_BUSY_HOURS(datetime)'\n",
      " 'HOUR(datetime)']:\tRUNNING, [2 CPUs, 0 GPUs], [pid=2704], 233 s, 7 iter\n",
      " - train_func_1_dropout_2=0.47576,lstm_1_units=32,selected_features=['IS_BUSY_HOURS(datetime)' 'WEEKDAY(datetime)' 'HOUR(datetime)'\n",
      " 'MONTH(datetime)' 'IS_WEEKEND(datetime)']:\tRUNNING, [2 CPUs, 0 GPUs], [pid=2703], 264 s, 6 iter\n",
      "\n",
      "== Status ==\n",
      "Using FIFO scheduling algorithm.\n",
      "Resources requested: 4/6 CPUs, 0/0 GPUs\n",
      "Memory usage on this node: 19.0/67.4 GB\n",
      "Result logdir: /home/shan/ray_results/train_func\n",
      "Number of trials: 2 ({'RUNNING': 2})\n",
      "RUNNING trials:\n",
      " - train_func_0_dropout_2=0.24393,lstm_1_units=16,selected_features=['WEEKDAY(datetime)' 'IS_AWAKE(datetime)' 'IS_BUSY_HOURS(datetime)'\n",
      " 'HOUR(datetime)']:\tRUNNING, [2 CPUs, 0 GPUs], [pid=2704], 301 s, 9 iter\n",
      " - train_func_1_dropout_2=0.47576,lstm_1_units=32,selected_features=['IS_BUSY_HOURS(datetime)' 'WEEKDAY(datetime)' 'HOUR(datetime)'\n",
      " 'MONTH(datetime)' 'IS_WEEKEND(datetime)']:\tRUNNING, [2 CPUs, 0 GPUs], [pid=2703], 264 s, 6 iter\n",
      "\n",
      "== Status ==\n",
      "Using FIFO scheduling algorithm.\n",
      "Resources requested: 4/6 CPUs, 0/0 GPUs\n",
      "Memory usage on this node: 19.0/67.4 GB\n",
      "Result logdir: /home/shan/ray_results/train_func\n",
      "Number of trials: 2 ({'RUNNING': 2})\n",
      "RUNNING trials:\n",
      " - train_func_0_dropout_2=0.24393,lstm_1_units=16,selected_features=['WEEKDAY(datetime)' 'IS_AWAKE(datetime)' 'IS_BUSY_HOURS(datetime)'\n",
      " 'HOUR(datetime)']:\tRUNNING, [2 CPUs, 0 GPUs], [pid=2704], 301 s, 9 iter\n",
      " - train_func_1_dropout_2=0.47576,lstm_1_units=32,selected_features=['IS_BUSY_HOURS(datetime)' 'WEEKDAY(datetime)' 'HOUR(datetime)'\n",
      " 'MONTH(datetime)' 'IS_WEEKEND(datetime)']:\tRUNNING, [2 CPUs, 0 GPUs], [pid=2703], 312 s, 7 iter\n",
      "\n",
      "== Status ==\n",
      "Using FIFO scheduling algorithm.\n",
      "Resources requested: 2/6 CPUs, 0/0 GPUs\n",
      "Memory usage on this node: 18.7/67.4 GB\n",
      "Result logdir: /home/shan/ray_results/train_func\n",
      "Number of trials: 2 ({'TERMINATED': 1, 'RUNNING': 1})\n",
      "RUNNING trials:\n",
      " - train_func_1_dropout_2=0.47576,lstm_1_units=32,selected_features=['IS_BUSY_HOURS(datetime)' 'WEEKDAY(datetime)' 'HOUR(datetime)'\n",
      " 'MONTH(datetime)' 'IS_WEEKEND(datetime)']:\tRUNNING, [2 CPUs, 0 GPUs], [pid=2703], 312 s, 7 iter\n",
      "TERMINATED trials:\n",
      " - train_func_0_dropout_2=0.24393,lstm_1_units=16,selected_features=['WEEKDAY(datetime)' 'IS_AWAKE(datetime)' 'IS_BUSY_HOURS(datetime)'\n",
      " 'HOUR(datetime)']:\tTERMINATED, [2 CPUs, 0 GPUs], [pid=2704], 338 s, 10 iter\n",
      "\n",
      "== Status ==\n",
      "Using FIFO scheduling algorithm.\n",
      "Resources requested: 2/6 CPUs, 0/0 GPUs\n",
      "Memory usage on this node: 18.6/67.4 GB\n",
      "Result logdir: /home/shan/ray_results/train_func\n",
      "Number of trials: 2 ({'TERMINATED': 1, 'RUNNING': 1})\n",
      "RUNNING trials:\n",
      " - train_func_1_dropout_2=0.47576,lstm_1_units=32,selected_features=['IS_BUSY_HOURS(datetime)' 'WEEKDAY(datetime)' 'HOUR(datetime)'\n",
      " 'MONTH(datetime)' 'IS_WEEKEND(datetime)']:\tRUNNING, [2 CPUs, 0 GPUs], [pid=2703], 350 s, 8 iter\n",
      "TERMINATED trials:\n",
      " - train_func_0_dropout_2=0.24393,lstm_1_units=16,selected_features=['WEEKDAY(datetime)' 'IS_AWAKE(datetime)' 'IS_BUSY_HOURS(datetime)'\n",
      " 'HOUR(datetime)']:\tTERMINATED, [2 CPUs, 0 GPUs], [pid=2704], 338 s, 10 iter\n",
      "\n",
      "== Status ==\n",
      "Using FIFO scheduling algorithm.\n",
      "Resources requested: 2/6 CPUs, 0/0 GPUs\n",
      "Memory usage on this node: 18.6/67.4 GB\n",
      "Result logdir: /home/shan/ray_results/train_func\n",
      "Number of trials: 2 ({'TERMINATED': 1, 'RUNNING': 1})\n",
      "RUNNING trials:\n",
      " - train_func_1_dropout_2=0.47576,lstm_1_units=32,selected_features=['IS_BUSY_HOURS(datetime)' 'WEEKDAY(datetime)' 'HOUR(datetime)'\n",
      " 'MONTH(datetime)' 'IS_WEEKEND(datetime)']:\tRUNNING, [2 CPUs, 0 GPUs], [pid=2703], 379 s, 9 iter\n",
      "TERMINATED trials:\n",
      " - train_func_0_dropout_2=0.24393,lstm_1_units=16,selected_features=['WEEKDAY(datetime)' 'IS_AWAKE(datetime)' 'IS_BUSY_HOURS(datetime)'\n",
      " 'HOUR(datetime)']:\tTERMINATED, [2 CPUs, 0 GPUs], [pid=2704], 338 s, 10 iter\n",
      "\n"
     ]
    },
    {
     "name": "stderr",
     "output_type": "stream",
     "text": [
      "2019-06-05 16:08:58,128\tINFO ray_trial_executor.py:180 -- Destroying actor for trial train_func_1_dropout_2=0.47576,lstm_1_units=32,selected_features=['IS_BUSY_HOURS(datetime)' 'WEEKDAY(datetime)' 'HOUR(datetime)'\n",
      " 'MONTH(datetime)' 'IS_WEEKEND(datetime)']. If your trainable is slow to initialize, consider setting reuse_actors=True to reduce actor creation overheads.\n"
     ]
    },
    {
     "name": "stdout",
     "output_type": "stream",
     "text": [
      "== Status ==\n",
      "Using FIFO scheduling algorithm.\n",
      "Resources requested: 0/6 CPUs, 0/0 GPUs\n",
      "Memory usage on this node: 18.5/67.4 GB\n",
      "Result logdir: /home/shan/ray_results/train_func\n",
      "Number of trials: 2 ({'TERMINATED': 2})\n",
      "TERMINATED trials:\n",
      " - train_func_0_dropout_2=0.24393,lstm_1_units=16,selected_features=['WEEKDAY(datetime)' 'IS_AWAKE(datetime)' 'IS_BUSY_HOURS(datetime)'\n",
      " 'HOUR(datetime)']:\tTERMINATED, [2 CPUs, 0 GPUs], [pid=2704], 338 s, 10 iter\n",
      " - train_func_1_dropout_2=0.47576,lstm_1_units=32,selected_features=['IS_BUSY_HOURS(datetime)' 'WEEKDAY(datetime)' 'HOUR(datetime)'\n",
      " 'MONTH(datetime)' 'IS_WEEKEND(datetime)']:\tTERMINATED, [2 CPUs, 0 GPUs], [pid=2703], 403 s, 10 iter\n",
      "\n",
      "== Status ==\n",
      "Using FIFO scheduling algorithm.\n",
      "Resources requested: 0/6 CPUs, 0/0 GPUs\n",
      "Memory usage on this node: 18.5/67.4 GB\n",
      "Result logdir: /home/shan/ray_results/train_func\n",
      "Number of trials: 2 ({'TERMINATED': 2})\n",
      "TERMINATED trials:\n",
      " - train_func_0_dropout_2=0.24393,lstm_1_units=16,selected_features=['WEEKDAY(datetime)' 'IS_AWAKE(datetime)' 'IS_BUSY_HOURS(datetime)'\n",
      " 'HOUR(datetime)']:\tTERMINATED, [2 CPUs, 0 GPUs], [pid=2704], 338 s, 10 iter\n",
      " - train_func_1_dropout_2=0.47576,lstm_1_units=32,selected_features=['IS_BUSY_HOURS(datetime)' 'WEEKDAY(datetime)' 'HOUR(datetime)'\n",
      " 'MONTH(datetime)' 'IS_WEEKEND(datetime)']:\tTERMINATED, [2 CPUs, 0 GPUs], [pid=2703], 403 s, 10 iter\n",
      "\n",
      "The best configurations are:\n",
      "selected_features : ['WEEKDAY(datetime)' 'IS_AWAKE(datetime)' 'IS_BUSY_HOURS(datetime)'\n",
      " 'HOUR(datetime)']\n",
      "out_units : 1\n",
      "lr : 0.001\n",
      "lstm_1_units : 16\n",
      "dropout_1 : 0.2\n",
      "lstm_2_units : 10\n",
      "dropout_2 : 0.24393238689251184\n",
      "batch_size : 1024\n",
      "Training completed.\n",
      "CPU times: user 12.5 s, sys: 1.39 s, total: 13.8 s\n",
      "Wall time: 6min 49s\n"
     ]
    }
   ],
   "source": [
    "%%time\n",
    "# fit train_df and validate with val_df, return the best trial as pipeline.\n",
    "# the default trail num is 10, need about 5.5 mins.\n",
    "pipeline = tsp.fit(train_df,\n",
    "                   validation_df=val_df,\n",
    "                   metric=\"mean_squared_error\")\n",
    "print(\"Training completed.\")"
   ]
  },
  {
   "cell_type": "markdown",
   "metadata": {},
   "source": [
    "## 3. Test"
   ]
  },
  {
   "cell_type": "code",
   "execution_count": 12,
   "metadata": {},
   "outputs": [],
   "source": [
    "# predict test_df with the best trial\n",
    "pred_df = pipeline.predict(test_df)"
   ]
  },
  {
   "cell_type": "code",
   "execution_count": 13,
   "metadata": {},
   "outputs": [
    {
     "data": {
      "text/html": [
       "<div>\n",
       "<style scoped>\n",
       "    .dataframe tbody tr th:only-of-type {\n",
       "        vertical-align: middle;\n",
       "    }\n",
       "\n",
       "    .dataframe tbody tr th {\n",
       "        vertical-align: top;\n",
       "    }\n",
       "\n",
       "    .dataframe thead th {\n",
       "        text-align: right;\n",
       "    }\n",
       "</style>\n",
       "<table border=\"1\" class=\"dataframe\">\n",
       "  <thead>\n",
       "    <tr style=\"text-align: right;\">\n",
       "      <th></th>\n",
       "      <th>datetime</th>\n",
       "      <th>value</th>\n",
       "    </tr>\n",
       "  </thead>\n",
       "  <tbody>\n",
       "    <tr>\n",
       "      <th>0</th>\n",
       "      <td>2015-01-11 13:00:00</td>\n",
       "      <td>21249.492188</td>\n",
       "    </tr>\n",
       "    <tr>\n",
       "      <th>1</th>\n",
       "      <td>2015-01-11 13:30:00</td>\n",
       "      <td>21404.123047</td>\n",
       "    </tr>\n",
       "    <tr>\n",
       "      <th>2</th>\n",
       "      <td>2015-01-11 14:00:00</td>\n",
       "      <td>20919.406250</td>\n",
       "    </tr>\n",
       "    <tr>\n",
       "      <th>3</th>\n",
       "      <td>2015-01-11 14:30:00</td>\n",
       "      <td>20000.326172</td>\n",
       "    </tr>\n",
       "    <tr>\n",
       "      <th>4</th>\n",
       "      <td>2015-01-11 15:00:00</td>\n",
       "      <td>18968.916016</td>\n",
       "    </tr>\n",
       "  </tbody>\n",
       "</table>\n",
       "</div>"
      ],
      "text/plain": [
       "             datetime         value\n",
       "0 2015-01-11 13:00:00  21249.492188\n",
       "1 2015-01-11 13:30:00  21404.123047\n",
       "2 2015-01-11 14:00:00  20919.406250\n",
       "3 2015-01-11 14:30:00  20000.326172\n",
       "4 2015-01-11 15:00:00  18968.916016"
      ]
     },
     "execution_count": 13,
     "metadata": {},
     "output_type": "execute_result"
    }
   ],
   "source": [
    "pred_df.head(5)"
   ]
  },
  {
   "cell_type": "code",
   "execution_count": 14,
   "metadata": {},
   "outputs": [
    {
     "data": {
      "text/html": [
       "<div>\n",
       "<style scoped>\n",
       "    .dataframe tbody tr th:only-of-type {\n",
       "        vertical-align: middle;\n",
       "    }\n",
       "\n",
       "    .dataframe tbody tr th {\n",
       "        vertical-align: top;\n",
       "    }\n",
       "\n",
       "    .dataframe thead th {\n",
       "        text-align: right;\n",
       "    }\n",
       "</style>\n",
       "<table border=\"1\" class=\"dataframe\">\n",
       "  <thead>\n",
       "    <tr style=\"text-align: right;\">\n",
       "      <th></th>\n",
       "      <th>datetime</th>\n",
       "      <th>value</th>\n",
       "    </tr>\n",
       "  </thead>\n",
       "  <tbody>\n",
       "    <tr>\n",
       "      <th>50</th>\n",
       "      <td>2015-01-11 13:00:00</td>\n",
       "      <td>21296</td>\n",
       "    </tr>\n",
       "    <tr>\n",
       "      <th>51</th>\n",
       "      <td>2015-01-11 13:30:00</td>\n",
       "      <td>20381</td>\n",
       "    </tr>\n",
       "    <tr>\n",
       "      <th>52</th>\n",
       "      <td>2015-01-11 14:00:00</td>\n",
       "      <td>19508</td>\n",
       "    </tr>\n",
       "    <tr>\n",
       "      <th>53</th>\n",
       "      <td>2015-01-11 14:30:00</td>\n",
       "      <td>19210</td>\n",
       "    </tr>\n",
       "    <tr>\n",
       "      <th>54</th>\n",
       "      <td>2015-01-11 15:00:00</td>\n",
       "      <td>18255</td>\n",
       "    </tr>\n",
       "  </tbody>\n",
       "</table>\n",
       "</div>"
      ],
      "text/plain": [
       "              datetime  value\n",
       "50 2015-01-11 13:00:00  21296\n",
       "51 2015-01-11 13:30:00  20381\n",
       "52 2015-01-11 14:00:00  19508\n",
       "53 2015-01-11 14:30:00  19210\n",
       "54 2015-01-11 15:00:00  18255"
      ]
     },
     "execution_count": 14,
     "metadata": {},
     "output_type": "execute_result"
    }
   ],
   "source": [
    "# prediction value start from 50\n",
    "test_df[50:55]"
   ]
  },
  {
   "cell_type": "code",
   "execution_count": 15,
   "metadata": {},
   "outputs": [
    {
     "name": "stdout",
     "output_type": "stream",
     "text": [
      "Evaluate: the mean square error is 2740080.306617149\n",
      "Evaluate: the r_squared value is 0.9507417203561532\n"
     ]
    }
   ],
   "source": [
    "# evaluate test_df\n",
    "mse, rs = pipeline.evaluate(test_df, metric=[\"mean_squared_error\", \"r_square\"])\n",
    "print(\"Evaluate: the mean square error is\", mse)\n",
    "print(\"Evaluate: the r_squared value is\", rs)"
   ]
  },
  {
   "cell_type": "code",
   "execution_count": 16,
   "metadata": {},
   "outputs": [
    {
     "data": {
      "image/png": "[encoded data removed]",
      "text/plain": [
       "<Figure size 432x288 with 1 Axes>"
      ]
     },
     "metadata": {
      "needs_background": "light"
     },
     "output_type": "display_data"
    }
   ],
   "source": [
    "# plot the predicted values and actual values\n",
    "plot_result(test_df, pred_df)"
   ]
  },
  {
   "cell_type": "markdown",
   "metadata": {},
   "source": [
    "## 4. save and restore"
   ]
  },
  {
   "cell_type": "markdown",
   "metadata": {},
   "source": [
    "We provide save and restore interface to save the pipeline with the best trial for easily rebuilding."
   ]
  },
  {
   "cell_type": "code",
   "execution_count": 18,
   "metadata": {},
   "outputs": [
    {
     "name": "stdout",
     "output_type": "stream",
     "text": [
      "Pipeline is saved in  /tmp/saved_pipeline/my.ppl\n"
     ]
    }
   ],
   "source": [
    "# save the pipeline with best trial\n",
    "pipeline.save(\"/tmp/saved_pipeline/my.ppl\")"
   ]
  },
  {
   "cell_type": "code",
   "execution_count": 19,
   "metadata": {},
   "outputs": [
    {
     "name": "stdout",
     "output_type": "stream",
     "text": [
      "Restore pipeline from /tmp/saved_pipeline/my.ppl\n"
     ]
    }
   ],
   "source": [
    "from zoo.automl.pipeline.time_sequence import load_ts_pipeline\n",
    "new_pipeline = load_ts_pipeline(\"/tmp/saved_pipeline/my.ppl\")"
   ]
  },
  {
   "cell_type": "code",
   "execution_count": 20,
   "metadata": {},
   "outputs": [],
   "source": [
    "# you can do predict and evaluate again\n",
    "# to compare results before and after restore, we use test_df as input\n",
    "new_pred = new_pipeline.predict(test_df)"
   ]
  },
  {
   "cell_type": "code",
   "execution_count": 21,
   "metadata": {},
   "outputs": [
    {
     "data": {
      "text/html": [
       "<div>\n",
       "<style scoped>\n",
       "    .dataframe tbody tr th:only-of-type {\n",
       "        vertical-align: middle;\n",
       "    }\n",
       "\n",
       "    .dataframe tbody tr th {\n",
       "        vertical-align: top;\n",
       "    }\n",
       "\n",
       "    .dataframe thead th {\n",
       "        text-align: right;\n",
       "    }\n",
       "</style>\n",
       "<table border=\"1\" class=\"dataframe\">\n",
       "  <thead>\n",
       "    <tr style=\"text-align: right;\">\n",
       "      <th></th>\n",
       "      <th>datetime</th>\n",
       "      <th>value</th>\n",
       "    </tr>\n",
       "  </thead>\n",
       "  <tbody>\n",
       "    <tr>\n",
       "      <th>0</th>\n",
       "      <td>2015-01-11 13:00:00</td>\n",
       "      <td>21249.492188</td>\n",
       "    </tr>\n",
       "    <tr>\n",
       "      <th>1</th>\n",
       "      <td>2015-01-11 13:30:00</td>\n",
       "      <td>21404.123047</td>\n",
       "    </tr>\n",
       "    <tr>\n",
       "      <th>2</th>\n",
       "      <td>2015-01-11 14:00:00</td>\n",
       "      <td>20919.406250</td>\n",
       "    </tr>\n",
       "    <tr>\n",
       "      <th>3</th>\n",
       "      <td>2015-01-11 14:30:00</td>\n",
       "      <td>20000.326172</td>\n",
       "    </tr>\n",
       "    <tr>\n",
       "      <th>4</th>\n",
       "      <td>2015-01-11 15:00:00</td>\n",
       "      <td>18968.916016</td>\n",
       "    </tr>\n",
       "  </tbody>\n",
       "</table>\n",
       "</div>"
      ],
      "text/plain": [
       "             datetime         value\n",
       "0 2015-01-11 13:00:00  21249.492188\n",
       "1 2015-01-11 13:30:00  21404.123047\n",
       "2 2015-01-11 14:00:00  20919.406250\n",
       "3 2015-01-11 14:30:00  20000.326172\n",
       "4 2015-01-11 15:00:00  18968.916016"
      ]
     },
     "execution_count": 21,
     "metadata": {},
     "output_type": "execute_result"
    }
   ],
   "source": [
    "new_pred.head(5)"
   ]
  },
  {
   "cell_type": "code",
   "execution_count": 22,
   "metadata": {},
   "outputs": [
    {
     "name": "stdout",
     "output_type": "stream",
     "text": [
      "Evaluate: the mean square error is 2740080.306617149\n",
      "Evaluate: the r_square value is 0.9507417203561532\n"
     ]
    }
   ],
   "source": [
    "# evaluate test_df\n",
    "mse, rs = new_pipeline.evaluate(test_df, metric=[\"mean_squared_error\", \"r_square\"])\n",
    "print(\"Evaluate: the mean square error is\", mse)\n",
    "print(\"Evaluate: the r_square value is\", rs)"
   ]
  }
 ],
 "metadata": {
  "kernelspec": {
   "display_name": "Python 3",
   "language": "python",
   "name": "python3"
  },
  "language_info": {
   "codemirror_mode": {
    "name": "ipython",
    "version": 3
   },
   "file_extension": ".py",
   "mimetype": "text/x-python",
   "name": "python",
   "nbconvert_exporter": "python",
   "pygments_lexer": "ipython3",
   "version": "3.6.8"
  }
 },
 "nbformat": 4,
 "nbformat_minor": 2
}
