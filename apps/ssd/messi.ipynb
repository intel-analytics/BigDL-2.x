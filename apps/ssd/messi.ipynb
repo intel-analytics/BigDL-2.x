{
 "cells": [
  {
   "cell_type": "markdown",
   "metadata": {
    "deletable": true,
    "editable": true
   },
   "source": [
    "# BigDL object detection demo"
   ]
  },
  {
   "cell_type": "code",
   "execution_count": 3,
   "metadata": {
    "collapsed": false,
    "deletable": true,
    "editable": true
   },
   "outputs": [],
   "source": [
    "from bigdl.zoo.objectdetection import *\n",
    "from bigdl.util.common import *\n",
    "from bigdl.transform.vision.image import *\n",
    "from bigdl.zoo.models import *\n",
    "from IPython.display import Image, display\n",
    "%matplotlib inline\n",
    "from bigdl.nn.layer import Model\n",
    "import os\n",
    "from moviepy.editor import *\n",
    "\n",
    "JavaCreator.set_creator_class(\"com.intel.analytics.zoo.models.pythonapi.PythonModels\")\n",
    "init_engine()"
   ]
  },
  {
   "cell_type": "markdown",
   "metadata": {},
   "source": [
    "Download [model](https://s3-ap-southeast-1.amazonaws.com/bigdl-models/object-detection/bigdl_messi.model)\n",
    "\n",
    "Download [Video Clip](https://s3-ap-southeast-1.amazonaws.com/bigdl-models/object-detection/messi_clip.mp4)"
   ]
  },
  {
   "cell_type": "code",
   "execution_count": 5,
   "metadata": {
    "collapsed": false
   },
   "outputs": [
    {
     "name": "stdout",
     "output_type": "stream",
     "text": [
      "load model done\n"
     ]
    }
   ],
   "source": [
    "## load and quantize model\n",
    "\n",
    "model = Model.loadModel(\"bigdl_messi.model\").quantize()\n",
    "print 'load model done'"
   ]
  },
  {
   "cell_type": "code",
   "execution_count": 6,
   "metadata": {
    "collapsed": false
   },
   "outputs": [
    {
     "name": "stdout",
     "output_type": "stream",
     "text": [
      "creating: createDistributedImageFrame\n"
     ]
    }
   ],
   "source": [
    "# load data\n",
    "path = \"messi_clip.mp4\"\n",
    "myclip = VideoFileClip(path)\n",
    "\n",
    "video_rdd = sc.parallelize(myclip.iter_frames(fps=5))\n",
    "image_frame = DistributedImageFrame(video_rdd)"
   ]
  },
  {
   "cell_type": "code",
   "execution_count": 7,
   "metadata": {
    "collapsed": false
   },
   "outputs": [
    {
     "name": "stdout",
     "output_type": "stream",
     "text": [
      "creating: createResize\n",
      "creating: createChannelNormalize\n",
      "creating: createMatToTensor\n",
      "creating: createImageFrameToSample\n",
      "creating: createPipeline\n",
      "creating: createScaleDetection\n",
      "creating: createConfigure\n"
     ]
    }
   ],
   "source": [
    "# Define Predictor Configure\n",
    "preprocess = Pipeline([Resize(300, 300), ChannelNormalize(123.0, 117.0, 104.0), MatToTensor(), ImageFrameToSample()])\n",
    "postprocess = ScaleDetection()\n",
    "\n",
    "label_map = {0: '__background__', 1: 'messi'}\n",
    "configure = Configure(preprocess, postprocess, 2, label_map)"
   ]
  },
  {
   "cell_type": "code",
   "execution_count": 8,
   "metadata": {
    "collapsed": false
   },
   "outputs": [
    {
     "name": "stdout",
     "output_type": "stream",
     "text": [
      "creating: createPredictor\n",
      "creating: createVisualizer\n"
     ]
    }
   ],
   "source": [
    "# Predict and visualize detection back to clips\n",
    "\n",
    "predictor = Predictor(model, configure)\n",
    "\n",
    "output = predictor.predict(image_frame)\n",
    "\n",
    "visualizer = Visualizer(predictor.configure.label_map())\n",
    "results = visualizer(output).get_image(to_chw=False).collect()\n",
    "\n"
   ]
  },
  {
   "cell_type": "code",
   "execution_count": 9,
   "metadata": {
    "collapsed": false
   },
   "outputs": [
    {
     "name": "stdout",
     "output_type": "stream",
     "text": [
      "[MoviePy] >>>> Building video /tmp/out.mp4\n",
      "[MoviePy] Writing video /tmp/out.mp4\n"
     ]
    },
    {
     "name": "stderr",
     "output_type": "stream",
     "text": [
      "100%|██████████| 51/51 [00:00<00:00, 104.78it/s]\n"
     ]
    },
    {
     "name": "stdout",
     "output_type": "stream",
     "text": [
      "[MoviePy] Done.\n",
      "[MoviePy] >>>> Video ready: /tmp/out.mp4 \n",
      "\n",
      "CPU times: user 152 ms, sys: 56 ms, total: 208 ms\n",
      "Wall time: 1.51 s\n"
     ]
    }
   ],
   "source": [
    "# save clip to file\n",
    "clip = ImageSequenceClip(results, fps=5)\n",
    "\n",
    "output_path = '/tmp/out.mp4'\n",
    "%time clip.write_videofile(output_path, audio=False)"
   ]
  },
  {
   "cell_type": "code",
   "execution_count": null,
   "metadata": {
    "collapsed": true
   },
   "outputs": [],
   "source": []
  }
 ],
 "metadata": {
  "kernelspec": {
   "display_name": "Python [Root]",
   "language": "python",
   "name": "Python [Root]"
  },
  "language_info": {
   "codemirror_mode": {
    "name": "ipython",
    "version": 2
   },
   "file_extension": ".py",
   "mimetype": "text/x-python",
   "name": "python",
   "nbconvert_exporter": "python",
   "pygments_lexer": "ipython2",
   "version": "2.7.14"
  }
 },
 "nbformat": 4,
 "nbformat_minor": 0
}
