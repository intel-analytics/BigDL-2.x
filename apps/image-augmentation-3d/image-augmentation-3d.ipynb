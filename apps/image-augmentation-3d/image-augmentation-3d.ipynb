{
 "cells": [
  {
   "cell_type": "markdown",
   "metadata": {
    "deletable": true,
    "editable": true
   },
   "source": [
    "# Image Augementation for 3D images"
   ]
  },
  {
   "cell_type": "markdown",
   "metadata": {
    "deletable": true,
    "editable": true
   },
   "source": [
    "Powered by **Analytics Zoo/Spark** for deep learning, running on **Intel** architecture. In this demo, we will show some imaging processing methods on meniscus data."
   ]
  },
  {
   "cell_type": "code",
   "execution_count": 1,
   "metadata": {
    "collapsed": false,
    "deletable": true,
    "editable": true
   },
   "outputs": [],
   "source": [
    "import os\n",
    "import numpy as np\n",
    "import matplotlib\n",
    "matplotlib.use('Agg')\n",
    "%pylab inline\n",
    "from matplotlib import pyplot as plt\n",
    "import h5py\n",
    "from math import pi\n",
    "\n",
    "from zoo.common.nncontext import *\n",
    "from zoo.feature.common import *\n",
    "from zoo.feature.image3d.transformation import *\n",
    "\n",
    "sc = init_nncontext(\"Image Augmentation 3D Example\")"
   ]
  },
  {
   "cell_type": "markdown",
   "metadata": {
    "deletable": true,
    "editable": true
   },
   "source": [
    "Load sample data using `h5py` library. We expand the dimension to meet the 3D image dimensions."
   ]
  },
  {
   "cell_type": "code",
   "execution_count": 2,
   "metadata": {
    "collapsed": false,
    "deletable": true,
    "editable": true,
    "scrolled": true
   },
   "outputs": [],
   "source": [
    "image = h5py.File(os.getenv(\"ANALYTICS_ZOO_HOME\")+\"/apps/image-augmentation-3d/image/meniscus_full.mat\")['meniscus_im']\n",
    "sample = np.array(image)\n",
    "sample = np.expand_dims(sample,3)"
   ]
  },
  {
   "cell_type": "markdown",
   "metadata": {
    "deletable": true,
    "editable": true
   },
   "source": [
    "Shape of sample."
   ]
  },
  {
   "cell_type": "code",
   "execution_count": 3,
   "metadata": {
    "collapsed": false,
    "deletable": true,
    "editable": true,
    "scrolled": true
   },
   "outputs": [
    {
     "data": {
      "text/plain": [
       "(20, 256, 256, 1)"
      ]
     },
     "execution_count": 3,
     "metadata": {},
     "output_type": "execute_result"
    }
   ],
   "source": [
    "sample.shape"
   ]
  },
  {
   "cell_type": "markdown",
   "metadata": {
    "deletable": true,
    "editable": true
   },
   "source": [
    "## Create LocalImageSet"
   ]
  },
  {
   "cell_type": "code",
   "execution_count": 4,
   "metadata": {
    "collapsed": false,
    "deletable": true,
    "editable": true,
    "scrolled": true
   },
   "outputs": [
    {
     "name": "stdout",
     "output_type": "stream",
     "text": [
      "creating: createLocalImageSet\n"
     ]
    }
   ],
   "source": [
    "image_list=[sample]\n",
    "image_set = LocalImageSet(image_list=image_list)"
   ]
  },
  {
   "cell_type": "markdown",
   "metadata": {
    "deletable": true,
    "editable": true
   },
   "source": [
    "## Create DistributedImageSet"
   ]
  },
  {
   "cell_type": "code",
   "execution_count": 5,
   "metadata": {
    "collapsed": false,
    "deletable": true,
    "editable": true
   },
   "outputs": [
    {
     "name": "stdout",
     "output_type": "stream",
     "text": [
      "creating: createDistributedImageSet\n"
     ]
    }
   ],
   "source": [
    "data_rdd = sc.parallelize([sample])\n",
    "image_set = DistributedImageSet(image_rdd=data_rdd)"
   ]
  },
  {
   "cell_type": "markdown",
   "metadata": {
    "deletable": true,
    "editable": true
   },
   "source": [
    "## Image Tranformation"
   ]
  },
  {
   "cell_type": "markdown",
   "metadata": {
    "deletable": true,
    "editable": true
   },
   "source": [
    "### Cropping"
   ]
  },
  {
   "cell_type": "code",
   "execution_count": 6,
   "metadata": {
    "collapsed": false,
    "deletable": true,
    "editable": true
   },
   "outputs": [
    {
     "name": "stdout",
     "output_type": "stream",
     "text": [
      "creating: createCrop3D\n"
     ]
    },
    {
     "data": {
      "text/plain": [
       "(5, 40, 40, 1)"
      ]
     },
     "execution_count": 6,
     "metadata": {},
     "output_type": "execute_result"
    }
   ],
   "source": [
    "start_loc = [13,80,125]\n",
    "patch = [5, 40, 40]\n",
    "crop = Crop3D(start=start_loc, patch_size=patch)\n",
    "cropped_imageset = crop(image_set)\n",
    "crop_data = cropped_imageset.get_image(key=\"imageTensor\").first()\n",
    "crop_data.shape"
   ]
  },
  {
   "cell_type": "markdown",
   "metadata": {
    "deletable": true,
    "editable": true
   },
   "source": [
    "### Rotate 30 degrees"
   ]
  },
  {
   "cell_type": "code",
   "execution_count": 7,
   "metadata": {
    "collapsed": false,
    "deletable": true,
    "editable": true
   },
   "outputs": [
    {
     "name": "stdout",
     "output_type": "stream",
     "text": [
      "creating: createRotate3D\n"
     ]
    },
    {
     "data": {
      "text/plain": [
       "(5, 40, 40, 1)"
      ]
     },
     "execution_count": 7,
     "metadata": {},
     "output_type": "execute_result"
    }
   ],
   "source": [
    "yaw = 0.0\n",
    "pitch = 0.0\n",
    "roll = pi/6\n",
    "\n",
    "rotate_30 = Rotate3D([yaw, pitch, roll])\n",
    "rotate_30_imageset = rotate_30(cropped_imageset)\n",
    "rotate_30_data = rotate_30_imageset.get_image(key=\"imageTensor\").first()\n",
    "rotate_30_data.shape"
   ]
  },
  {
   "cell_type": "markdown",
   "metadata": {
    "deletable": true,
    "editable": true
   },
   "source": [
    "### Rotate 90 degrees"
   ]
  },
  {
   "cell_type": "code",
   "execution_count": 8,
   "metadata": {
    "collapsed": false,
    "deletable": true,
    "editable": true
   },
   "outputs": [
    {
     "name": "stdout",
     "output_type": "stream",
     "text": [
      "creating: createRotate3D\n"
     ]
    },
    {
     "data": {
      "text/plain": [
       "(5, 40, 40, 1)"
      ]
     },
     "execution_count": 8,
     "metadata": {},
     "output_type": "execute_result"
    }
   ],
   "source": [
    "yaw = 0.0\n",
    "pitch = 0.0\n",
    "roll = pi/2\n",
    "\n",
    "rotate_90 = Rotate3D([yaw, pitch, roll])\n",
    "rotate_90_imageset = rotate_90(rotate_30_imageset)\n",
    "rotate_90_data = rotate_90_imageset.get_image(key=\"imageTensor\").first()\n",
    "rotate_90_data.shape"
   ]
  },
  {
   "cell_type": "markdown",
   "metadata": {
    "deletable": true,
    "editable": true
   },
   "source": [
    "### Random affine transformation"
   ]
  },
  {
   "cell_type": "code",
   "execution_count": 9,
   "metadata": {
    "collapsed": false,
    "deletable": true,
    "editable": true
   },
   "outputs": [
    {
     "name": "stdout",
     "output_type": "stream",
     "text": [
      "creating: createAffineTransform3D\n"
     ]
    },
    {
     "data": {
      "text/plain": [
       "(5, 40, 40, 1)"
      ]
     },
     "execution_count": 9,
     "metadata": {},
     "output_type": "execute_result"
    }
   ],
   "source": [
    "random = np.random.rand(3, 3)\n",
    "affine = AffineTransform3D(random)\n",
    "affine_imageset = affine(rotate_90_imageset)\n",
    "affine_data = affine_imageset.get_image(key=\"imageTensor\").first()\n",
    "affine_data.shape"
   ]
  },
  {
   "cell_type": "markdown",
   "metadata": {
    "deletable": true,
    "editable": true
   },
   "source": [
    "### Pipeline of 3D transformers"
   ]
  },
  {
   "cell_type": "code",
   "execution_count": 10,
   "metadata": {
    "collapsed": false,
    "deletable": true,
    "editable": true
   },
   "outputs": [
    {
     "name": "stdout",
     "output_type": "stream",
     "text": [
      "creating: createDistributedImageSet\n",
      "creating: createCrop3D\n",
      "creating: createRotate3D\n",
      "creating: createRotate3D\n",
      "creating: createAffineTransform3D\n",
      "creating: createChainedPreprocessing\n"
     ]
    }
   ],
   "source": [
    "image_set = DistributedImageSet(image_rdd=data_rdd)\n",
    "start_loc = [13,80,125]\n",
    "patch = [5, 40, 40]\n",
    "yaw = 0.0\n",
    "pitch = 0.0\n",
    "roll_30 = pi / 6\n",
    "roll_90 = pi / 2\n",
    "transformer = ChainedPreprocessing(\n",
    "    [Crop3D(start_loc, patch),\n",
    "    Rotate3D([yaw, pitch, roll_30]),\n",
    "    Rotate3D([yaw, pitch, roll_90]),\n",
    "    AffineTransform3D(random)])\n",
    "transformed = transformer(image_set)\n",
    "pipeline_data = transformed.get_image(key=\"imageTensor\").first()"
   ]
  },
  {
   "cell_type": "markdown",
   "metadata": {
    "deletable": true,
    "editable": true
   },
   "source": [
    "### Show Results"
   ]
  },
  {
   "cell_type": "code",
   "execution_count": 11,
   "metadata": {
    "collapsed": false,
    "deletable": true,
    "editable": true
   },
   "outputs": [
    {
     "data": {
      "text/plain": [
       "<matplotlib.text.Text at 0x7f521fcc3850>"
      ]
     },
     "execution_count": 11,
     "metadata": {},
     "output_type": "execute_result"
    },
    {
     "data": {
      "image/png": "[encoded data removed]",
      "text/plain": [
       "<matplotlib.figure.Figure at 0x7f521fba7390>"
      ]
     },
     "metadata": {},
     "output_type": "display_data"
    }
   ],
   "source": [
    "fig = plt.figure(figsize=[10,10])\n",
    "y = fig.add_subplot(2,3,1)\n",
    "y.add_patch(plt.Rectangle((start_loc[2]-1,start_loc[1]-1),\n",
    "                          patch[1],\n",
    "                          patch[1], fill=False,\n",
    "                          edgecolor='red', linewidth=1.5)\n",
    "            )\n",
    "y.text(start_loc[2]-45, start_loc[1]-15,\n",
    "       'Cropped Region',\n",
    "       bbox=dict(facecolor='green', alpha=0.5),\n",
    "       color='white')\n",
    "y.imshow(sample[15,:,:,0],cmap='gray')\n",
    "y.set_title('Original Image')\n",
    "\n",
    "y = fig.add_subplot(2,3,2)\n",
    "y.imshow(crop_data[2,:,:,0],cmap='gray')\n",
    "y.set_title('Cropped Image')\n",
    "\n",
    "y = fig.add_subplot(2,3,3)\n",
    "y.imshow(rotate_30_data[2,:,:,0],cmap='gray')\n",
    "y.set_title('Rotate 30 Deg')\n",
    "\n",
    "y = fig.add_subplot(2,3,4)\n",
    "y.imshow(rotate_90_data[2,:,:,0],cmap='gray')\n",
    "y.set_title('Rotate 90 Deg')\n",
    "\n",
    "y = fig.add_subplot(2,3,5)\n",
    "y.imshow(affine_data[2,:,:,0],cmap='gray')\n",
    "y.set_title('Random Affine Transformation')\n",
    "\n",
    "y = fig.add_subplot(2,3,6)\n",
    "y.imshow(pipeline_data[2,:,:,0],cmap='gray')\n",
    "y.set_title('Pipeline Transformation')"
   ]
  },
  {
   "cell_type": "code",
   "execution_count": null,
   "metadata": {
    "collapsed": true,
    "deletable": true,
    "editable": true
   },
   "outputs": [],
   "source": []
  }
 ],
 "metadata": {
  "kernelspec": {
   "display_name": "Python 2",
   "language": "python",
   "name": "python2"
  },
  "language_info": {
   "codemirror_mode": {
    "name": "ipython",
    "version": 2
   },
   "file_extension": ".py",
   "mimetype": "text/x-python",
   "name": "python",
   "nbconvert_exporter": "python",
   "pygments_lexer": "ipython2",
   "version": "2.7.6"
  }
 },
 "nbformat": 4,
 "nbformat_minor": 2
}
