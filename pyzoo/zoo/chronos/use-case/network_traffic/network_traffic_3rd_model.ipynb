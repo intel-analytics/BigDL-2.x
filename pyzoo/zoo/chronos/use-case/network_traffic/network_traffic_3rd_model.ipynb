{
 "cells": [
  {
   "cell_type": "markdown",
   "source": [
    "Prepare Dataset"
   ],
   "metadata": {}
  },
  {
   "cell_type": "code",
   "execution_count": 1,
   "source": [
    "from sklearn.preprocessing import StandardScaler\n",
    "from zoo.chronos.data.repo_dataset import get_public_dataset"
   ],
   "outputs": [],
   "metadata": {}
  },
  {
   "cell_type": "code",
   "execution_count": 2,
   "source": [
    "name = 'network_traffic'\n",
    "path = '~/.chronos/dataset/'\n",
    "\n",
    "stand = StandardScaler()\n",
    "tsdata_train,tsdata_val,\\\n",
    "    tsdata_test = get_public_dataset(name,path,\n",
    "                                        download=False,\n",
    "                                        with_split=True,\n",
    "                                        val_ratio=0.1,\n",
    "                                        test_ratio=0.1)\n",
    "for tsdata in [tsdata_train, tsdata_val, tsdata_test]:\n",
    "    tsdata.gen_dt_feature(one_hot_features=['HOUR', 'WEEK'])\\\n",
    "            .scale(stand, fit=tsdata is tsdata_train)\n"
   ],
   "outputs": [],
   "metadata": {}
  },
  {
   "cell_type": "markdown",
   "source": [
    "Creator 3rd_party_model"
   ],
   "metadata": {}
  },
  {
   "cell_type": "code",
   "execution_count": 3,
   "source": [
    "import torch\n",
    "from torch import nn"
   ],
   "outputs": [],
   "metadata": {}
  },
  {
   "cell_type": "code",
   "execution_count": 4,
   "source": [
    "\n",
    "class GRUNet(nn.Module):\n",
    "    def __init__(self, input_size, num_layers, hidden_size, dropout, output_size):\n",
    "        super(GRUNet, self).__init__()\n",
    "        self.num_layers=num_layers\n",
    "        self.hidden_size=hidden_size\n",
    "        self.gru = nn.GRU(input_size, hidden_size, num_layers, dropout=dropout, batch_first=True)\n",
    "        self.fc = nn.Linear(hidden_size, output_size)\n",
    "\n",
    "    def forward(self, x):\n",
    "        h0 = torch.randn(self.num_layers, x.size(0), self.hidden_size)\n",
    "        x, _ = self.gru(x, h0)\n",
    "        out = self.fc(x[:, -1, :])\n",
    "        out = out.view(out.shape[0], 1, out.shape[-1])\n",
    "        return out"
   ],
   "outputs": [],
   "metadata": {}
  },
  {
   "cell_type": "code",
   "execution_count": 5,
   "source": [
    "def model_creator(config):\n",
    "    return GRUNet(input_size=config['input_feature_num'],\n",
    "                  num_layers=2,\n",
    "                  hidden_size=config['hidden_size'],\n",
    "                  dropout=config['dropout'],\n",
    "                  output_size=config['output_feature_num'])"
   ],
   "outputs": [],
   "metadata": {}
  },
  {
   "cell_type": "markdown",
   "source": [
    "Init orca context"
   ],
   "metadata": {}
  },
  {
   "cell_type": "code",
   "execution_count": 6,
   "source": [
    "from zoo.orca import init_orca_context"
   ],
   "outputs": [],
   "metadata": {}
  },
  {
   "cell_type": "code",
   "execution_count": 7,
   "source": [
    "init_orca_context(cores=2,memory='10g')"
   ],
   "outputs": [
    {
     "output_type": "stream",
     "name": "stdout",
     "text": [
      "Initializing orca context\n",
      "Current pyspark location is : /home/liangs/spark/python/lib/pyspark.zip/pyspark/__init__.py\n",
      "Start to getOrCreate SparkContext\n",
      "pyspark_submit_args is:  --driver-class-path /home/liangs/analytics-zoo/zoo/target/analytics-zoo-bigdl_0.13.0-spark_2.4.6-0.12.0-SNAPSHOT-jar-with-dependencies.jar pyspark-shell \n",
      "Successfully got a SparkContext\n"
     ]
    },
    {
     "output_type": "execute_result",
     "data": {
      "text/html": [
       "\n",
       "        <div>\n",
       "            <p><b>SparkContext</b></p>\n",
       "\n",
       "            <p><a href=\"http://rose-X299-AORUS-Gaming-3-Pro.sh.intel.com:4040\">Spark UI</a></p>\n",
       "\n",
       "            <dl>\n",
       "              <dt>Version</dt>\n",
       "                <dd><code>v2.4.3</code></dd>\n",
       "              <dt>Master</dt>\n",
       "                <dd><code>local[2]</code></dd>\n",
       "              <dt>AppName</dt>\n",
       "                <dd><code>pyspark-shell</code></dd>\n",
       "            </dl>\n",
       "        </div>\n",
       "        "
      ],
      "text/plain": [
       "<SparkContext master=local[2] appName=pyspark-shell>"
      ]
     },
     "metadata": {},
     "execution_count": 7
    }
   ],
   "metadata": {}
  },
  {
   "cell_type": "markdown",
   "source": [
    "Hyparameter variable"
   ],
   "metadata": {}
  },
  {
   "cell_type": "code",
   "execution_count": 8,
   "source": [
    "from zoo.orca.automl import hp"
   ],
   "outputs": [],
   "metadata": {}
  },
  {
   "cell_type": "code",
   "execution_count": 9,
   "source": [
    "search_space={\n",
    "    'hidden_size': hp.grid_search([32,64]),\n",
    "    'dropout': hp.uniform(0.1, 0.2)\n",
    "}\n"
   ],
   "outputs": [],
   "metadata": {}
  },
  {
   "cell_type": "markdown",
   "source": [
    "Init Autoestmiator"
   ],
   "metadata": {}
  },
  {
   "cell_type": "code",
   "execution_count": 10,
   "source": [
    "from zoo.chronos.autots.autotsestimator import AutoTSEstimator"
   ],
   "outputs": [],
   "metadata": {}
  },
  {
   "cell_type": "code",
   "execution_count": 11,
   "source": [
    "autotsest = AutoTSEstimator(model=model_creator,\n",
    "                            search_space=search_space,\n",
    "                            past_seq_len=15,\n",
    "                            future_seq_len=1,\n",
    "                            metric='mse',\n",
    "                            loss=torch.nn.MSELoss(),\n",
    "                            logs_dir='/home/liangs/.test_permission/',\n",
    "                            cpus_per_trial=2)"
   ],
   "outputs": [
    {
     "output_type": "stream",
     "name": "stderr",
     "text": [
      "2021-09-26 21:24:35,204\tINFO services.py:1174 -- View the Ray dashboard at \u001b[1m\u001b[32mhttp://10.239.44.67:8265\u001b[39m\u001b[22m\n"
     ]
    },
    {
     "output_type": "stream",
     "name": "stdout",
     "text": [
      "{'node_ip_address': '10.239.44.67', 'raylet_ip_address': '10.239.44.67', 'redis_address': '10.239.44.67:6379', 'object_store_address': '/tmp/ray/session_2021-09-26_21-24-34_627059_18563/sockets/plasma_store', 'raylet_socket_name': '/tmp/ray/session_2021-09-26_21-24-34_627059_18563/sockets/raylet', 'webui_url': '10.239.44.67:8265', 'session_dir': '/tmp/ray/session_2021-09-26_21-24-34_627059_18563', 'metrics_export_port': 61844, 'node_id': '99029305b930017d460c89af1bf14ea70a0868d5841dfb4a31b2d57b'}\n"
     ]
    }
   ],
   "metadata": {}
  },
  {
   "cell_type": "markdown",
   "source": [
    "Fit"
   ],
   "metadata": {}
  },
  {
   "cell_type": "code",
   "execution_count": 12,
   "source": [
    "ts_pipeline = autotsest.fit(data=tsdata_train,\n",
    "                            epochs=5,\n",
    "                            batch_size=hp.choice([32,64]),\n",
    "                            validation_data=tsdata_val,\n",
    "                            n_sampling=1)"
   ],
   "outputs": [
    {
     "output_type": "display_data",
     "data": {
      "text/html": [
       "== Status ==<br>Memory usage on this node: 9.4/125.5 GiB<br>Using FIFO scheduling algorithm.<br>Resources requested: 0/2 CPUs, 0/0 GPUs, 0.0/73.14 GiB heap, 0.0/24.37 GiB objects<br>Current best trial: 192fe_00001 with mse=0.08144137982588202 and parameters={'hidden_size': 64, 'dropout': 0.15476092810286957, 'past_seq_len': 15, 'future_seq_len': 1, 'input_feature_num': None, 'output_feature_num': 2, 'selected_features': ['HOUR_0', 'HOUR_18', 'HOUR_23', 'HOUR_11'], 'batch_size': 64}<br>Result logdir: /home/liangs/.test_permission/autots_estimator<br>Number of trials: 2/2 (2 TERMINATED)<br><br>"
      ],
      "text/plain": [
       "<IPython.core.display.HTML object>"
      ]
     },
     "metadata": {}
    },
    {
     "output_type": "stream",
     "name": "stderr",
     "text": [
      "2021-09-26 21:24:56,316\tINFO tune.py:450 -- Total run time: 18.20 seconds (18.12 seconds for the tuning loop).\n"
     ]
    }
   ],
   "metadata": {}
  },
  {
   "cell_type": "markdown",
   "source": [
    "model evaluate"
   ],
   "metadata": {}
  },
  {
   "cell_type": "code",
   "execution_count": 13,
   "source": [
    "rmse, smape = ts_pipeline.evaluate(tsdata_test,multioutput='raw_values', metrics=['rmse','smape'])\n",
    "print(f'AvgRate rmse is: {rmse[0][0]}, smape is: {smape[0][0]:.4f}')\n",
    "print(f'total rmse is: {rmse[0][1]}, smape is: {smape[0][1]:.4f}')"
   ],
   "outputs": [
    {
     "output_type": "stream",
     "name": "stdout",
     "text": [
      "AvgRate rmse is: 68.57215358507068, smape is: 7.7690\n",
      "total rmse is: 62663071804.620605, smape is: 7.9271\n"
     ]
    }
   ],
   "metadata": {}
  },
  {
   "cell_type": "code",
   "execution_count": 14,
   "source": [
    "from zoo.orca.common import stop_orca_context\n",
    "stop_orca_context()"
   ],
   "outputs": [
    {
     "output_type": "stream",
     "name": "stdout",
     "text": [
      "Stopping orca context\n"
     ]
    }
   ],
   "metadata": {}
  },
  {
   "cell_type": "markdown",
   "source": [
    "plot"
   ],
   "metadata": {}
  },
  {
   "cell_type": "code",
   "execution_count": 16,
   "source": [
    "import matplotlib.pyplot as plt"
   ],
   "outputs": [],
   "metadata": {}
  },
  {
   "cell_type": "code",
   "execution_count": 17,
   "source": [
    "def plot_predict_actual_values(date, y_pred, y_test, ylabel):\n",
    "    \"\"\"\n",
    "    plot the predicted values and actual values (for the test data)\n",
    "    \"\"\"\n",
    "    fig, axs = plt.subplots(figsize=(12,5))\n",
    "\n",
    "    axs.plot(date, y_pred, color='red', label='predicted values')\n",
    "    axs.plot(date, y_test, color='blue', label='actual values')\n",
    "    axs.set_title('the predicted values and actual values (for the test data)')\n",
    "\n",
    "    plt.xlabel('test datetime')\n",
    "    plt.ylabel(ylabel)\n",
    "    plt.legend(loc='upper left')\n",
    "    plt.show()"
   ],
   "outputs": [],
   "metadata": {}
  },
  {
   "cell_type": "code",
   "execution_count": 22,
   "source": [
    "yhat = ts_pipeline.predict(tsdata_test)\n",
    "x_test, y_test = tsdata_test.roll(lookback=15,horizon=1).to_numpy()"
   ],
   "outputs": [],
   "metadata": {}
  },
  {
   "cell_type": "code",
   "execution_count": 23,
   "source": [
    "unscale_y_test = tsdata_test.unscale_numpy(y_test)"
   ],
   "outputs": [],
   "metadata": {}
  },
  {
   "cell_type": "code",
   "execution_count": 24,
   "source": [
    "plot_predict_actual_values(tsdata_test.df.StartTime,y_pred=yhat,y_test=unscale_y_test,ylabel='total')"
   ],
   "outputs": [
    {
     "output_type": "error",
     "ename": "TypeError",
     "evalue": "plot_predict_actual_values() missing 1 required positional argument: 'ylabel'",
     "traceback": [
      "\u001b[0;31m---------------------------------------------------------------------------\u001b[0m",
      "\u001b[0;31mTypeError\u001b[0m                                 Traceback (most recent call last)",
      "\u001b[0;32m<ipython-input-24-426e023e10cf>\u001b[0m in \u001b[0;36m<module>\u001b[0;34m\u001b[0m\n\u001b[0;32m----> 1\u001b[0;31m \u001b[0mplot_predict_actual_values\u001b[0m\u001b[0;34m(\u001b[0m\u001b[0mtsdata_test\u001b[0m\u001b[0;34m.\u001b[0m\u001b[0mdf\u001b[0m\u001b[0;34m.\u001b[0m\u001b[0mStartTime\u001b[0m\u001b[0;34m,\u001b[0m\u001b[0my_pred\u001b[0m\u001b[0;34m=\u001b[0m\u001b[0myhat\u001b[0m\u001b[0;34m,\u001b[0m\u001b[0my_test\u001b[0m\u001b[0;34m=\u001b[0m\u001b[0munscale_y_test\u001b[0m\u001b[0;34m)\u001b[0m\u001b[0;34m\u001b[0m\u001b[0;34m\u001b[0m\u001b[0m\n\u001b[0m",
      "\u001b[0;31mTypeError\u001b[0m: plot_predict_actual_values() missing 1 required positional argument: 'ylabel'"
     ]
    }
   ],
   "metadata": {}
  }
 ],
 "metadata": {
  "orig_nbformat": 4,
  "language_info": {
   "name": "python",
   "version": "3.6.10",
   "mimetype": "text/x-python",
   "codemirror_mode": {
    "name": "ipython",
    "version": 3
   },
   "pygments_lexer": "ipython3",
   "nbconvert_exporter": "python",
   "file_extension": ".py"
  },
  "kernelspec": {
   "name": "python3",
   "display_name": "Python 3.6.10 64-bit ('env': conda)"
  },
  "interpreter": {
   "hash": "0a67b497489f6d2f387f9b048cb8e0514f6314fa22031c3e345add08518aaa55"
  }
 },
 "nbformat": 4,
 "nbformat_minor": 2
}