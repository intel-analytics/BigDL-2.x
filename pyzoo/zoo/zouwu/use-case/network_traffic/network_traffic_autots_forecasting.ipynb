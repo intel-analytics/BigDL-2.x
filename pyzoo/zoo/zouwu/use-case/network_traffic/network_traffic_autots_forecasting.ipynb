{
 "cells": [
  {
   "cell_type": "markdown",
   "metadata": {},
   "source": [
    "# Network Traffic Forecasting with _AutoTS_"
   ]
  },
  {
   "cell_type": "markdown",
   "metadata": {},
   "source": [
    "In telco, accurate forecast of KPIs (e.g. network traffic, utilizations, user experience, etc.) for communication networks ( 2G/3G/4G/5G/wired) can help predict network failures, allocate resource, or save energy. \n",
    "\n",
    "In this notebook, we demostrate a reference use case where we use the network traffic KPI(s) in the past to predict traffic KPI(s) in the future. We demostrate how to use `AutoTS` in project [Zouwu](https://github.com/intel-analytics/analytics-zoo/tree/master/pyzoo/zoo/zouwu) to do time series forecasting in an automated and distributed way.\n",
    "\n",
    "For demonstration, we use the publicly available network traffic data repository maintained by the [WIDE project](http://mawi.wide.ad.jp/mawi/) and in particular, the network traffic traces aggregated every 2 hours (i.e. AverageRate in Mbps/Gbps and Total Bytes) in year 2018 and 2019 at the transit link of WIDE to the upstream ISP ([dataset link](http://mawi.wide.ad.jp/~agurim/dataset/)). "
   ]
  },
  {
   "cell_type": "markdown",
   "metadata": {},
   "source": [
    "## Helper functions"
   ]
  },
  {
   "cell_type": "markdown",
   "metadata": {},
   "source": [
    "This section defines some helper functions to be used in the following procedures. You can refer to it later when they're used."
   ]
  },
  {
   "cell_type": "code",
   "execution_count": 1,
   "metadata": {
    "ExecuteTime": {
     "end_time": "2020-04-05T09:42:29.365279Z",
     "start_time": "2020-04-05T09:42:29.360456Z"
    }
   },
   "outputs": [],
   "source": [
    "def get_drop_dates_and_len(df, allow_missing_num=3):\n",
    "    \"\"\"\n",
    "    Find missing values and get records to drop\n",
    "    \"\"\"\n",
    "    missing_num = df.total.isnull().astype(int).groupby(df.total.notnull().astype(int).cumsum()).sum()\n",
    "    drop_missing_num = missing_num[missing_num > allow_missing_num]\n",
    "    drop_datetimes = df.iloc[drop_missing_num.index].index\n",
    "    drop_len = drop_missing_num.values\n",
    "    return drop_datetimes, drop_len"
   ]
  },
  {
   "cell_type": "code",
   "execution_count": 2,
   "metadata": {
    "ExecuteTime": {
     "end_time": "2020-04-05T09:42:29.567920Z",
     "start_time": "2020-04-05T09:42:29.561650Z"
    }
   },
   "outputs": [],
   "source": [
    "def rm_missing_weeks(start_dts, missing_lens, df):\n",
    "    \"\"\"\n",
    "    Drop weeks that contains more than 3 consecutive missing values.\n",
    "    If consecutive missing values across weeks, we remove all the weeks.\n",
    "    \"\"\" \n",
    "    for start_time, l in zip(start_dts, missing_lens):\n",
    "        start = start_time - pd.Timedelta(days=start_time.dayofweek)\n",
    "        start = start.replace(hour=0, minute=0, second=0)\n",
    "        start_week_end = start + pd.Timedelta(days=6)\n",
    "        start_week_end = start_week_end.replace(hour=22, minute=0, second=0)\n",
    "\n",
    "        end_time = start_time + l*pd.Timedelta(hours=2)\n",
    "        if start_week_end < end_time:\n",
    "            end = end_time + pd.Timedelta(days=6-end_time.dayofweek)\n",
    "            end = end.replace(hour=22, minute=0, second=0)\n",
    "        else:\n",
    "            end = start_week_end\n",
    "        df = df.drop(df[start:end].index)\n",
    "    return df"
   ]
  },
  {
   "cell_type": "code",
   "execution_count": 3,
   "metadata": {
    "ExecuteTime": {
     "end_time": "2020-04-05T09:42:29.752013Z",
     "start_time": "2020-04-05T09:42:29.746678Z"
    }
   },
   "outputs": [],
   "source": [
    "# plot the predicted values and actual values (for the test data)\n",
    "def plot_result(test_df, pred_df, dt_col=\"datetime\", value_col=\"AvgRate\", look_back=1):\n",
    "    # target column of dataframe is \"value\"\n",
    "    # past sequence length is 50\n",
    "    pred_value = pred_df[value_col].values\n",
    "    true_value = test_df[value_col].values[look_back:]\n",
    "    fig, axs = plt.subplots(figsize=(12, 5))\n",
    "\n",
    "    axs.plot(pred_df[dt_col], pred_value, color='red', label='predicted values')\n",
    "    axs.plot(test_df[dt_col][look_back:], true_value, color='blue', label='actual values')\n",
    "    axs.set_title('the predicted values and actual values (for the test data)')\n",
    "\n",
    "    plt.xlabel(dt_col)\n",
    "    plt.xticks(rotation=45)\n",
    "    plt.ylabel(value_col)\n",
    "    plt.legend(loc='upper left')\n",
    "    plt.show()"
   ]
  },
  {
   "cell_type": "markdown",
   "metadata": {},
   "source": [
    "## Download raw dataset and load into dataframe"
   ]
  },
  {
   "cell_type": "markdown",
   "metadata": {},
   "source": [
    "Now we download the dataset and load it into a pandas dataframe. Steps are as below. \n",
    "\n",
    "* First, run the script `get_data.sh` to download the raw data. It will download the monthly aggregated traffic data in year 2018 and 2019 into `data` folder. The raw data contains aggregated network traffic (average MBPs and total bytes) as well as other metrics. \n",
    "\n",
    "* Second, run `extract_data.sh` to extract relavant traffic KPI's from raw data, i.e. `AvgRate` for average use rate, and `total` for total bytes. The script will extract the KPI's with timestamps into `data/data.csv`.\n",
    "\n",
    "* Finally, use pandas to load `data/data.csv` into a dataframe as shown below"
   ]
  },
  {
   "cell_type": "code",
   "execution_count": 4,
   "metadata": {
    "ExecuteTime": {
     "end_time": "2020-04-05T09:42:30.934219Z",
     "start_time": "2020-04-05T09:42:30.324968Z"
    }
   },
   "outputs": [],
   "source": [
    "import os \n",
    "import numpy as np\n",
    "import pandas as pd\n",
    "import matplotlib.pyplot as plt\n",
    "%matplotlib inline"
   ]
  },
  {
   "cell_type": "code",
   "execution_count": 5,
   "metadata": {
    "ExecuteTime": {
     "end_time": "2020-04-05T09:42:30.948562Z",
     "start_time": "2020-04-05T09:42:30.935369Z"
    }
   },
   "outputs": [],
   "source": [
    "raw_df = pd.read_csv(\"data/data.csv\")"
   ]
  },
  {
   "cell_type": "markdown",
   "metadata": {},
   "source": [
    "Below are some example records of the data"
   ]
  },
  {
   "cell_type": "code",
   "execution_count": 6,
   "metadata": {
    "ExecuteTime": {
     "end_time": "2020-04-05T09:42:31.060336Z",
     "start_time": "2020-04-05T09:42:30.949794Z"
    }
   },
   "outputs": [
    {
     "data": {
      "text/html": [
       "<div>\n",
       "<style scoped>\n",
       "    .dataframe tbody tr th:only-of-type {\n",
       "        vertical-align: middle;\n",
       "    }\n",
       "\n",
       "    .dataframe tbody tr th {\n",
       "        vertical-align: top;\n",
       "    }\n",
       "\n",
       "    .dataframe thead th {\n",
       "        text-align: right;\n",
       "    }\n",
       "</style>\n",
       "<table border=\"1\" class=\"dataframe\">\n",
       "  <thead>\n",
       "    <tr style=\"text-align: right;\">\n",
       "      <th></th>\n",
       "      <th>StartTime</th>\n",
       "      <th>EndTime</th>\n",
       "      <th>AvgRate</th>\n",
       "      <th>total</th>\n",
       "    </tr>\n",
       "  </thead>\n",
       "  <tbody>\n",
       "    <tr>\n",
       "      <th>0</th>\n",
       "      <td>2018/01/01 00:00:00</td>\n",
       "      <td>2018/01/01 02:00:00</td>\n",
       "      <td>306.23Mbps</td>\n",
       "      <td>275605455598</td>\n",
       "    </tr>\n",
       "    <tr>\n",
       "      <th>1</th>\n",
       "      <td>2018/01/01 02:00:00</td>\n",
       "      <td>2018/01/01 04:00:00</td>\n",
       "      <td>285.03Mbps</td>\n",
       "      <td>256527692256</td>\n",
       "    </tr>\n",
       "    <tr>\n",
       "      <th>2</th>\n",
       "      <td>2018/01/01 04:00:00</td>\n",
       "      <td>2018/01/01 06:00:00</td>\n",
       "      <td>247.39Mbps</td>\n",
       "      <td>222652190823</td>\n",
       "    </tr>\n",
       "    <tr>\n",
       "      <th>3</th>\n",
       "      <td>2018/01/01 06:00:00</td>\n",
       "      <td>2018/01/01 08:00:00</td>\n",
       "      <td>211.55Mbps</td>\n",
       "      <td>190396029658</td>\n",
       "    </tr>\n",
       "    <tr>\n",
       "      <th>4</th>\n",
       "      <td>2018/01/01 08:00:00</td>\n",
       "      <td>2018/01/01 10:00:00</td>\n",
       "      <td>234.82Mbps</td>\n",
       "      <td>211340468977</td>\n",
       "    </tr>\n",
       "  </tbody>\n",
       "</table>\n",
       "</div>"
      ],
      "text/plain": [
       "             StartTime              EndTime     AvgRate         total\n",
       "0  2018/01/01 00:00:00  2018/01/01 02:00:00  306.23Mbps  275605455598\n",
       "1  2018/01/01 02:00:00  2018/01/01 04:00:00  285.03Mbps  256527692256\n",
       "2  2018/01/01 04:00:00  2018/01/01 06:00:00  247.39Mbps  222652190823\n",
       "3  2018/01/01 06:00:00  2018/01/01 08:00:00  211.55Mbps  190396029658\n",
       "4  2018/01/01 08:00:00  2018/01/01 10:00:00  234.82Mbps  211340468977"
      ]
     },
     "execution_count": 6,
     "metadata": {},
     "output_type": "execute_result"
    }
   ],
   "source": [
    "raw_df.head()"
   ]
  },
  {
   "cell_type": "markdown",
   "metadata": {},
   "source": [
    "## Data pre-processing"
   ]
  },
  {
   "cell_type": "markdown",
   "metadata": {},
   "source": [
    "Now we need to do data cleaning and preprocessing on the raw data. Note that this part could vary for different dataset. \n",
    "\n",
    "For the network traffic data we're using, the processing contains 3 parts:\n",
    "1. Convert string datetime to TimeStamp\n",
    "2. Unify the measurement scale for `AvgRate` value - some uses Mbps, some uses Gbps \n",
    "3. Handle missing data (fill or drop)."
   ]
  },
  {
   "cell_type": "code",
   "execution_count": 7,
   "metadata": {
    "ExecuteTime": {
     "end_time": "2020-04-05T09:42:31.439100Z",
     "start_time": "2020-04-05T09:42:31.433819Z"
    }
   },
   "outputs": [],
   "source": [
    "df = pd.DataFrame(pd.to_datetime(raw_df.StartTime))"
   ]
  },
  {
   "cell_type": "code",
   "execution_count": 8,
   "metadata": {
    "ExecuteTime": {
     "end_time": "2020-04-05T09:42:31.619691Z",
     "start_time": "2020-04-05T09:42:31.614336Z"
    }
   },
   "outputs": [
    {
     "data": {
      "text/plain": [
       "array(['Mbps', 'Gbps'], dtype=object)"
      ]
     },
     "execution_count": 8,
     "metadata": {},
     "output_type": "execute_result"
    }
   ],
   "source": [
    "# we can find 'AvgRate' is of two scales: 'Mbps' and 'Gbps' \n",
    "raw_df.AvgRate.str[-4:].unique()"
   ]
  },
  {
   "cell_type": "code",
   "execution_count": 9,
   "metadata": {
    "ExecuteTime": {
     "end_time": "2020-04-05T09:42:31.817366Z",
     "start_time": "2020-04-05T09:42:31.810257Z"
    }
   },
   "outputs": [],
   "source": [
    "# Unify AvgRate value\n",
    "df['AvgRate'] = raw_df.AvgRate.apply(lambda x: float(x[:-4]) if x.endswith(\"Mbps\") else float(x[:-4]) * 1000)"
   ]
  },
  {
   "cell_type": "code",
   "execution_count": 10,
   "metadata": {
    "ExecuteTime": {
     "end_time": "2020-04-05T09:42:31.989842Z",
     "start_time": "2020-04-05T09:42:31.986685Z"
    }
   },
   "outputs": [],
   "source": [
    "df[\"total\"] = raw_df[\"total\"]\n",
    "df.set_index(\"StartTime\", inplace=True)"
   ]
  },
  {
   "cell_type": "code",
   "execution_count": 11,
   "metadata": {
    "ExecuteTime": {
     "end_time": "2020-04-05T09:42:32.169108Z",
     "start_time": "2020-04-05T09:42:32.163918Z"
    },
    "scrolled": true
   },
   "outputs": [
    {
     "name": "stdout",
     "output_type": "stream",
     "text": [
      "no. of n/a values:\n",
      "AvgRate    3\n",
      "total      3\n",
      "dtype: int64\n"
     ]
    }
   ],
   "source": [
    "full_idx = pd.date_range(start=df.index.min(), end=df.index.max(), freq='2H')\n",
    "df = df.reindex(full_idx)\n",
    "print(\"no. of n/a values:\")\n",
    "print(df.isna().sum())"
   ]
  },
  {
   "cell_type": "markdown",
   "metadata": {},
   "source": [
    "Here, we drop weeks with more than 3 consecutive missing values and fill other missing values remained."
   ]
  },
  {
   "cell_type": "code",
   "execution_count": 12,
   "metadata": {
    "ExecuteTime": {
     "end_time": "2020-04-05T09:42:32.545450Z",
     "start_time": "2020-04-05T09:42:32.534666Z"
    }
   },
   "outputs": [],
   "source": [
    "drop_dts, drop_len = get_drop_dates_and_len(df)\n",
    "df = rm_missing_weeks(drop_dts, drop_len, df)"
   ]
  },
  {
   "cell_type": "code",
   "execution_count": 13,
   "metadata": {
    "ExecuteTime": {
     "end_time": "2020-04-05T09:42:32.715750Z",
     "start_time": "2020-04-05T09:42:32.713641Z"
    }
   },
   "outputs": [],
   "source": [
    "df.ffill(inplace=True)"
   ]
  },
  {
   "cell_type": "code",
   "execution_count": 14,
   "metadata": {
    "ExecuteTime": {
     "end_time": "2020-04-05T09:42:32.917402Z",
     "start_time": "2020-04-05T09:42:32.913676Z"
    }
   },
   "outputs": [],
   "source": [
    "# AutoTS requires input data frame with a datetime column\n",
    "df.index.name = \"datetime\"\n",
    "df = df.reset_index()"
   ]
  },
  {
   "cell_type": "code",
   "execution_count": 15,
   "metadata": {
    "ExecuteTime": {
     "end_time": "2020-04-05T09:42:33.110253Z",
     "start_time": "2020-04-05T09:42:33.101643Z"
    }
   },
   "outputs": [
    {
     "data": {
      "text/html": [
       "<div>\n",
       "<style scoped>\n",
       "    .dataframe tbody tr th:only-of-type {\n",
       "        vertical-align: middle;\n",
       "    }\n",
       "\n",
       "    .dataframe tbody tr th {\n",
       "        vertical-align: top;\n",
       "    }\n",
       "\n",
       "    .dataframe thead th {\n",
       "        text-align: right;\n",
       "    }\n",
       "</style>\n",
       "<table border=\"1\" class=\"dataframe\">\n",
       "  <thead>\n",
       "    <tr style=\"text-align: right;\">\n",
       "      <th></th>\n",
       "      <th>datetime</th>\n",
       "      <th>AvgRate</th>\n",
       "      <th>total</th>\n",
       "    </tr>\n",
       "  </thead>\n",
       "  <tbody>\n",
       "    <tr>\n",
       "      <th>0</th>\n",
       "      <td>2018-01-01 00:00:00</td>\n",
       "      <td>306.23</td>\n",
       "      <td>2.756055e+11</td>\n",
       "    </tr>\n",
       "    <tr>\n",
       "      <th>1</th>\n",
       "      <td>2018-01-01 02:00:00</td>\n",
       "      <td>285.03</td>\n",
       "      <td>2.565277e+11</td>\n",
       "    </tr>\n",
       "    <tr>\n",
       "      <th>2</th>\n",
       "      <td>2018-01-01 04:00:00</td>\n",
       "      <td>247.39</td>\n",
       "      <td>2.226522e+11</td>\n",
       "    </tr>\n",
       "    <tr>\n",
       "      <th>3</th>\n",
       "      <td>2018-01-01 06:00:00</td>\n",
       "      <td>211.55</td>\n",
       "      <td>1.903960e+11</td>\n",
       "    </tr>\n",
       "    <tr>\n",
       "      <th>4</th>\n",
       "      <td>2018-01-01 08:00:00</td>\n",
       "      <td>234.82</td>\n",
       "      <td>2.113405e+11</td>\n",
       "    </tr>\n",
       "  </tbody>\n",
       "</table>\n",
       "</div>"
      ],
      "text/plain": [
       "             datetime  AvgRate         total\n",
       "0 2018-01-01 00:00:00   306.23  2.756055e+11\n",
       "1 2018-01-01 02:00:00   285.03  2.565277e+11\n",
       "2 2018-01-01 04:00:00   247.39  2.226522e+11\n",
       "3 2018-01-01 06:00:00   211.55  1.903960e+11\n",
       "4 2018-01-01 08:00:00   234.82  2.113405e+11"
      ]
     },
     "execution_count": 15,
     "metadata": {},
     "output_type": "execute_result"
    }
   ],
   "source": [
    "df.head()"
   ]
  },
  {
   "cell_type": "code",
   "execution_count": 16,
   "metadata": {
    "ExecuteTime": {
     "end_time": "2020-04-05T09:42:33.292662Z",
     "start_time": "2020-04-05T09:42:33.280539Z"
    }
   },
   "outputs": [
    {
     "data": {
      "text/html": [
       "<div>\n",
       "<style scoped>\n",
       "    .dataframe tbody tr th:only-of-type {\n",
       "        vertical-align: middle;\n",
       "    }\n",
       "\n",
       "    .dataframe tbody tr th {\n",
       "        vertical-align: top;\n",
       "    }\n",
       "\n",
       "    .dataframe thead th {\n",
       "        text-align: right;\n",
       "    }\n",
       "</style>\n",
       "<table border=\"1\" class=\"dataframe\">\n",
       "  <thead>\n",
       "    <tr style=\"text-align: right;\">\n",
       "      <th></th>\n",
       "      <th>AvgRate</th>\n",
       "      <th>total</th>\n",
       "    </tr>\n",
       "  </thead>\n",
       "  <tbody>\n",
       "    <tr>\n",
       "      <th>count</th>\n",
       "      <td>8760.000000</td>\n",
       "      <td>8.760000e+03</td>\n",
       "    </tr>\n",
       "    <tr>\n",
       "      <th>mean</th>\n",
       "      <td>454.050030</td>\n",
       "      <td>4.084920e+11</td>\n",
       "    </tr>\n",
       "    <tr>\n",
       "      <th>std</th>\n",
       "      <td>238.377074</td>\n",
       "      <td>2.146655e+11</td>\n",
       "    </tr>\n",
       "    <tr>\n",
       "      <th>min</th>\n",
       "      <td>86.490000</td>\n",
       "      <td>8.641890e+09</td>\n",
       "    </tr>\n",
       "    <tr>\n",
       "      <th>25%</th>\n",
       "      <td>273.715000</td>\n",
       "      <td>2.459111e+11</td>\n",
       "    </tr>\n",
       "    <tr>\n",
       "      <th>50%</th>\n",
       "      <td>410.590000</td>\n",
       "      <td>3.694360e+11</td>\n",
       "    </tr>\n",
       "    <tr>\n",
       "      <th>75%</th>\n",
       "      <td>558.200000</td>\n",
       "      <td>5.023054e+11</td>\n",
       "    </tr>\n",
       "    <tr>\n",
       "      <th>max</th>\n",
       "      <td>1760.000000</td>\n",
       "      <td>1.585238e+12</td>\n",
       "    </tr>\n",
       "  </tbody>\n",
       "</table>\n",
       "</div>"
      ],
      "text/plain": [
       "           AvgRate         total\n",
       "count  8760.000000  8.760000e+03\n",
       "mean    454.050030  4.084920e+11\n",
       "std     238.377074  2.146655e+11\n",
       "min      86.490000  8.641890e+09\n",
       "25%     273.715000  2.459111e+11\n",
       "50%     410.590000  3.694360e+11\n",
       "75%     558.200000  5.023054e+11\n",
       "max    1760.000000  1.585238e+12"
      ]
     },
     "execution_count": 16,
     "metadata": {},
     "output_type": "execute_result"
    }
   ],
   "source": [
    "df.describe()"
   ]
  },
  {
   "cell_type": "markdown",
   "metadata": {},
   "source": [
    "Plot the data to see how the KPI's look like"
   ]
  },
  {
   "cell_type": "code",
   "execution_count": 17,
   "metadata": {
    "ExecuteTime": {
     "end_time": "2020-04-05T09:42:33.826495Z",
     "start_time": "2020-04-05T09:42:33.641397Z"
    },
    "scrolled": true
   },
   "outputs": [
    {
     "data": {
      "image/png": "[encoded data removed]",
      "text/plain": [
       "<Figure size 864x360 with 1 Axes>"
      ]
     },
     "metadata": {
      "needs_background": "light"
     },
     "output_type": "display_data"
    }
   ],
   "source": [
    "ax = df.plot(y='AvgRate',figsize=(12,5), title=\"AvgRate of network traffic data\")"
   ]
  },
  {
   "cell_type": "code",
   "execution_count": 18,
   "metadata": {
    "ExecuteTime": {
     "end_time": "2020-04-05T09:42:33.971770Z",
     "start_time": "2020-04-05T09:42:33.827516Z"
    },
    "scrolled": true
   },
   "outputs": [
    {
     "data": {
      "image/png": "[encoded data removed]",
      "text/plain": [
       "<Figure size 864x360 with 1 Axes>"
      ]
     },
     "metadata": {
      "needs_background": "light"
     },
     "output_type": "display_data"
    }
   ],
   "source": [
    "ax = df.plot(y='total',figsize=(12,5), title=\"total bytes of network traffic data\")"
   ]
  },
  {
   "cell_type": "markdown",
   "metadata": {},
   "source": [
    "## Time series forecasting with _AutoTS_"
   ]
  },
  {
   "cell_type": "markdown",
   "metadata": {},
   "source": [
    "_AutoTS_ provides AutoML support for building end-to-end time series analysis pipelines (including automatic feature generation, model selection and hyperparameter tuning).\n",
    "\n",
    "The general workflow using automated training contains below two steps. \n",
    "   1. create a ```AutoTSTrainer``` to train a ```TSPipeline```, save it to file to use later or elsewhere if you wish.\n",
    "   2. use ```TSPipeline``` to do prediction, evaluation, and incremental fitting as well. \n"
   ]
  },
  {
   "cell_type": "markdown",
   "metadata": {},
   "source": [
    "First, you need to initialize RayOnSpark before using auto training (i.e. ```AutoTSTrainer```), and stop it after training finished. (Note RayOnSpark is not needed if you just use `TSPipeline` for inference, evaluation or incremental training.)\n"
   ]
  },
  {
   "cell_type": "code",
   "execution_count": 19,
   "metadata": {
    "ExecuteTime": {
     "end_time": "2020-04-05T09:42:51.917822Z",
     "start_time": "2020-04-05T09:42:34.581511Z"
    },
    "scrolled": false
   },
   "outputs": [
    {
     "name": "stdout",
     "output_type": "stream",
     "text": [
      "Current pyspark location is : /home/zehuan/spark/python/lib/pyspark.zip/pyspark/__init__.py\n",
      "Start to getOrCreate SparkContext\n",
      "pyspark_submit_args is:  --driver-class-path /home/zehuan/analytics-zoo/zoo/target/analytics-zoo-bigdl_0.12.1-spark_2.4.3-0.10.0-SNAPSHOT-dist/lib/analytics-zoo-bigdl_0.12.1-spark_2.4.3-0.10.0-SNAPSHOT-jar-with-dependencies.jar pyspark-shell \n",
      "Successfully got a SparkContext\n"
     ]
    },
    {
     "name": "stderr",
     "output_type": "stream",
     "text": [
      "2021-03-25 22:04:00,077\tINFO services.py:1174 -- View the Ray dashboard at \u001b[1m\u001b[32mhttp://10.239.44.145:8265\u001b[39m\u001b[22m\n"
     ]
    },
    {
     "name": "stdout",
     "output_type": "stream",
     "text": [
      "{'node_ip_address': '10.239.44.145', 'raylet_ip_address': '10.239.44.145', 'redis_address': '10.239.44.145:58207', 'object_store_address': '/tmp/ray/session_2021-03-25_22-03-59_471571_820944/sockets/plasma_store', 'raylet_socket_name': '/tmp/ray/session_2021-03-25_22-03-59_471571_820944/sockets/raylet', 'webui_url': '10.239.44.145:8265', 'session_dir': '/tmp/ray/session_2021-03-25_22-03-59_471571_820944', 'metrics_export_port': 45680, 'node_id': '379090d9657620c443274af893a555f27cdb32bf2b5c095e5e6278fd'}\n"
     ]
    },
    {
     "data": {
      "text/plain": [
       "{'node_ip_address': '10.239.44.145',\n",
       " 'raylet_ip_address': '10.239.44.145',\n",
       " 'redis_address': '10.239.44.145:58207',\n",
       " 'object_store_address': '/tmp/ray/session_2021-03-25_22-03-59_471571_820944/sockets/plasma_store',\n",
       " 'raylet_socket_name': '/tmp/ray/session_2021-03-25_22-03-59_471571_820944/sockets/raylet',\n",
       " 'webui_url': '10.239.44.145:8265',\n",
       " 'session_dir': '/tmp/ray/session_2021-03-25_22-03-59_471571_820944',\n",
       " 'metrics_export_port': 45680,\n",
       " 'node_id': '379090d9657620c443274af893a555f27cdb32bf2b5c095e5e6278fd'}"
      ]
     },
     "execution_count": 19,
     "metadata": {},
     "output_type": "execute_result"
    }
   ],
   "source": [
    "# init RayOnSpark in local mode\n",
    "from zoo import init_spark_on_local\n",
    "from zoo.ray import RayContext\n",
    "sc = init_spark_on_local(cores=4, spark_log_level=\"INFO\")\n",
    "ray_ctx = RayContext(sc=sc, object_store_memory=\"1g\")\n",
    "ray_ctx.init()"
   ]
  },
  {
   "cell_type": "markdown",
   "metadata": {},
   "source": [
    "Then we initialize a `AutoTSTrainer`.\n",
    "* `dt_col`: the column specifying datetime.\n",
    "* `target_col`: target column to predict. Here, we take `AvgRate` KPI as an example.\n",
    "* `horizon` : num of steps to look forward. \n",
    "* `extra_feature_col`: a list of columns which are also included in input data frame as features except target column."
   ]
  },
  {
   "cell_type": "code",
   "execution_count": 20,
   "metadata": {
    "ExecuteTime": {
     "end_time": "2020-04-05T09:42:53.144776Z",
     "start_time": "2020-04-05T09:42:51.919760Z"
    }
   },
   "outputs": [],
   "source": [
    "from zoo.zouwu.autots.forecast import AutoTSTrainer\n",
    "\n",
    "trainer = AutoTSTrainer(dt_col=\"datetime\",\n",
    "                        target_col=\"AvgRate\",\n",
    "                        horizon=1,\n",
    "                        extra_features_col=None)"
   ]
  },
  {
   "cell_type": "markdown",
   "metadata": {},
   "source": [
    "We can set some searching presets such as `look_back` which indicates the history time period we want to use for forecasting.\n",
    "lookback can be an int which it is a fixed values, or can be a tuple to indicate the range for sampling."
   ]
  },
  {
   "cell_type": "code",
   "execution_count": 21,
   "metadata": {
    "ExecuteTime": {
     "end_time": "2020-04-05T09:44:10.228166Z",
     "start_time": "2020-04-05T09:44:10.225074Z"
    }
   },
   "outputs": [],
   "source": [
    "# look back in range from one week to 3 days to predict the next 2h.\n",
    "look_back = (36, 84)"
   ]
  },
  {
   "cell_type": "markdown",
   "metadata": {},
   "source": [
    "We need to split the data frame into train, validation and test data frame before training. You can use `train_val_test_split` as an easy way to finish it."
   ]
  },
  {
   "cell_type": "code",
   "execution_count": 22,
   "metadata": {
    "ExecuteTime": {
     "end_time": "2020-04-05T09:44:56.311570Z",
     "start_time": "2020-04-05T09:44:56.298100Z"
    }
   },
   "outputs": [],
   "source": [
    "from zoo.zouwu.preprocessing.utils import train_val_test_split\n",
    "train_df, val_df, test_df = train_val_test_split(df, \n",
    "                                                 val_ratio=0.1, \n",
    "                                                 test_ratio=0.1,\n",
    "                                                 look_back=look_back[0])"
   ]
  },
  {
   "cell_type": "markdown",
   "metadata": {},
   "source": [
    "Then we fit on train data and validation data. \n",
    "\n",
    "You can use `recipe` to specify searching method as well as other searching presets such as stop criteria .etc. The `GridRandomRecipe` here is a recipe that combines grid search with random search to find the best set of parameters. For more details, please refer to analytics-zoo document [here](https://analytics-zoo.github.io/master/#APIGuide/AutoML/recipe/)."
   ]
  },
  {
   "cell_type": "code",
   "execution_count": 23,
   "metadata": {
    "ExecuteTime": {
     "end_time": "2020-04-05T09:44:59.067809Z",
     "start_time": "2020-04-05T09:44:59.062375Z"
    }
   },
   "outputs": [],
   "source": [
    "from zoo.zouwu.config.recipe import LSTMGridRandomRecipe"
   ]
  },
  {
   "cell_type": "code",
   "execution_count": 25,
   "metadata": {
    "ExecuteTime": {
     "end_time": "2020-04-05T09:48:03.575923Z",
     "start_time": "2020-04-05T09:45:31.368537Z"
    },
    "scrolled": true
   },
   "outputs": [
    {
     "data": {
      "text/html": [
       "== Status ==<br>Memory usage on this node: 8.8/15.5 GiB<br>Using FIFO scheduling algorithm.<br>Resources requested: 0/4 CPUs, 0/0 GPUs, 0.0/5.76 GiB heap, 0.0/0.63 GiB objects<br>Result logdir: /home/zehuan/zoo_automl_logs/automl<br>Number of trials: 3/3 (3 ERROR)<br>Number of errored trials: 3<br><table>\n",
       "<thead>\n",
       "<tr><th>Trial name            </th><th style=\"text-align: right;\">  # failures</th><th>error file                                                                                                                                                                                          </th></tr>\n",
       "</thead>\n",
       "<tbody>\n",
       "<tr><td>train_func_ed5db_00000</td><td style=\"text-align: right;\">           1</td><td>/home/zehuan/zoo_automl_logs/automl/train_func_ed5db_00000_0_batch_size=64,dropout_2=0.20477,lr=0.0045768,lstm_1_units=32,lstm_2_units=16,past_seq_len=70,selected_fea_2021-03-25_22-11-00/error.txt</td></tr>\n",
       "<tr><td>train_func_ed5db_00001</td><td style=\"text-align: right;\">           1</td><td>/home/zehuan/zoo_automl_logs/automl/train_func_ed5db_00001_1_batch_size=64,dropout_2=0.3443,lr=0.002544,lstm_1_units=16,lstm_2_units=32,past_seq_len=61,selected_featu_2021-03-25_22-11-00/error.txt</td></tr>\n",
       "<tr><td>train_func_ed5db_00002</td><td style=\"text-align: right;\">           1</td><td>/home/zehuan/zoo_automl_logs/automl/train_func_ed5db_00002_2_batch_size=64,dropout_2=0.25447,lr=0.0055261,lstm_1_units=32,lstm_2_units=64,past_seq_len=46,selected_fea_2021-03-25_22-11-01/error.txt</td></tr>\n",
       "</tbody>\n",
       "</table><br>"
      ],
      "text/plain": [
       "<IPython.core.display.HTML object>"
      ]
     },
     "metadata": {},
     "output_type": "display_data"
    },
    {
     "ename": "TuneError",
     "evalue": "('Trials did not complete', [train_func_ed5db_00000, train_func_ed5db_00001, train_func_ed5db_00002])",
     "output_type": "error",
     "traceback": [
      "\u001b[0;31m---------------------------------------------------------------------------\u001b[0m",
      "\u001b[0;31mTuneError\u001b[0m                                 Traceback (most recent call last)",
      "\u001b[0;32m<timed exec>\u001b[0m in \u001b[0;36m<module>\u001b[0;34m\u001b[0m\n",
      "\u001b[0;32m~/analytics-zoo/pyzoo/zoo/zouwu/autots/forecast.py\u001b[0m in \u001b[0;36mfit\u001b[0;34m(self, train_df, validation_df, metric, recipe, uncertainty, upload_dir)\u001b[0m\n\u001b[1;32m     86\u001b[0m                                          \u001b[0mrecipe\u001b[0m\u001b[0;34m,\u001b[0m\u001b[0;34m\u001b[0m\u001b[0;34m\u001b[0m\u001b[0m\n\u001b[1;32m     87\u001b[0m                                          \u001b[0mmc\u001b[0m\u001b[0;34m=\u001b[0m\u001b[0muncertainty\u001b[0m\u001b[0;34m,\u001b[0m\u001b[0;34m\u001b[0m\u001b[0;34m\u001b[0m\u001b[0m\n\u001b[0;32m---> 88\u001b[0;31m                                          upload_dir=upload_dir)\n\u001b[0m\u001b[1;32m     89\u001b[0m         \u001b[0mppl\u001b[0m \u001b[0;34m=\u001b[0m \u001b[0mTSPipeline\u001b[0m\u001b[0;34m(\u001b[0m\u001b[0;34m)\u001b[0m\u001b[0;34m\u001b[0m\u001b[0;34m\u001b[0m\u001b[0m\n\u001b[1;32m     90\u001b[0m         \u001b[0mppl\u001b[0m\u001b[0;34m.\u001b[0m\u001b[0minternal\u001b[0m \u001b[0;34m=\u001b[0m \u001b[0mzoo_pipeline\u001b[0m\u001b[0;34m\u001b[0m\u001b[0;34m\u001b[0m\u001b[0m\n",
      "\u001b[0;32m~/analytics-zoo/pyzoo/zoo/automl/regression/base_predictor.py\u001b[0m in \u001b[0;36mfit\u001b[0;34m(self, input_df, validation_df, metric, recipe, mc, resources_per_trial, upload_dir)\u001b[0m\n\u001b[1;32m    119\u001b[0m             \u001b[0mmc\u001b[0m\u001b[0;34m=\u001b[0m\u001b[0mmc\u001b[0m\u001b[0;34m,\u001b[0m\u001b[0;34m\u001b[0m\u001b[0;34m\u001b[0m\u001b[0m\n\u001b[1;32m    120\u001b[0m             \u001b[0mresources_per_trial\u001b[0m\u001b[0;34m=\u001b[0m\u001b[0mresources_per_trial\u001b[0m\u001b[0;34m,\u001b[0m\u001b[0;34m\u001b[0m\u001b[0;34m\u001b[0m\u001b[0m\n\u001b[0;32m--> 121\u001b[0;31m             remote_dir=upload_dir)\n\u001b[0m\u001b[1;32m    122\u001b[0m         \u001b[0;32mreturn\u001b[0m \u001b[0mself\u001b[0m\u001b[0;34m.\u001b[0m\u001b[0mpipeline\u001b[0m\u001b[0;34m\u001b[0m\u001b[0;34m\u001b[0m\u001b[0m\n\u001b[1;32m    123\u001b[0m \u001b[0;34m\u001b[0m\u001b[0m\n",
      "\u001b[0;32m~/analytics-zoo/pyzoo/zoo/automl/regression/base_predictor.py\u001b[0m in \u001b[0;36m_hp_search\u001b[0;34m(self, input_df, validation_df, metric, recipe, mc, resources_per_trial, remote_dir)\u001b[0m\n\u001b[1;32m    193\u001b[0m                          )\n\u001b[1;32m    194\u001b[0m         \u001b[0;31m# searcher.test_run()\u001b[0m\u001b[0;34m\u001b[0m\u001b[0;34m\u001b[0m\u001b[0;34m\u001b[0m\u001b[0m\n\u001b[0;32m--> 195\u001b[0;31m         \u001b[0manalysis\u001b[0m \u001b[0;34m=\u001b[0m \u001b[0msearcher\u001b[0m\u001b[0;34m.\u001b[0m\u001b[0mrun\u001b[0m\u001b[0;34m(\u001b[0m\u001b[0;34m)\u001b[0m\u001b[0;34m\u001b[0m\u001b[0;34m\u001b[0m\u001b[0m\n\u001b[0m\u001b[1;32m    196\u001b[0m \u001b[0;34m\u001b[0m\u001b[0m\n\u001b[1;32m    197\u001b[0m         pipeline = self._make_pipeline(analysis,\n",
      "\u001b[0;32m~/analytics-zoo/pyzoo/zoo/automl/search/ray_tune_search_engine.py\u001b[0m in \u001b[0;36mrun\u001b[0;34m(self)\u001b[0m\n\u001b[1;32m    229\u001b[0m             \u001b[0mresources_per_trial\u001b[0m\u001b[0;34m=\u001b[0m\u001b[0mself\u001b[0m\u001b[0;34m.\u001b[0m\u001b[0mresources_per_trail\u001b[0m\u001b[0;34m,\u001b[0m\u001b[0;34m\u001b[0m\u001b[0;34m\u001b[0m\u001b[0m\n\u001b[1;32m    230\u001b[0m             \u001b[0mverbose\u001b[0m\u001b[0;34m=\u001b[0m\u001b[0;36m1\u001b[0m\u001b[0;34m,\u001b[0m\u001b[0;34m\u001b[0m\u001b[0;34m\u001b[0m\u001b[0m\n\u001b[0;32m--> 231\u001b[0;31m             \u001b[0mreuse_actors\u001b[0m\u001b[0;34m=\u001b[0m\u001b[0;32mTrue\u001b[0m\u001b[0;34m\u001b[0m\u001b[0;34m\u001b[0m\u001b[0m\n\u001b[0m\u001b[1;32m    232\u001b[0m         )\n\u001b[1;32m    233\u001b[0m         \u001b[0mself\u001b[0m\u001b[0;34m.\u001b[0m\u001b[0mtrials\u001b[0m \u001b[0;34m=\u001b[0m \u001b[0manalysis\u001b[0m\u001b[0;34m.\u001b[0m\u001b[0mtrials\u001b[0m\u001b[0;34m\u001b[0m\u001b[0;34m\u001b[0m\u001b[0m\n",
      "\u001b[0;32m~/anaconda3/envs/automl/lib/python3.6/site-packages/ray/tune/tune.py\u001b[0m in \u001b[0;36mrun\u001b[0;34m(run_or_experiment, name, metric, mode, stop, time_budget_s, config, resources_per_trial, num_samples, local_dir, search_alg, scheduler, keep_checkpoints_num, checkpoint_score_attr, checkpoint_freq, checkpoint_at_end, verbose, progress_reporter, log_to_file, trial_name_creator, trial_dirname_creator, sync_config, export_formats, max_failures, fail_fast, restore, server_port, resume, queue_trials, reuse_actors, trial_executor, raise_on_failed_trial, callbacks, loggers, ray_auto_init, run_errored_only, global_checkpoint_period, with_server, upload_dir, sync_to_cloud, sync_to_driver, sync_on_checkpoint)\u001b[0m\n\u001b[1;32m    442\u001b[0m     \u001b[0;32mif\u001b[0m \u001b[0mincomplete_trials\u001b[0m\u001b[0;34m:\u001b[0m\u001b[0;34m\u001b[0m\u001b[0;34m\u001b[0m\u001b[0m\n\u001b[1;32m    443\u001b[0m         \u001b[0;32mif\u001b[0m \u001b[0mraise_on_failed_trial\u001b[0m\u001b[0;34m:\u001b[0m\u001b[0;34m\u001b[0m\u001b[0;34m\u001b[0m\u001b[0m\n\u001b[0;32m--> 444\u001b[0;31m             \u001b[0;32mraise\u001b[0m \u001b[0mTuneError\u001b[0m\u001b[0;34m(\u001b[0m\u001b[0;34m\"Trials did not complete\"\u001b[0m\u001b[0;34m,\u001b[0m \u001b[0mincomplete_trials\u001b[0m\u001b[0;34m)\u001b[0m\u001b[0;34m\u001b[0m\u001b[0;34m\u001b[0m\u001b[0m\n\u001b[0m\u001b[1;32m    445\u001b[0m         \u001b[0;32melse\u001b[0m\u001b[0;34m:\u001b[0m\u001b[0;34m\u001b[0m\u001b[0;34m\u001b[0m\u001b[0m\n\u001b[1;32m    446\u001b[0m             \u001b[0mlogger\u001b[0m\u001b[0;34m.\u001b[0m\u001b[0merror\u001b[0m\u001b[0;34m(\u001b[0m\u001b[0;34m\"Trials did not complete: %s\"\u001b[0m\u001b[0;34m,\u001b[0m \u001b[0mincomplete_trials\u001b[0m\u001b[0;34m)\u001b[0m\u001b[0;34m\u001b[0m\u001b[0;34m\u001b[0m\u001b[0m\n",
      "\u001b[0;31mTuneError\u001b[0m: ('Trials did not complete', [train_func_ed5db_00000, train_func_ed5db_00001, train_func_ed5db_00002])"
     ]
    }
   ],
   "source": [
    "%%time\n",
    "ts_pipeline = trainer.fit(train_df, val_df, \n",
    "                          recipe=LSTMGridRandomRecipe(\n",
    "                              num_rand_samples=1,\n",
    "                              epochs=1,\n",
    "                              look_back=look_back, \n",
    "                              batch_size=[64]),\n",
    "                          metric=\"mse\")"
   ]
  },
  {
   "cell_type": "markdown",
   "metadata": {},
   "source": [
    "We get a `TSPipeline` after training. Let's print the hyper paramters selected.\n",
    "Note that `past_seq_len` is the lookback value that is automatically chosen"
   ]
  },
  {
   "cell_type": "code",
   "execution_count": 25,
   "metadata": {
    "ExecuteTime": {
     "end_time": "2020-04-05T09:48:10.610297Z",
     "start_time": "2020-04-05T09:48:10.607153Z"
    }
   },
   "outputs": [
    {
     "ename": "NameError",
     "evalue": "name 'ts_pipeline' is not defined",
     "output_type": "error",
     "traceback": [
      "\u001b[0;31m---------------------------------------------------------------------------\u001b[0m",
      "\u001b[0;31mNameError\u001b[0m                                 Traceback (most recent call last)",
      "\u001b[0;32m<ipython-input-25-657291dc9511>\u001b[0m in \u001b[0;36m<module>\u001b[0;34m\u001b[0m\n\u001b[0;32m----> 1\u001b[0;31m \u001b[0mts_pipeline\u001b[0m\u001b[0;34m.\u001b[0m\u001b[0minternal\u001b[0m\u001b[0;34m.\u001b[0m\u001b[0mconfig\u001b[0m\u001b[0;34m\u001b[0m\u001b[0;34m\u001b[0m\u001b[0m\n\u001b[0m",
      "\u001b[0;31mNameError\u001b[0m: name 'ts_pipeline' is not defined"
     ]
    }
   ],
   "source": [
    "ts_pipeline.internal.config"
   ]
  },
  {
   "cell_type": "markdown",
   "metadata": {},
   "source": [
    "Use it to do prediction, evaluation or incremental fitting."
   ]
  },
  {
   "cell_type": "code",
   "execution_count": null,
   "metadata": {
    "ExecuteTime": {
     "end_time": "2020-04-05T09:48:18.212911Z",
     "start_time": "2020-04-05T09:48:17.672724Z"
    }
   },
   "outputs": [],
   "source": [
    "pred_df = ts_pipeline.predict(test_df)"
   ]
  },
  {
   "cell_type": "markdown",
   "metadata": {},
   "source": [
    "plot actual and prediction values for `AvgRate` KPI"
   ]
  },
  {
   "cell_type": "code",
   "execution_count": null,
   "metadata": {
    "ExecuteTime": {
     "end_time": "2020-04-05T09:48:20.239860Z",
     "start_time": "2020-04-05T09:48:20.074644Z"
    },
    "scrolled": true
   },
   "outputs": [],
   "source": [
    "# plot the predicted values and actual values\n",
    "plot_result(test_df, pred_df, dt_col=\"datetime\", value_col=\"AvgRate\", look_back=ts_pipeline.internal.config['past_seq_len'])"
   ]
  },
  {
   "cell_type": "markdown",
   "metadata": {},
   "source": [
    "Calculate mean square error and the symetric mean absolute percentage error."
   ]
  },
  {
   "cell_type": "code",
   "execution_count": null,
   "metadata": {
    "ExecuteTime": {
     "end_time": "2020-04-05T09:48:24.353282Z",
     "start_time": "2020-04-05T09:48:23.926760Z"
    }
   },
   "outputs": [],
   "source": [
    "mse, smape = ts_pipeline.evaluate(test_df, metrics=[\"mse\", \"smape\"])\n",
    "print(\"Evaluate: the mean square error is\", mse)\n",
    "print(\"Evaluate: the smape value is\", smape)"
   ]
  },
  {
   "cell_type": "markdown",
   "metadata": {},
   "source": [
    "You can save the pipeline to file and reload it to do incremental fitting or others."
   ]
  },
  {
   "cell_type": "code",
   "execution_count": null,
   "metadata": {
    "ExecuteTime": {
     "end_time": "2020-04-05T09:48:30.202808Z",
     "start_time": "2020-04-05T09:48:30.023909Z"
    }
   },
   "outputs": [],
   "source": [
    "# save pipeline file\n",
    "my_ppl_file_path = ts_pipeline.save(\"/tmp/saved_pipeline/my.ppl\")"
   ]
  },
  {
   "cell_type": "markdown",
   "metadata": {},
   "source": [
    "You can stop RayOnSpark after auto training."
   ]
  },
  {
   "cell_type": "code",
   "execution_count": null,
   "metadata": {
    "ExecuteTime": {
     "end_time": "2020-04-05T09:48:33.286478Z",
     "start_time": "2020-04-05T09:48:32.916403Z"
    }
   },
   "outputs": [],
   "source": [
    "# stop\n",
    "ray_ctx.stop()\n",
    "sc.stop()"
   ]
  },
  {
   "cell_type": "markdown",
   "metadata": {},
   "source": [
    "Next, we demonstrate how to do incremental fitting with your saved pipeline file."
   ]
  },
  {
   "cell_type": "markdown",
   "metadata": {},
   "source": [
    "First load saved pipeline file."
   ]
  },
  {
   "cell_type": "code",
   "execution_count": 27,
   "metadata": {
    "ExecuteTime": {
     "end_time": "2020-04-05T09:48:37.523732Z",
     "start_time": "2020-04-05T09:48:35.745574Z"
    }
   },
   "outputs": [
    {
     "ename": "NameError",
     "evalue": "name 'my_ppl_file_path' is not defined",
     "output_type": "error",
     "traceback": [
      "\u001b[0;31m---------------------------------------------------------------------------\u001b[0m",
      "\u001b[0;31mNameError\u001b[0m                                 Traceback (most recent call last)",
      "\u001b[0;32m<ipython-input-27-1f9a76c02d2f>\u001b[0m in \u001b[0;36m<module>\u001b[0;34m\u001b[0m\n\u001b[1;32m      1\u001b[0m \u001b[0;31m# load file\u001b[0m\u001b[0;34m\u001b[0m\u001b[0;34m\u001b[0m\u001b[0;34m\u001b[0m\u001b[0m\n\u001b[1;32m      2\u001b[0m \u001b[0;32mfrom\u001b[0m \u001b[0mzoo\u001b[0m\u001b[0;34m.\u001b[0m\u001b[0mzouwu\u001b[0m\u001b[0;34m.\u001b[0m\u001b[0mautots\u001b[0m\u001b[0;34m.\u001b[0m\u001b[0mforecast\u001b[0m \u001b[0;32mimport\u001b[0m \u001b[0mTSPipeline\u001b[0m\u001b[0;34m\u001b[0m\u001b[0;34m\u001b[0m\u001b[0m\n\u001b[0;32m----> 3\u001b[0;31m \u001b[0mloaded_ppl\u001b[0m \u001b[0;34m=\u001b[0m \u001b[0mTSPipeline\u001b[0m\u001b[0;34m.\u001b[0m\u001b[0mload\u001b[0m\u001b[0;34m(\u001b[0m\u001b[0mmy_ppl_file_path\u001b[0m\u001b[0;34m)\u001b[0m\u001b[0;34m\u001b[0m\u001b[0;34m\u001b[0m\u001b[0m\n\u001b[0m",
      "\u001b[0;31mNameError\u001b[0m: name 'my_ppl_file_path' is not defined"
     ]
    }
   ],
   "source": [
    "# load file\n",
    "from zoo.zouwu.autots.forecast import TSPipeline\n",
    "loaded_ppl = TSPipeline.load(my_ppl_file_path)"
   ]
  },
  {
   "cell_type": "markdown",
   "metadata": {},
   "source": [
    "Then do incremental fitting with `TSPipeline.fit()`.We use validation data frame as additional data for demonstration. You can use your new data frame.\n"
   ]
  },
  {
   "cell_type": "code",
   "execution_count": null,
   "metadata": {
    "ExecuteTime": {
     "end_time": "2020-04-05T09:50:10.820564Z",
     "start_time": "2020-04-05T09:50:09.321120Z"
    }
   },
   "outputs": [],
   "source": [
    "# we use validation data frame as additional data for demonstration. \n",
    "loaded_ppl.fit(val_df, epochs=2)"
   ]
  },
  {
   "cell_type": "markdown",
   "metadata": {},
   "source": [
    "predict and plot the result after incremental fitting."
   ]
  },
  {
   "cell_type": "code",
   "execution_count": null,
   "metadata": {
    "ExecuteTime": {
     "end_time": "2020-04-05T09:50:13.535064Z",
     "start_time": "2020-04-05T09:50:13.007472Z"
    }
   },
   "outputs": [],
   "source": [
    "# predict results of test_df\n",
    "new_pred_df = loaded_ppl.predict(test_df)\n",
    "plot_result(test_df, new_pred_df, look_back=loaded_ppl.internal.config['past_seq_len'])"
   ]
  },
  {
   "cell_type": "markdown",
   "metadata": {},
   "source": [
    "Calculate mean square error and the symetric mean absolute percentage error."
   ]
  },
  {
   "cell_type": "code",
   "execution_count": null,
   "metadata": {
    "ExecuteTime": {
     "end_time": "2020-04-05T09:50:16.412656Z",
     "start_time": "2020-04-05T09:50:15.986206Z"
    }
   },
   "outputs": [],
   "source": [
    "# evaluate test_df\n",
    "mse, smape = loaded_ppl.evaluate(test_df, metrics=[\"mse\", \"smape\"])\n",
    "print(\"Evaluate: the mean square error is\", mse)\n",
    "print(\"Evaluate: the smape value is\", smape)"
   ]
  },
  {
   "cell_type": "code",
   "execution_count": null,
   "metadata": {},
   "outputs": [],
   "source": []
  }
 ],
 "metadata": {
  "kernelspec": {
   "display_name": "automl",
   "language": "python",
   "name": "automl"
  },
  "language_info": {
   "codemirror_mode": {
    "name": "ipython",
    "version": 3
   },
   "file_extension": ".py",
   "mimetype": "text/x-python",
   "name": "python",
   "nbconvert_exporter": "python",
   "pygments_lexer": "ipython3",
   "version": "3.6.10"
  },
  "toc": {
   "base_numbering": 1,
   "nav_menu": {},
   "number_sections": true,
   "sideBar": true,
   "skip_h1_title": true,
   "title_cell": "Table of Contents",
   "title_sidebar": "Contents",
   "toc_cell": false,
   "toc_position": {},
   "toc_section_display": true,
   "toc_window_display": false
  }
 },
 "nbformat": 4,
 "nbformat_minor": 2
}
